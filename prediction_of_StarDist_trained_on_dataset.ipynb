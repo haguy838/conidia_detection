{
  "nbformat": 4,
  "nbformat_minor": 0,
  "metadata": {
    "colab": {
      "name": "prediction of StarDist trained on dataset.ipynb",
      "provenance": [],
      "toc_visible": true,
      "collapsed_sections": [
        "58V3wLjZjI6V"
      ]
    },
    "kernelspec": {
      "name": "python3",
      "display_name": "Python 3"
    },
    "language_info": {
      "name": "python"
    },
    "accelerator": "GPU"
  },
  "cells": [
    {
      "cell_type": "markdown",
      "source": [
        "#**image segmentation of mould spores from grayscale microscope images**\n",
        "\n",
        "**StarDist**\n",
        "\n",
        "- cell segmentation models\n",
        "\n"
      ],
      "metadata": {
        "id": "sfhlz34grLG0"
      }
    },
    {
      "cell_type": "markdown",
      "source": [
        "## imports, mount drive and directory paths"
      ],
      "metadata": {
        "id": "jxDK5bFjU1bB"
      }
    },
    {
      "cell_type": "code",
      "source": [
        "##imports\n",
        "# google drive\n",
        "from google.colab import drive\n",
        "#________________________________________________________________________________\n",
        "\n",
        "# openCV and PIL\n",
        "!pip install \"opencv-python-headless<4.3\"\n",
        "import cv2 as cv\n",
        "#________________________________________________________________________________\n",
        "\n",
        "# tensorflow and keras\n",
        "from keras.preprocessing.image import ImageDataGenerator\n",
        "import tensorflow as tf\n",
        "from tensorflow.keras.optimizers import Adam\n",
        "from tensorflow.keras.losses import binary_crossentropy\n",
        "from keras.layers import Input, Conv2D, Reshape\n",
        "from keras.models import Model\n",
        "from keras.models import Model, Sequential\n",
        "from keras import backend as K\n",
        "\n",
        "\n",
        "#________________________________________________________________________________\n",
        "\n",
        "# albumentations\n",
        "!pip install --upgrade git+https://github.com/albumentations-team/albumentations\n",
        "import albumentations as A\n",
        "#________________________________________________________________________________\n",
        "\n",
        "# others \n",
        "import os\n",
        "import numpy as np\n",
        "from random import sample\n",
        "from glob import glob\n",
        "import matplotlib.pyplot as plt \n",
        "import pandas as pd\n",
        "\n",
        "#________________________________________________________________________________\n",
        "\n",
        "# sklearn\n",
        "from sklearn.model_selection import train_test_split\n",
        "from sklearn.metrics import confusion_matrix\n",
        "from sklearn.metrics import jaccard_score\n",
        "\n",
        "#________________________________________________________________________________\n",
        "\n",
        "#pytorch\n",
        "from torch import stack\n",
        "#_______________________________________________________________________________\n",
        "\n",
        "#  stardist\n",
        "!pip install stardist\n",
        "from stardist.models import Config2D, StarDist2D, StarDistData2D\n",
        "from stardist.plot import render_label\n",
        "from stardist.matching import matching, matching_dataset\n",
        "import stardist\n",
        "from stardist import _draw_polygons\n",
        "from stardist import fill_label_holes\n",
        "\n",
        "# csbdeep\n",
        "from csbdeep.utils.tf import keras_import\n",
        "# from csbdeep.internals.nets import common_unet, custom_unet\n",
        "# from csbdeep.internals.blocks import unet_block, resnet_block\n",
        "from csbdeep.models import BaseModel, BaseConfig\n",
        "from csbdeep.utils import normalize\n",
        "\n",
        "\n",
        "#  stardist\n",
        "!pip install stardist\n",
        "from stardist.models import Config2D, StarDist2D, StarDistData2D\n",
        "from stardist.plot import render_label\n",
        "from stardist.matching import matching\n",
        "import stardist\n",
        "from stardist import _draw_polygons\n"
      ],
      "metadata": {
        "colab": {
          "base_uri": "https://localhost:8080/",
          "height": 1000
        },
        "id": "HDaVCgYPUjt5",
        "outputId": "f4e8ed0d-9b59-48e4-d5d7-ce64331ed756"
      },
      "execution_count": 1,
      "outputs": [
        {
          "output_type": "stream",
          "name": "stdout",
          "text": [
            "Collecting opencv-python-headless<4.3\n",
            "  Downloading opencv_python_headless-4.2.0.34-cp37-cp37m-manylinux1_x86_64.whl (21.6 MB)\n",
            "\u001b[K     |████████████████████████████████| 21.6 MB 1.5 MB/s \n",
            "\u001b[?25hRequirement already satisfied: numpy>=1.14.5 in /usr/local/lib/python3.7/dist-packages (from opencv-python-headless<4.3) (1.21.6)\n",
            "Installing collected packages: opencv-python-headless\n",
            "Successfully installed opencv-python-headless-4.2.0.34\n",
            "Collecting git+https://github.com/albumentations-team/albumentations\n",
            "  Cloning https://github.com/albumentations-team/albumentations to /tmp/pip-req-build-ihc6l8xl\n",
            "  Running command git clone -q https://github.com/albumentations-team/albumentations /tmp/pip-req-build-ihc6l8xl\n",
            "Requirement already satisfied: numpy>=1.11.1 in /usr/local/lib/python3.7/dist-packages (from albumentations==1.1.0) (1.21.6)\n",
            "Requirement already satisfied: scipy in /usr/local/lib/python3.7/dist-packages (from albumentations==1.1.0) (1.4.1)\n",
            "Requirement already satisfied: scikit-image<0.19,>=0.16.1 in /usr/local/lib/python3.7/dist-packages (from albumentations==1.1.0) (0.18.3)\n",
            "Requirement already satisfied: PyYAML in /usr/local/lib/python3.7/dist-packages (from albumentations==1.1.0) (3.13)\n",
            "Collecting qudida>=0.0.4\n",
            "  Downloading qudida-0.0.4-py3-none-any.whl (3.5 kB)\n",
            "Requirement already satisfied: opencv-python>=4.1.1 in /usr/local/lib/python3.7/dist-packages (from albumentations==1.1.0) (4.1.2.30)\n",
            "Requirement already satisfied: scikit-learn>=0.19.1 in /usr/local/lib/python3.7/dist-packages (from qudida>=0.0.4->albumentations==1.1.0) (1.0.2)\n",
            "Requirement already satisfied: opencv-python-headless>=4.0.1 in /usr/local/lib/python3.7/dist-packages (from qudida>=0.0.4->albumentations==1.1.0) (4.2.0.34)\n",
            "Requirement already satisfied: typing-extensions in /usr/local/lib/python3.7/dist-packages (from qudida>=0.0.4->albumentations==1.1.0) (4.2.0)\n",
            "Requirement already satisfied: tifffile>=2019.7.26 in /usr/local/lib/python3.7/dist-packages (from scikit-image<0.19,>=0.16.1->albumentations==1.1.0) (2021.11.2)\n",
            "Requirement already satisfied: networkx>=2.0 in /usr/local/lib/python3.7/dist-packages (from scikit-image<0.19,>=0.16.1->albumentations==1.1.0) (2.6.3)\n",
            "Requirement already satisfied: imageio>=2.3.0 in /usr/local/lib/python3.7/dist-packages (from scikit-image<0.19,>=0.16.1->albumentations==1.1.0) (2.4.1)\n",
            "Requirement already satisfied: matplotlib!=3.0.0,>=2.0.0 in /usr/local/lib/python3.7/dist-packages (from scikit-image<0.19,>=0.16.1->albumentations==1.1.0) (3.2.2)\n",
            "Requirement already satisfied: PyWavelets>=1.1.1 in /usr/local/lib/python3.7/dist-packages (from scikit-image<0.19,>=0.16.1->albumentations==1.1.0) (1.3.0)\n",
            "Requirement already satisfied: pillow!=7.1.0,!=7.1.1,>=4.3.0 in /usr/local/lib/python3.7/dist-packages (from scikit-image<0.19,>=0.16.1->albumentations==1.1.0) (7.1.2)\n",
            "Requirement already satisfied: python-dateutil>=2.1 in /usr/local/lib/python3.7/dist-packages (from matplotlib!=3.0.0,>=2.0.0->scikit-image<0.19,>=0.16.1->albumentations==1.1.0) (2.8.2)\n",
            "Requirement already satisfied: pyparsing!=2.0.4,!=2.1.2,!=2.1.6,>=2.0.1 in /usr/local/lib/python3.7/dist-packages (from matplotlib!=3.0.0,>=2.0.0->scikit-image<0.19,>=0.16.1->albumentations==1.1.0) (3.0.8)\n",
            "Requirement already satisfied: cycler>=0.10 in /usr/local/lib/python3.7/dist-packages (from matplotlib!=3.0.0,>=2.0.0->scikit-image<0.19,>=0.16.1->albumentations==1.1.0) (0.11.0)\n",
            "Requirement already satisfied: kiwisolver>=1.0.1 in /usr/local/lib/python3.7/dist-packages (from matplotlib!=3.0.0,>=2.0.0->scikit-image<0.19,>=0.16.1->albumentations==1.1.0) (1.4.2)\n",
            "Requirement already satisfied: six>=1.5 in /usr/local/lib/python3.7/dist-packages (from python-dateutil>=2.1->matplotlib!=3.0.0,>=2.0.0->scikit-image<0.19,>=0.16.1->albumentations==1.1.0) (1.15.0)\n",
            "Requirement already satisfied: threadpoolctl>=2.0.0 in /usr/local/lib/python3.7/dist-packages (from scikit-learn>=0.19.1->qudida>=0.0.4->albumentations==1.1.0) (3.1.0)\n",
            "Requirement already satisfied: joblib>=0.11 in /usr/local/lib/python3.7/dist-packages (from scikit-learn>=0.19.1->qudida>=0.0.4->albumentations==1.1.0) (1.1.0)\n",
            "Building wheels for collected packages: albumentations\n",
            "  Building wheel for albumentations (setup.py) ... \u001b[?25l\u001b[?25hdone\n",
            "  Created wheel for albumentations: filename=albumentations-1.1.0-py3-none-any.whl size=112723 sha256=5a9d47c7d9bbafdbc6db5042f89b4cf4eaf1de73a3e6b796114be2bb248ad794\n",
            "  Stored in directory: /tmp/pip-ephem-wheel-cache-3uyq9epy/wheels/3a/25/ed/ec3b518e7a332d7f0a3bb37c280e1b784cf2f79b94b3c7d00b\n",
            "Successfully built albumentations\n",
            "Installing collected packages: qudida, albumentations\n",
            "  Attempting uninstall: albumentations\n",
            "    Found existing installation: albumentations 0.1.12\n",
            "    Uninstalling albumentations-0.1.12:\n",
            "      Successfully uninstalled albumentations-0.1.12\n",
            "Successfully installed albumentations-1.1.0 qudida-0.0.4\n",
            "Collecting stardist\n",
            "  Downloading stardist-0.8.2-cp37-cp37m-manylinux_2_17_x86_64.manylinux2014_x86_64.whl (3.0 MB)\n",
            "\u001b[K     |████████████████████████████████| 3.0 MB 5.3 MB/s \n",
            "\u001b[?25hCollecting csbdeep>=0.6.3\n",
            "  Downloading csbdeep-0.6.3-py2.py3-none-any.whl (73 kB)\n",
            "\u001b[K     |████████████████████████████████| 73 kB 2.0 MB/s \n",
            "\u001b[?25hRequirement already satisfied: imageio in /usr/local/lib/python3.7/dist-packages (from stardist) (2.4.1)\n",
            "Requirement already satisfied: numba in /usr/local/lib/python3.7/dist-packages (from stardist) (0.51.2)\n",
            "Requirement already satisfied: scikit-image in /usr/local/lib/python3.7/dist-packages (from stardist) (0.18.3)\n",
            "Requirement already satisfied: six in /usr/local/lib/python3.7/dist-packages (from csbdeep>=0.6.3->stardist) (1.15.0)\n",
            "Requirement already satisfied: numpy in /usr/local/lib/python3.7/dist-packages (from csbdeep>=0.6.3->stardist) (1.21.6)\n",
            "Requirement already satisfied: matplotlib in /usr/local/lib/python3.7/dist-packages (from csbdeep>=0.6.3->stardist) (3.2.2)\n",
            "Requirement already satisfied: tifffile in /usr/local/lib/python3.7/dist-packages (from csbdeep>=0.6.3->stardist) (2021.11.2)\n",
            "Requirement already satisfied: tqdm in /usr/local/lib/python3.7/dist-packages (from csbdeep>=0.6.3->stardist) (4.64.0)\n",
            "Collecting h5py<3\n",
            "  Downloading h5py-2.10.0-cp37-cp37m-manylinux1_x86_64.whl (2.9 MB)\n",
            "\u001b[K     |████████████████████████████████| 2.9 MB 23.0 MB/s \n",
            "\u001b[?25hRequirement already satisfied: scipy in /usr/local/lib/python3.7/dist-packages (from csbdeep>=0.6.3->stardist) (1.4.1)\n",
            "Requirement already satisfied: pillow in /usr/local/lib/python3.7/dist-packages (from imageio->stardist) (7.1.2)\n",
            "Requirement already satisfied: pyparsing!=2.0.4,!=2.1.2,!=2.1.6,>=2.0.1 in /usr/local/lib/python3.7/dist-packages (from matplotlib->csbdeep>=0.6.3->stardist) (3.0.8)\n",
            "Requirement already satisfied: python-dateutil>=2.1 in /usr/local/lib/python3.7/dist-packages (from matplotlib->csbdeep>=0.6.3->stardist) (2.8.2)\n",
            "Requirement already satisfied: kiwisolver>=1.0.1 in /usr/local/lib/python3.7/dist-packages (from matplotlib->csbdeep>=0.6.3->stardist) (1.4.2)\n",
            "Requirement already satisfied: cycler>=0.10 in /usr/local/lib/python3.7/dist-packages (from matplotlib->csbdeep>=0.6.3->stardist) (0.11.0)\n",
            "Requirement already satisfied: typing-extensions in /usr/local/lib/python3.7/dist-packages (from kiwisolver>=1.0.1->matplotlib->csbdeep>=0.6.3->stardist) (4.2.0)\n",
            "Requirement already satisfied: setuptools in /usr/local/lib/python3.7/dist-packages (from numba->stardist) (57.4.0)\n",
            "Requirement already satisfied: llvmlite<0.35,>=0.34.0.dev0 in /usr/local/lib/python3.7/dist-packages (from numba->stardist) (0.34.0)\n",
            "Requirement already satisfied: PyWavelets>=1.1.1 in /usr/local/lib/python3.7/dist-packages (from scikit-image->stardist) (1.3.0)\n",
            "Requirement already satisfied: networkx>=2.0 in /usr/local/lib/python3.7/dist-packages (from scikit-image->stardist) (2.6.3)\n",
            "Installing collected packages: h5py, csbdeep, stardist\n",
            "  Attempting uninstall: h5py\n",
            "    Found existing installation: h5py 3.1.0\n",
            "    Uninstalling h5py-3.1.0:\n",
            "      Successfully uninstalled h5py-3.1.0\n",
            "\u001b[31mERROR: pip's dependency resolver does not currently take into account all the packages that are installed. This behaviour is the source of the following dependency conflicts.\n",
            "tensorflow 2.8.0 requires tf-estimator-nightly==2.8.0.dev2021122109, which is not installed.\u001b[0m\n",
            "Successfully installed csbdeep-0.6.3 h5py-2.10.0 stardist-0.8.2\n"
          ]
        },
        {
          "output_type": "display_data",
          "data": {
            "application/vnd.colab-display-data+json": {
              "pip_warning": {
                "packages": [
                  "h5py"
                ]
              }
            }
          },
          "metadata": {}
        },
        {
          "output_type": "stream",
          "name": "stdout",
          "text": [
            "Requirement already satisfied: stardist in /usr/local/lib/python3.7/dist-packages (0.8.2)\n",
            "Requirement already satisfied: imageio in /usr/local/lib/python3.7/dist-packages (from stardist) (2.4.1)\n",
            "Requirement already satisfied: scikit-image in /usr/local/lib/python3.7/dist-packages (from stardist) (0.18.3)\n",
            "Requirement already satisfied: numba in /usr/local/lib/python3.7/dist-packages (from stardist) (0.51.2)\n",
            "Requirement already satisfied: csbdeep>=0.6.3 in /usr/local/lib/python3.7/dist-packages (from stardist) (0.6.3)\n",
            "Requirement already satisfied: tqdm in /usr/local/lib/python3.7/dist-packages (from csbdeep>=0.6.3->stardist) (4.64.0)\n",
            "Requirement already satisfied: scipy in /usr/local/lib/python3.7/dist-packages (from csbdeep>=0.6.3->stardist) (1.4.1)\n",
            "Requirement already satisfied: h5py<3 in /usr/local/lib/python3.7/dist-packages (from csbdeep>=0.6.3->stardist) (2.10.0)\n",
            "Requirement already satisfied: numpy in /usr/local/lib/python3.7/dist-packages (from csbdeep>=0.6.3->stardist) (1.21.6)\n",
            "Requirement already satisfied: six in /usr/local/lib/python3.7/dist-packages (from csbdeep>=0.6.3->stardist) (1.15.0)\n",
            "Requirement already satisfied: tifffile in /usr/local/lib/python3.7/dist-packages (from csbdeep>=0.6.3->stardist) (2021.11.2)\n",
            "Requirement already satisfied: matplotlib in /usr/local/lib/python3.7/dist-packages (from csbdeep>=0.6.3->stardist) (3.2.2)\n",
            "Requirement already satisfied: pillow in /usr/local/lib/python3.7/dist-packages (from imageio->stardist) (7.1.2)\n",
            "Requirement already satisfied: cycler>=0.10 in /usr/local/lib/python3.7/dist-packages (from matplotlib->csbdeep>=0.6.3->stardist) (0.11.0)\n",
            "Requirement already satisfied: pyparsing!=2.0.4,!=2.1.2,!=2.1.6,>=2.0.1 in /usr/local/lib/python3.7/dist-packages (from matplotlib->csbdeep>=0.6.3->stardist) (3.0.8)\n",
            "Requirement already satisfied: kiwisolver>=1.0.1 in /usr/local/lib/python3.7/dist-packages (from matplotlib->csbdeep>=0.6.3->stardist) (1.4.2)\n",
            "Requirement already satisfied: python-dateutil>=2.1 in /usr/local/lib/python3.7/dist-packages (from matplotlib->csbdeep>=0.6.3->stardist) (2.8.2)\n",
            "Requirement already satisfied: typing-extensions in /usr/local/lib/python3.7/dist-packages (from kiwisolver>=1.0.1->matplotlib->csbdeep>=0.6.3->stardist) (4.2.0)\n",
            "Requirement already satisfied: llvmlite<0.35,>=0.34.0.dev0 in /usr/local/lib/python3.7/dist-packages (from numba->stardist) (0.34.0)\n",
            "Requirement already satisfied: setuptools in /usr/local/lib/python3.7/dist-packages (from numba->stardist) (57.4.0)\n",
            "Requirement already satisfied: PyWavelets>=1.1.1 in /usr/local/lib/python3.7/dist-packages (from scikit-image->stardist) (1.3.0)\n",
            "Requirement already satisfied: networkx>=2.0 in /usr/local/lib/python3.7/dist-packages (from scikit-image->stardist) (2.6.3)\n"
          ]
        }
      ]
    },
    {
      "cell_type": "code",
      "source": [
        "## if gpu is on use gpu\n",
        "if_gpu = tf.test.gpu_device_name()\n",
        "use_gpu = False\n",
        "if if_gpu == '/device:GPU:0':\n",
        "  !pip install pyopencl\n",
        "  import pyopencl\n",
        "  !pip install gputools\n",
        "  import gputools\n",
        "  use_gpu = True\n",
        "\n",
        "use_gpu"
      ],
      "metadata": {
        "id": "I400T9dT8opo",
        "colab": {
          "base_uri": "https://localhost:8080/"
        },
        "outputId": "d4718c72-48ac-4514-ba93-a7414ecff320"
      },
      "execution_count": 2,
      "outputs": [
        {
          "output_type": "stream",
          "name": "stdout",
          "text": [
            "Collecting pyopencl\n",
            "  Downloading pyopencl-2022.1.3-cp37-cp37m-manylinux_2_17_x86_64.manylinux2014_x86_64.whl (884 kB)\n",
            "\u001b[K     |████████████████████████████████| 884 kB 5.3 MB/s \n",
            "\u001b[?25hCollecting pytools>=2021.2.7\n",
            "  Downloading pytools-2022.1.7.tar.gz (69 kB)\n",
            "\u001b[K     |████████████████████████████████| 69 kB 7.0 MB/s \n",
            "\u001b[?25hCollecting platformdirs>=2.2.0\n",
            "  Downloading platformdirs-2.5.2-py3-none-any.whl (14 kB)\n",
            "Requirement already satisfied: numpy in /usr/local/lib/python3.7/dist-packages (from pyopencl) (1.21.6)\n",
            "Requirement already satisfied: typing_extensions>=4.0 in /usr/local/lib/python3.7/dist-packages (from pytools>=2021.2.7->pyopencl) (4.2.0)\n",
            "Building wheels for collected packages: pytools\n",
            "  Building wheel for pytools (setup.py) ... \u001b[?25l\u001b[?25hdone\n",
            "  Created wheel for pytools: filename=pytools-2022.1.7-py2.py3-none-any.whl size=64772 sha256=034b3a25a07e9fd8fda4af9f52ab232dfaa01990e9ae98f348ca86cebdb138b9\n",
            "  Stored in directory: /root/.cache/pip/wheels/24/c3/8d/9b093180175460a5fc613220b26027ae97cecbbf94fd3822af\n",
            "Successfully built pytools\n",
            "Installing collected packages: platformdirs, pytools, pyopencl\n",
            "Successfully installed platformdirs-2.5.2 pyopencl-2022.1.3 pytools-2022.1.7\n",
            "Collecting gputools\n",
            "  Downloading gputools-0.2.13-py3-none-any.whl (152 kB)\n",
            "\u001b[K     |████████████████████████████████| 152 kB 5.4 MB/s \n",
            "\u001b[?25hRequirement already satisfied: numpy>=1.11.0 in /usr/local/lib/python3.7/dist-packages (from gputools) (1.21.6)\n",
            "Requirement already satisfied: pyopencl>=2016.1 in /usr/local/lib/python3.7/dist-packages (from gputools) (2022.1.3)\n",
            "Requirement already satisfied: scipy in /usr/local/lib/python3.7/dist-packages (from gputools) (1.4.1)\n",
            "Requirement already satisfied: six in /usr/local/lib/python3.7/dist-packages (from gputools) (1.15.0)\n",
            "Collecting reikna>=0.6.7\n",
            "  Downloading reikna-0.7.6.tar.gz (191 kB)\n",
            "\u001b[K     |████████████████████████████████| 191 kB 45.2 MB/s \n",
            "\u001b[?25hCollecting configparser\n",
            "  Downloading configparser-5.2.0-py3-none-any.whl (19 kB)\n",
            "Requirement already satisfied: pytools>=2021.2.7 in /usr/local/lib/python3.7/dist-packages (from pyopencl>=2016.1->gputools) (2022.1.7)\n",
            "Requirement already satisfied: platformdirs>=2.2.0 in /usr/local/lib/python3.7/dist-packages (from pyopencl>=2016.1->gputools) (2.5.2)\n",
            "Requirement already satisfied: typing-extensions>=4.0 in /usr/local/lib/python3.7/dist-packages (from pytools>=2021.2.7->pyopencl>=2016.1->gputools) (4.2.0)\n",
            "Collecting mako>=0.8.0\n",
            "  Downloading Mako-1.2.0-py3-none-any.whl (78 kB)\n",
            "\u001b[K     |████████████████████████████████| 78 kB 6.3 MB/s \n",
            "\u001b[?25hCollecting funcsigs>=0.3\n",
            "  Downloading funcsigs-1.0.2-py2.py3-none-any.whl (17 kB)\n",
            "Requirement already satisfied: importlib-metadata in /usr/local/lib/python3.7/dist-packages (from mako>=0.8.0->reikna>=0.6.7->gputools) (4.11.3)\n",
            "Requirement already satisfied: MarkupSafe>=0.9.2 in /usr/local/lib/python3.7/dist-packages (from mako>=0.8.0->reikna>=0.6.7->gputools) (2.0.1)\n",
            "Requirement already satisfied: zipp>=0.5 in /usr/local/lib/python3.7/dist-packages (from importlib-metadata->mako>=0.8.0->reikna>=0.6.7->gputools) (3.8.0)\n",
            "Building wheels for collected packages: reikna\n",
            "  Building wheel for reikna (setup.py) ... \u001b[?25l\u001b[?25hdone\n",
            "  Created wheel for reikna: filename=reikna-0.7.6-py3-none-any.whl size=122375 sha256=ec32bc90363111df4b2bf015bd40794173028bfcfffa66d12ab7101ee13534fa\n",
            "  Stored in directory: /root/.cache/pip/wheels/fd/c4/91/27633985abbbb1b611bdd8453593cd0104f816e9b57b1c0d7f\n",
            "Successfully built reikna\n",
            "Installing collected packages: mako, funcsigs, reikna, configparser, gputools\n",
            "Successfully installed configparser-5.2.0 funcsigs-1.0.2 gputools-0.2.13 mako-1.2.0 reikna-0.7.6\n",
            "Warning: Could not find scikit-tensor which is needed for separable approximations...\n",
            "If you want to compute separable approximations, please install it with\n",
            "pip install scikit-tensor-py3\n"
          ]
        },
        {
          "output_type": "execute_result",
          "data": {
            "text/plain": [
              "True"
            ]
          },
          "metadata": {},
          "execution_count": 2
        }
      ]
    },
    {
      "cell_type": "code",
      "source": [
        "print(A.__version__)"
      ],
      "metadata": {
        "colab": {
          "base_uri": "https://localhost:8080/"
        },
        "id": "Lq6HXm8peOtd",
        "outputId": "e067b117-ed8f-4f0d-ffbd-c27d862035d7"
      },
      "execution_count": 3,
      "outputs": [
        {
          "output_type": "stream",
          "name": "stdout",
          "text": [
            "1.1.0\n"
          ]
        }
      ]
    },
    {
      "cell_type": "code",
      "source": [
        "##mount drive\n",
        "# unmount drive to refresh directories\n",
        "drive.flush_and_unmount()\n",
        "\n",
        "print('drive unmounted')\n",
        "\n",
        "# mount drive\n",
        "drive.mount('/content/drive')\n"
      ],
      "metadata": {
        "id": "1dcOv1c9i1Ee",
        "colab": {
          "base_uri": "https://localhost:8080/"
        },
        "outputId": "2a38b711-c088-443d-c899-b179bff0b0e2"
      },
      "execution_count": 4,
      "outputs": [
        {
          "output_type": "stream",
          "name": "stdout",
          "text": [
            "Drive not mounted, so nothing to flush and unmount.\n",
            "drive unmounted\n",
            "Mounted at /content/drive\n"
          ]
        }
      ]
    },
    {
      "cell_type": "code",
      "source": [
        "## directory paths\n",
        "DIR_IMGS = '/content/drive/MyDrive/Spores/images'\n",
        "# DIR_FXD_LBLS = '/content/drive/MyDrive/Spores/fixed masks'\n",
        "# DIR_AUG_IMGS = '/content/drive/MyDrive/Spores/train images'\n",
        "# DIR_AUG_LBLS = '/content/drive/MyDrive/Spores/train masks'\n",
        "DIR_LBLS = '/content/drive/MyDrive/Spores/masks'\n",
        "# DIR_VAL_IMGS = '/content/drive/MyDrive/Spores/validation images'\n",
        "# DIR_VAL_LBLS = '/content/drive/MyDrive/Spores/validation masks'"
      ],
      "metadata": {
        "id": "OzNxnXVzi3NI"
      },
      "execution_count": 5,
      "outputs": []
    },
    {
      "cell_type": "markdown",
      "source": [
        "## data exploration"
      ],
      "metadata": {
        "id": "DEMDNmjkkwkk"
      }
    },
    {
      "cell_type": "code",
      "source": [
        "#set images input shape as the largest input image\n",
        "img_height, img_width = 100, 100 "
      ],
      "metadata": {
        "id": "h-rwC_c1EBY2"
      },
      "execution_count": 6,
      "outputs": []
    },
    {
      "cell_type": "code",
      "source": [
        "## check for unfixed masks and unequal shapes\n",
        "def check_data(X_, y_, names):\n",
        "\n",
        "  for X, y, name in zip(X_, y_, names):\n",
        "    if (y.any() != 0) ^ (y.any() != 255):\n",
        "      print(f'{name} unfixed mask')\n",
        "    if y.shape != X.shape:\n",
        "      print(f'{name} unequal shapes')\n",
        "      print(f'image is in shape {X.shape}')\n",
        "      print(f'mask is in shape {y.shape}')\n",
        "\n",
        "  print(f'there are {len(X_)} samples')"
      ],
      "metadata": {
        "id": "oalER78x33ZU"
      },
      "execution_count": 7,
      "outputs": []
    },
    {
      "cell_type": "code",
      "source": [
        "## number of images in directory\n",
        "len(os.listdir(DIR_IMGS))"
      ],
      "metadata": {
        "colab": {
          "base_uri": "https://localhost:8080/"
        },
        "id": "w2OEQRZ5Q6R_",
        "outputId": "a4a26d81-ca95-4ff0-e952-36469b3bfc13"
      },
      "execution_count": 8,
      "outputs": [
        {
          "output_type": "execute_result",
          "data": {
            "text/plain": [
              "942"
            ]
          },
          "metadata": {},
          "execution_count": 8
        }
      ]
    },
    {
      "cell_type": "code",
      "source": [
        "## create a data frame of names and their coresponding images and masks\n",
        "\n",
        "names = []\n",
        "X = []\n",
        "y = []\n",
        "X_shape = []\n",
        "y_shape = []\n",
        "\n",
        "\n",
        "for name in os.listdir(DIR_IMGS):\n",
        "  path = f'{DIR_IMGS}/{name}'\n",
        "  mask_path = f'{DIR_LBLS}/{name}'\n",
        "  img = cv.imread(path)\n",
        "  msk = cv.imread(mask_path)\n",
        "\n",
        "  names.append(name)\n",
        "  X.append(img)\n",
        "  y.append(msk)\n",
        "\n",
        "data = pd.DataFrame()\n",
        "data['name'] = names\n",
        "data['X'] = X\n",
        "data['y'] = y\n"
      ],
      "metadata": {
        "id": "iDwxbYCulHm9"
      },
      "execution_count": 9,
      "outputs": []
    },
    {
      "cell_type": "code",
      "source": [
        "## check for images and masks with unequal shapes\n",
        "check_data(data['X'], data['y'], data['name'])"
      ],
      "metadata": {
        "colab": {
          "base_uri": "https://localhost:8080/"
        },
        "id": "KkVHtjzoTaGo",
        "outputId": "9d91cf75-70d4-4c86-f51c-d51ccaa528f7"
      },
      "execution_count": 10,
      "outputs": [
        {
          "output_type": "stream",
          "name": "stdout",
          "text": [
            "07_09_20_1_CB_152.png unequal shapes\n",
            "image is in shape (81, 81, 3)\n",
            "mask is in shape (80, 80, 3)\n",
            "07_09_20_1_CB_108.png unequal shapes\n",
            "image is in shape (85, 85, 3)\n",
            "mask is in shape (84, 84, 3)\n",
            "07_09_20_1_TB_103.png unequal shapes\n",
            "image is in shape (85, 85, 3)\n",
            "mask is in shape (84, 84, 3)\n",
            "10_08_20_1_CA_350.png unequal shapes\n",
            "image is in shape (90, 90, 3)\n",
            "mask is in shape (88, 88, 3)\n",
            "10_08_20_1_CA_418.png unequal shapes\n",
            "image is in shape (81, 81, 3)\n",
            "mask is in shape (80, 80, 3)\n",
            "10_08_20_1_CA_393.png unequal shapes\n",
            "image is in shape (90, 90, 3)\n",
            "mask is in shape (88, 88, 3)\n",
            "10_08_20_1_CA_420.png unequal shapes\n",
            "image is in shape (83, 83, 3)\n",
            "mask is in shape (80, 80, 3)\n",
            "10_08_20_1_CA_444.png unequal shapes\n",
            "image is in shape (90, 90, 3)\n",
            "mask is in shape (88, 88, 3)\n",
            "10_08_20_1_CA_5.png unequal shapes\n",
            "image is in shape (98, 98, 3)\n",
            "mask is in shape (96, 96, 3)\n",
            "10_08_20_1_CA_560.png unequal shapes\n",
            "image is in shape (89, 89, 3)\n",
            "mask is in shape (88, 88, 3)\n",
            "10_08_20_1_CA_9.png unequal shapes\n",
            "image is in shape (83, 83, 3)\n",
            "mask is in shape (80, 80, 3)\n",
            "10_08_20_1_CA_664.png unequal shapes\n",
            "image is in shape (93, 93, 3)\n",
            "mask is in shape (92, 92, 3)\n",
            "10_08_20_1_CA_680.png unequal shapes\n",
            "image is in shape (90, 90, 3)\n",
            "mask is in shape (88, 88, 3)\n",
            "there are 942 samples\n"
          ]
        }
      ]
    },
    {
      "cell_type": "code",
      "source": [
        "# filter samples with unequal shapes\n",
        "data['equal shapes'] = [X_.shape == y_.shape for X_, y_ in zip(data['X'], data['y'])]\n",
        "equal_data = data[data['equal shapes']].drop(columns = ['equal shapes'])\n",
        "check_data(equal_data['X'], equal_data['y'], equal_data['name'])"
      ],
      "metadata": {
        "colab": {
          "base_uri": "https://localhost:8080/"
        },
        "id": "GWuJCYFZGhkD",
        "outputId": "e9a61186-504e-4503-a61b-ad55a17dc5f1"
      },
      "execution_count": 11,
      "outputs": [
        {
          "output_type": "stream",
          "name": "stdout",
          "text": [
            "there are 929 samples\n"
          ]
        }
      ]
    },
    {
      "cell_type": "markdown",
      "source": [
        "## data pipeline\n",
        "\n"
      ],
      "metadata": {
        "id": "58V3wLjZjI6V"
      }
    },
    {
      "cell_type": "code",
      "source": [
        "# mask kernel for labels dilution\n",
        "dilution_kernel = (3,3)\n",
        "#________________________________________________________________________________\n",
        "\n",
        "# number of dilution iterations for labels dilution\n",
        "dilution_iterations = 2\n",
        "#________________________________________________________________________________\n"
      ],
      "metadata": {
        "id": "CQOB0bz-bpPn"
      },
      "execution_count": 12,
      "outputs": []
    },
    {
      "cell_type": "markdown",
      "source": [
        "### mask fix\n",
        "blacken all non-white pixels in all masks"
      ],
      "metadata": {
        "id": "A47_CTm0jz4O"
      }
    },
    {
      "cell_type": "code",
      "source": [
        "# function that fix mask images with specified dilution parameters\n",
        "def fix_mask(image, dilution_kernel = dilution_kernel,\n",
        "             dilution_iterations = dilution_iterations):\n",
        "\n",
        "   thresh = image.copy()\n",
        "   thresh[thresh != 255] = 0\n",
        "   thresh_dilate = cv.dilate(thresh, \n",
        "                             kernel = dilution_kernel,\n",
        "                             iterations = dilution_iterations)\n",
        "   return thresh_dilate"
      ],
      "metadata": {
        "id": "KwbNXserjQsp"
      },
      "execution_count": 13,
      "outputs": []
    },
    {
      "cell_type": "code",
      "source": [
        "## fix masks \n",
        "fixed_y = equal_data['y'].apply(lambda y : fix_mask(y))\n",
        "fixed_data = equal_data.copy()\n",
        "fixed_data['y'] = fixed_y"
      ],
      "metadata": {
        "id": "iL7pL7yybH6s"
      },
      "execution_count": 14,
      "outputs": []
    },
    {
      "cell_type": "code",
      "source": [
        "check_data(fixed_data['X'], fixed_data['y'], fixed_data['name'])"
      ],
      "metadata": {
        "colab": {
          "base_uri": "https://localhost:8080/"
        },
        "id": "ZfuokIY6lhLo",
        "outputId": "35bc0a2b-534b-443c-b972-8a5196b2fcc5"
      },
      "execution_count": 15,
      "outputs": [
        {
          "output_type": "stream",
          "name": "stdout",
          "text": [
            "there are 929 samples\n"
          ]
        }
      ]
    },
    {
      "cell_type": "markdown",
      "source": [
        "### split to train and validation"
      ],
      "metadata": {
        "id": "472tuCIvLKR4"
      }
    },
    {
      "cell_type": "code",
      "source": [
        "## precent of images to save for validation\n",
        "test_size= 0.1"
      ],
      "metadata": {
        "id": "gh8t2urmKNrP"
      },
      "execution_count": 16,
      "outputs": []
    },
    {
      "cell_type": "code",
      "source": [
        "## check for unfixed masks and unequal shapes \n",
        "def check_fixed_data(X_, y_):\n",
        "\n",
        "  for X, y, ind in zip(X_, y_, range(len(X_))):\n",
        "    if (y.any() != 0) ^ (y.any() != 255):\n",
        "      print(f'{ind}# unfixed mask')\n",
        "    if y.shape != X.shape:\n",
        "      print(f'{ind}# unequal shapes')\n",
        "      print(f'image is in shape {X.shape}')\n",
        "      print(f'mask is in shape {y.shape}')\n",
        "\n",
        "\n",
        "  print(f'there are {ind} samples')\n",
        "  "
      ],
      "metadata": {
        "id": "rSzX4sYRLlrf"
      },
      "execution_count": 17,
      "outputs": []
    },
    {
      "cell_type": "code",
      "source": [
        "def check_dim_shape_type(X, y):\n",
        "  # for i,j in zip(X, y):\n",
        "  #   if i.ndim != j.ndim:\n",
        "  #     print('dim', i.ndim, j.ndim)\n",
        "  #   if i.shape != j.shape:\n",
        "  #     print('shape', i.shape, j.shape)\n",
        "  print(f'dim X: {X[0].ndim}, dim y: {y[0].ndim}')\n",
        "  print(f'shape X: {X[0].shape}, shape y: {y[0].shape}')\n",
        "  print(f'type X: {X[0].dtype}, type y: {y[0].dtype}')\n",
        "  print(f'{len(X)} samples')\n",
        "      "
      ],
      "metadata": {
        "id": "rd2o0tbarBdm"
      },
      "execution_count": 18,
      "outputs": []
    },
    {
      "cell_type": "code",
      "source": [
        "# split to train data and validation data\n",
        "X_train, X_test, y_train, y_test = train_test_split(fixed_data['X'], fixed_data['y'], test_size=test_size, shuffle = True)\n",
        "\n",
        "# change X_test and y_test to lists (required to train)\n",
        "X_test = list(X_test)\n",
        "y_test = list(y_test)\n",
        "X_train = list(X_train)\n",
        "y_train = list(y_train)"
      ],
      "metadata": {
        "id": "S_vhNXO8LOzv"
      },
      "execution_count": 19,
      "outputs": []
    },
    {
      "cell_type": "code",
      "source": [
        "# check for unfixed masks and unequal shapes\n",
        "check_fixed_data(X_test, y_test)\n",
        "check_fixed_data(X_train, y_train)"
      ],
      "metadata": {
        "colab": {
          "base_uri": "https://localhost:8080/"
        },
        "id": "LhJciXqLLs7c",
        "outputId": "8c4cbae7-a8e4-4eb9-86c6-650525eb583b"
      },
      "execution_count": 20,
      "outputs": [
        {
          "output_type": "stream",
          "name": "stdout",
          "text": [
            "there are 92 samples\n",
            "there are 835 samples\n"
          ]
        }
      ]
    },
    {
      "cell_type": "code",
      "source": [
        "# check train data \n",
        "check_dim_shape_type(X_train, y_train)"
      ],
      "metadata": {
        "colab": {
          "base_uri": "https://localhost:8080/"
        },
        "id": "OIxXFVL4YG3x",
        "outputId": "2832c5e6-0c34-4340-8caa-5d6e08610e73"
      },
      "execution_count": 21,
      "outputs": [
        {
          "output_type": "stream",
          "name": "stdout",
          "text": [
            "dim X: 3, dim y: 3\n",
            "shape X: (92, 92, 3), shape y: (92, 92, 3)\n",
            "type X: uint8, type y: uint8\n",
            "836 samples\n"
          ]
        }
      ]
    },
    {
      "cell_type": "code",
      "source": [
        "# check test data \n",
        "check_dim_shape_type(X_test, y_test)"
      ],
      "metadata": {
        "colab": {
          "base_uri": "https://localhost:8080/"
        },
        "id": "QtNcTRRBa95U",
        "outputId": "9b9ccf7e-e0c7-4a87-9c46-584e3f08e15c"
      },
      "execution_count": 22,
      "outputs": [
        {
          "output_type": "stream",
          "name": "stdout",
          "text": [
            "dim X: 3, dim y: 3\n",
            "shape X: (100, 100, 3), shape y: (100, 100, 3)\n",
            "type X: uint8, type y: uint8\n",
            "93 samples\n"
          ]
        }
      ]
    },
    {
      "cell_type": "markdown",
      "source": [
        "## prediction with 2D stardist model, trained on dataset\n",
        "for training, the model is fed with lists of arrays in dtype uint8 and shapes of (x,y,1) as X and arrays in dtype uint8 and shapes of (x,y) as y   "
      ],
      "metadata": {
        "id": "vEFHK-Q0zW8I"
      }
    },
    {
      "cell_type": "code",
      "source": [
        "# a function that converts arrays of shape (x,y,3) to (x,y,1)\n",
        "# assumes that all channels are similar\n",
        "def to_1chan(arr):\n",
        "  arr_gray = arr[:,:,0]\n",
        "  arr_1c = np.expand_dims(arr_gray, axis = 2)\n",
        "  return arr_1c"
      ],
      "metadata": {
        "id": "-a5paSsaySY4"
      },
      "execution_count": 23,
      "outputs": []
    },
    {
      "cell_type": "code",
      "source": [
        "## create X lists in shapes (x,y,1) to be fed to the model for training\n",
        "X_train, X_val = [to_1chan(x) for x in X_train], [to_1chan(x) for x in X_test]"
      ],
      "metadata": {
        "id": "NEx1yRu7avDr"
      },
      "execution_count": 24,
      "outputs": []
    },
    {
      "cell_type": "code",
      "source": [
        "## create y lists in shapes (x,y) to be fed to the model for validation\n",
        "y_train, y_val = [y[:,:,0] for y in y_train], [y[:,:,0] for y in y_test]"
      ],
      "metadata": {
        "id": "Ijo2eS7Obm7c"
      },
      "execution_count": 25,
      "outputs": []
    },
    {
      "cell_type": "code",
      "source": [
        "## these will be fed while training the model\n",
        "# X_train,X_val shape is (x,y,1)\n",
        "# y_train,y_val shape is (x,y)\n",
        "\n",
        "check_dim_shape_type(X_train, y_train)\n",
        "check_dim_shape_type(X_val, y_val)"
      ],
      "metadata": {
        "colab": {
          "base_uri": "https://localhost:8080/"
        },
        "id": "77wIXkKgPxZ9",
        "outputId": "dacb6616-cd1f-4899-f543-233ae80b4d9b"
      },
      "execution_count": 26,
      "outputs": [
        {
          "output_type": "stream",
          "name": "stdout",
          "text": [
            "dim X: 3, dim y: 2\n",
            "shape X: (92, 92, 1), shape y: (92, 92)\n",
            "type X: uint8, type y: uint8\n",
            "836 samples\n",
            "dim X: 3, dim y: 2\n",
            "shape X: (100, 100, 1), shape y: (100, 100)\n",
            "type X: uint8, type y: uint8\n",
            "93 samples\n"
          ]
        }
      ]
    },
    {
      "cell_type": "markdown",
      "source": [
        "### train model"
      ],
      "metadata": {
        "id": "2dlMVQ38UcRz"
      }
    },
    {
      "cell_type": "code",
      "source": [
        "# ## standart configuration\n",
        "# configuration = dict(\n",
        "#                     axes='XYC',\n",
        "#                     backbone='unet', \n",
        "#                     grid=(2, 2), \n",
        "#                     n_channel_in=1, \n",
        "#                     n_channel_out=33, \n",
        "#                     n_classes=None, \n",
        "#                     n_dim=3, \n",
        "#                     n_rays=32, \n",
        "#                     net_conv_after_unet=128, \n",
        "#                     net_input_shape=[None, None, 1], \n",
        "#                     net_mask_shape=[None, None, 1], \n",
        "#                     train_background_reg=0.0001, \n",
        "#                     train_batch_size=32,  \n",
        "#                     train_checkpoint='weights_best.h5', \n",
        "#                     train_checkpoint_epoch='weights_now.h5', \n",
        "#                     train_checkpoint_last='weights_last.h5', \n",
        "#                     train_class_weights=(1, 1), \n",
        "#                     train_completion_crop=32, \n",
        "#                     train_dist_loss='mae', \n",
        "#                     train_epochs=50, \n",
        "#                     train_foreground_only=0.9, \n",
        "#                     train_learning_rate=0.0003, # 0.0005\n",
        "#                     train_loss_weights=[1, 0.1], # (0.9,0.2)\n",
        "#                     train_n_val_patches=2, \n",
        "#                     train_patch_size=[16, 16], \n",
        "#                     train_reduce_lr={\n",
        "#                                     'factor': 0.5, \n",
        "#                                     'patience': 50, \n",
        "#                                     'min_delta': 0},\n",
        "#                   #train_reduce_lr = {   \n",
        "#                                   #   monitor = \"val_loss\",\n",
        "#                                   #   factor = 0.1,\n",
        "#                                   #   patience = 10,\n",
        "#                                   #   verbose = 0,\n",
        "#                                   #   # mode = \"auto\",\n",
        "#                                   #   min_delta  = 0.001,\n",
        "#                                   #   cooldown  = 0,\n",
        "#                                   #   min_lr = 0\n",
        "#                                   #   # ,**kwargs\n",
        "#                   # ),\n",
        "#                     train_sample_cache=True, \n",
        "#                     train_shape_completion=False,  # True\n",
        "#                     train_steps_per_epoch=len(X_train)//32, \n",
        "#                     train_tensorboard=True, \n",
        "#                     unet_activation='relu', \n",
        "#                     unet_batch_norm=False, # True\n",
        "#                     unet_dropout=0.0, # 0.001\n",
        "#                     unet_kernel_size=[3, 3], \n",
        "#                     unet_last_activation='relu', \n",
        "#                     unet_n_conv_per_depth=2, \n",
        "#                     unet_n_depth=3, \n",
        "#                     unet_n_filter_base=32, \n",
        "#                     unet_pool=[2, 2], \n",
        "#                     unet_prefix='', \n",
        "#                     use_gpu=False # True\n",
        "#                      )"
      ],
      "metadata": {
        "id": "WyMtOuVHWI_h"
      },
      "execution_count": 27,
      "outputs": []
    },
    {
      "cell_type": "code",
      "source": [
        "batch_size = 32\n",
        "num_of_epoches = 200\n",
        "steps_per_epoch = len(X_train)//batch_size\n",
        "\n",
        "configuration = dict(\n",
        "                    axes='XYC',\n",
        "                    backbone='unet', \n",
        "                    grid=(2, 2), \n",
        "                    n_channel_in=1, \n",
        "                    n_channel_out=33, \n",
        "                    n_classes=None, \n",
        "                    n_dim=3, \n",
        "                    n_rays=32, \n",
        "                    net_conv_after_unet=128, \n",
        "                    net_input_shape=[None, None, 1], \n",
        "                    net_mask_shape=[None, None, 1], \n",
        "                    train_background_reg=0.0001, \n",
        "                    train_batch_size= batch_size,\n",
        "                    train_checkpoint='weights_best.h5', #'2D_versatile_he', #  \n",
        "                    train_checkpoint_epoch='weights_now.h5', \n",
        "                    train_checkpoint_last='weights_last.h5', \n",
        "                    train_class_weights=(1, 1), \n",
        "                    train_completion_crop=32, \n",
        "                    train_dist_loss='mae', \n",
        "                    train_epochs= num_of_epoches, \n",
        "                    train_foreground_only=1, #0.9\n",
        "                    train_learning_rate= 0.0003,\n",
        "                    train_loss_weights= [1,0.2],\n",
        "                    train_n_val_patches=1, # should be low if train_patch_size is large\n",
        "                    train_patch_size=[64, 64], # [16,16]\n",
        "                    train_reduce_lr = {   \n",
        "                                        'monitor' :  \"val_loss\", #'val_dist_dist_iou_metric',\n",
        "                                        'factor' : 0.5,\n",
        "                                        'patience' : 7,\n",
        "                                        'verbose' : 0,\n",
        "                                        'mode' : \"auto\",\n",
        "                                        'min_delta'  : 0.001,\n",
        "                                        'cooldown'  : 0,\n",
        "                                        'min_lr' : 0\n",
        "                                        # ,**kwargs\n",
        "                                        },\n",
        "                    train_sample_cache=True, \n",
        "                    train_shape_completion= False,\n",
        "                    train_steps_per_epoch=steps_per_epoch,  \n",
        "                    train_tensorboard=True, \n",
        "                    unet_activation='relu', \n",
        "                    unet_batch_norm= True,\n",
        "                    unet_dropout= 0.01,\n",
        "                    unet_kernel_size=[3, 3], \n",
        "                    unet_last_activation='relu', \n",
        "                    unet_n_conv_per_depth=2, \n",
        "                    unet_n_depth=3, \n",
        "                    unet_n_filter_base=32, \n",
        "                    unet_pool=[2, 2], \n",
        "                    unet_prefix='', \n",
        "                    use_gpu= use_gpu\n",
        "                     )"
      ],
      "metadata": {
        "id": "hVBpvHa2zVe4"
      },
      "execution_count": 28,
      "outputs": []
    },
    {
      "cell_type": "code",
      "source": [
        "cof_ = Config2D(**configuration)"
      ],
      "metadata": {
        "id": "gguCeIZMbRbd"
      },
      "execution_count": 29,
      "outputs": []
    },
    {
      "cell_type": "code",
      "source": [
        "model = StarDist2D(cof_)"
      ],
      "metadata": {
        "id": "82p2mehrUZKw",
        "colab": {
          "base_uri": "https://localhost:8080/"
        },
        "outputId": "5684d674-e52c-48e9-da25-1c91f60b638d"
      },
      "execution_count": 30,
      "outputs": [
        {
          "output_type": "stream",
          "name": "stdout",
          "text": [
            "Using default values: prob_thresh=0.5, nms_thresh=0.4.\n"
          ]
        }
      ]
    },
    {
      "cell_type": "code",
      "source": [
        "def dice_loss(y_true, y_pred):\n",
        "  y_true = tf.cast(y_true, tf.float32)\n",
        "  y_pred = tf.math.sigmoid(y_pred)\n",
        "  numerator = 2 * tf.reduce_sum(y_true * y_pred)\n",
        "  denominator = tf.reduce_sum(y_true + y_pred)\n",
        "\n",
        "  return 1 - numerator / denominator\n"
      ],
      "metadata": {
        "id": "Udhu-Dtv4GsA"
      },
      "execution_count": 31,
      "outputs": []
    },
    {
      "cell_type": "code",
      "source": [
        "'''\n",
        "ce_w values smaller than 0.5 penalize false positives more while values larger than 0.5 penalize false negatives more\n",
        "ce_d_w is level of contribution of the cross-entropy loss in the total loss.\n",
        "'''\n",
        "ce_w = 0.8\n",
        "ce_d_w = 0.5\n",
        "e = K.epsilon()\n",
        "smooth = 1\n",
        "\n",
        "def Combo_loss(y_true, y_pred):\n",
        "    y_true_f = K.flatten(y_true)\n",
        "    y_pred_f = K.flatten(y_pred)\n",
        "    intersection = K.sum(y_true_f * y_pred_f)\n",
        "    d = (2. * intersection + smooth) / (K.sum(y_true_f) + K.sum(y_pred_f) + smooth)\n",
        "    y_pred_f = K.clip(y_pred_f, e, 1.0 - e)\n",
        "    out = - (ce_w * y_true_f * K.log(y_pred_f)) + ((1 - ce_w) * (1.0 - y_true_f) * K.log(1.0 - y_pred_f))\n",
        "    weighted_ce = K.mean(out, axis=-1)\n",
        "    combo = (ce_d_w * weighted_ce) - ((1 - ce_d_w) * d)\n",
        "    return combo"
      ],
      "metadata": {
        "id": "snrgq5O_kRnW"
      },
      "execution_count": 32,
      "outputs": []
    },
    {
      "cell_type": "code",
      "source": [
        "#set dice loss as loss function and Adam as optimizer\n",
        "model.keras_model.compile(loss = Combo_loss, optimizer = 'adam')\n",
        "\n",
        "# #set ADAM as optimizer (default)\n",
        "# model.prepare_for_training()"
      ],
      "metadata": {
        "id": "Myr6yicpzEZv"
      },
      "execution_count": 33,
      "outputs": []
    },
    {
      "cell_type": "code",
      "source": [
        "model.train(X_train, y_train,validation_data=(X_val, y_val))"
      ],
      "metadata": {
        "colab": {
          "base_uri": "https://localhost:8080/"
        },
        "id": "ZBFwFUlMpsie",
        "outputId": "6d0702de-5cdc-4f3d-94f8-0e0f6d9b13ae"
      },
      "execution_count": 34,
      "outputs": [
        {
          "output_type": "stream",
          "name": "stdout",
          "text": [
            "Epoch 1/200\n",
            "WARNING:tensorflow:AutoGraph could not transform <function _gcd_import at 0x7f9ec8c80b00> and will run it as-is.\n",
            "Cause: Unable to locate the source code of <function _gcd_import at 0x7f9ec8c80b00>. Note that functions defined in certain environments, like the interactive Python shell, do not expose their source code. If that is the case, you should define them in a .py source file. If you are certain the code is graph-compatible, wrap the call using @tf.autograph.experimental.do_not_convert. Original error: could not get source code\n",
            "To silence this warning, decorate the function with @tf.autograph.experimental.do_not_convert\n"
          ]
        },
        {
          "output_type": "stream",
          "name": "stderr",
          "text": [
            "WARNING:tensorflow | AutoGraph could not transform <function _gcd_import at 0x7f9ec8c80b00> and will run it as-is.\n",
            "Cause: Unable to locate the source code of <function _gcd_import at 0x7f9ec8c80b00>. Note that functions defined in certain environments, like the interactive Python shell, do not expose their source code. If that is the case, you should define them in a .py source file. If you are certain the code is graph-compatible, wrap the call using @tf.autograph.experimental.do_not_convert. Original error: could not get source code\n",
            "To silence this warning, decorate the function with @tf.autograph.experimental.do_not_convert\n"
          ]
        },
        {
          "output_type": "stream",
          "name": "stdout",
          "text": [
            "WARNING: AutoGraph could not transform <function _gcd_import at 0x7f9ec8c80b00> and will run it as-is.\n",
            "Cause: Unable to locate the source code of <function _gcd_import at 0x7f9ec8c80b00>. Note that functions defined in certain environments, like the interactive Python shell, do not expose their source code. If that is the case, you should define them in a .py source file. If you are certain the code is graph-compatible, wrap the call using @tf.autograph.experimental.do_not_convert. Original error: could not get source code\n",
            "To silence this warning, decorate the function with @tf.autograph.experimental.do_not_convert\n",
            "26/26 [==============================] - 34s 704ms/step - loss: 1.8314 - prob_loss: 0.2761 - dist_loss: 7.7761 - prob_kld: 0.2193 - dist_relevant_mae: 7.7761 - dist_relevant_mse: 93.7354 - dist_dist_iou_metric: 0.0066 - val_loss: 1.6560 - val_prob_loss: 0.2886 - val_dist_loss: 6.8372 - val_prob_kld: 0.2216 - val_dist_relevant_mae: 6.8371 - val_dist_relevant_mse: 63.9621 - val_dist_dist_iou_metric: 0.0169 - lr: 3.0000e-04\n",
            "Epoch 2/200\n",
            "26/26 [==============================] - 5s 203ms/step - loss: 1.3813 - prob_loss: 0.1355 - dist_loss: 6.2292 - prob_kld: 0.0782 - dist_relevant_mae: 6.2291 - dist_relevant_mse: 70.2906 - dist_dist_iou_metric: 0.0846 - val_loss: 1.5933 - val_prob_loss: 0.2524 - val_dist_loss: 6.7045 - val_prob_kld: 0.1854 - val_dist_relevant_mae: 6.7044 - val_dist_relevant_mse: 61.8446 - val_dist_dist_iou_metric: 0.0151 - lr: 3.0000e-04\n",
            "Epoch 3/200\n",
            "26/26 [==============================] - 5s 202ms/step - loss: 1.0137 - prob_loss: 0.1142 - dist_loss: 4.4976 - prob_kld: 0.0585 - dist_relevant_mae: 4.4974 - dist_relevant_mse: 41.8510 - dist_dist_iou_metric: 0.2662 - val_loss: 1.5373 - val_prob_loss: 0.2340 - val_dist_loss: 6.5163 - val_prob_kld: 0.1670 - val_dist_relevant_mae: 6.5161 - val_dist_relevant_mse: 59.0117 - val_dist_dist_iou_metric: 0.0194 - lr: 3.0000e-04\n",
            "Epoch 4/200\n",
            "26/26 [==============================] - 5s 203ms/step - loss: 0.8950 - prob_loss: 0.1088 - dist_loss: 3.9311 - prob_kld: 0.0509 - dist_relevant_mae: 3.9308 - dist_relevant_mse: 32.7315 - dist_dist_iou_metric: 0.3393 - val_loss: 1.5231 - val_prob_loss: 0.2376 - val_dist_loss: 6.4274 - val_prob_kld: 0.1706 - val_dist_relevant_mae: 6.4272 - val_dist_relevant_mse: 57.6825 - val_dist_dist_iou_metric: 0.0224 - lr: 3.0000e-04\n",
            "Epoch 5/200\n",
            "26/26 [==============================] - 5s 205ms/step - loss: 0.8477 - prob_loss: 0.1021 - dist_loss: 3.7278 - prob_kld: 0.0466 - dist_relevant_mae: 3.7275 - dist_relevant_mse: 30.2294 - dist_dist_iou_metric: 0.3717 - val_loss: 1.4858 - val_prob_loss: 0.1728 - val_dist_loss: 6.5654 - val_prob_kld: 0.1058 - val_dist_relevant_mae: 6.5653 - val_dist_relevant_mse: 59.3723 - val_dist_dist_iou_metric: 0.0158 - lr: 3.0000e-04\n",
            "Epoch 6/200\n",
            "26/26 [==============================] - 5s 203ms/step - loss: 0.7891 - prob_loss: 0.1026 - dist_loss: 3.4323 - prob_kld: 0.0461 - dist_relevant_mae: 3.4320 - dist_relevant_mse: 26.5171 - dist_dist_iou_metric: 0.4098 - val_loss: 1.3633 - val_prob_loss: 0.1804 - val_dist_loss: 5.9147 - val_prob_kld: 0.1134 - val_dist_relevant_mae: 5.9145 - val_dist_relevant_mse: 49.7979 - val_dist_dist_iou_metric: 0.0440 - lr: 3.0000e-04\n",
            "Epoch 7/200\n",
            "26/26 [==============================] - 5s 205ms/step - loss: 0.7132 - prob_loss: 0.1006 - dist_loss: 3.0629 - prob_kld: 0.0443 - dist_relevant_mae: 3.0627 - dist_relevant_mse: 21.5354 - dist_dist_iou_metric: 0.4600 - val_loss: 0.7050 - val_prob_loss: 0.1557 - val_dist_loss: 2.7465 - val_prob_kld: 0.0888 - val_dist_relevant_mae: 2.7462 - val_dist_relevant_mse: 13.5187 - val_dist_dist_iou_metric: 0.4215 - lr: 3.0000e-04\n",
            "Epoch 8/200\n",
            "26/26 [==============================] - 5s 199ms/step - loss: 0.6534 - prob_loss: 0.0969 - dist_loss: 2.7826 - prob_kld: 0.0406 - dist_relevant_mae: 2.7823 - dist_relevant_mse: 18.0178 - dist_dist_iou_metric: 0.5010 - val_loss: 0.7829 - val_prob_loss: 0.1671 - val_dist_loss: 3.0790 - val_prob_kld: 0.1001 - val_dist_relevant_mae: 3.0787 - val_dist_relevant_mse: 15.9229 - val_dist_dist_iou_metric: 0.3519 - lr: 3.0000e-04\n",
            "Epoch 9/200\n",
            "26/26 [==============================] - 5s 201ms/step - loss: 0.6391 - prob_loss: 0.0970 - dist_loss: 2.7105 - prob_kld: 0.0410 - dist_relevant_mae: 2.7103 - dist_relevant_mse: 17.5806 - dist_dist_iou_metric: 0.5166 - val_loss: 0.8548 - val_prob_loss: 0.1458 - val_dist_loss: 3.5450 - val_prob_kld: 0.0788 - val_dist_relevant_mae: 3.5447 - val_dist_relevant_mse: 19.9605 - val_dist_dist_iou_metric: 0.2766 - lr: 3.0000e-04\n",
            "Epoch 10/200\n",
            "26/26 [==============================] - 5s 202ms/step - loss: 0.6344 - prob_loss: 0.0961 - dist_loss: 2.6916 - prob_kld: 0.0394 - dist_relevant_mae: 2.6913 - dist_relevant_mse: 17.8712 - dist_dist_iou_metric: 0.5269 - val_loss: 0.8221 - val_prob_loss: 0.1483 - val_dist_loss: 3.3691 - val_prob_kld: 0.0813 - val_dist_relevant_mae: 3.3688 - val_dist_relevant_mse: 17.9204 - val_dist_dist_iou_metric: 0.3305 - lr: 3.0000e-04\n",
            "Epoch 11/200\n",
            "26/26 [==============================] - 5s 214ms/step - loss: 0.6113 - prob_loss: 0.0944 - dist_loss: 2.5842 - prob_kld: 0.0386 - dist_relevant_mae: 2.5839 - dist_relevant_mse: 16.7045 - dist_dist_iou_metric: 0.5396 - val_loss: 0.6450 - val_prob_loss: 0.2179 - val_dist_loss: 2.1355 - val_prob_kld: 0.1510 - val_dist_relevant_mae: 2.1350 - val_dist_relevant_mse: 8.2971 - val_dist_dist_iou_metric: 0.5786 - lr: 3.0000e-04\n",
            "Epoch 12/200\n",
            "26/26 [==============================] - 5s 210ms/step - loss: 0.6103 - prob_loss: 0.0946 - dist_loss: 2.5788 - prob_kld: 0.0376 - dist_relevant_mae: 2.5785 - dist_relevant_mse: 16.8526 - dist_dist_iou_metric: 0.5473 - val_loss: 0.8728 - val_prob_loss: 0.2034 - val_dist_loss: 3.3468 - val_prob_kld: 0.1364 - val_dist_relevant_mae: 3.3466 - val_dist_relevant_mse: 18.7823 - val_dist_dist_iou_metric: 0.3362 - lr: 3.0000e-04\n",
            "Epoch 13/200\n",
            "26/26 [==============================] - 5s 206ms/step - loss: 0.5830 - prob_loss: 0.0932 - dist_loss: 2.4490 - prob_kld: 0.0373 - dist_relevant_mae: 2.4487 - dist_relevant_mse: 14.9458 - dist_dist_iou_metric: 0.5621 - val_loss: 0.7536 - val_prob_loss: 0.1431 - val_dist_loss: 3.0522 - val_prob_kld: 0.0761 - val_dist_relevant_mae: 3.0519 - val_dist_relevant_mse: 14.8833 - val_dist_dist_iou_metric: 0.3871 - lr: 3.0000e-04\n",
            "Epoch 14/200\n",
            "26/26 [==============================] - 5s 208ms/step - loss: 0.5654 - prob_loss: 0.0913 - dist_loss: 2.3706 - prob_kld: 0.0349 - dist_relevant_mae: 2.3703 - dist_relevant_mse: 14.0418 - dist_dist_iou_metric: 0.5694 - val_loss: 0.6845 - val_prob_loss: 0.1459 - val_dist_loss: 2.6933 - val_prob_kld: 0.0789 - val_dist_relevant_mae: 2.6930 - val_dist_relevant_mse: 12.4486 - val_dist_dist_iou_metric: 0.4585 - lr: 3.0000e-04\n",
            "Epoch 15/200\n",
            "26/26 [==============================] - 5s 214ms/step - loss: 0.5605 - prob_loss: 0.0912 - dist_loss: 2.3465 - prob_kld: 0.0344 - dist_relevant_mae: 2.3462 - dist_relevant_mse: 14.3053 - dist_dist_iou_metric: 0.5768 - val_loss: 0.5589 - val_prob_loss: 0.1732 - val_dist_loss: 1.9284 - val_prob_kld: 0.1062 - val_dist_relevant_mae: 1.9281 - val_dist_relevant_mse: 6.5164 - val_dist_dist_iou_metric: 0.5908 - lr: 3.0000e-04\n",
            "Epoch 16/200\n",
            "26/26 [==============================] - 5s 211ms/step - loss: 0.5346 - prob_loss: 0.0888 - dist_loss: 2.2289 - prob_kld: 0.0329 - dist_relevant_mae: 2.2285 - dist_relevant_mse: 12.7159 - dist_dist_iou_metric: 0.5884 - val_loss: 0.5781 - val_prob_loss: 0.1741 - val_dist_loss: 2.0201 - val_prob_kld: 0.1071 - val_dist_relevant_mae: 2.0198 - val_dist_relevant_mse: 7.7002 - val_dist_dist_iou_metric: 0.5637 - lr: 3.0000e-04\n",
            "Epoch 17/200\n",
            "26/26 [==============================] - 6s 216ms/step - loss: 0.5418 - prob_loss: 0.0895 - dist_loss: 2.2614 - prob_kld: 0.0330 - dist_relevant_mae: 2.2611 - dist_relevant_mse: 13.1753 - dist_dist_iou_metric: 0.5936 - val_loss: 0.5301 - val_prob_loss: 0.1295 - val_dist_loss: 2.0029 - val_prob_kld: 0.0625 - val_dist_relevant_mae: 2.0026 - val_dist_relevant_mse: 6.6042 - val_dist_dist_iou_metric: 0.5762 - lr: 3.0000e-04\n",
            "Epoch 18/200\n",
            "26/26 [==============================] - 5s 205ms/step - loss: 0.5257 - prob_loss: 0.0884 - dist_loss: 2.1863 - prob_kld: 0.0319 - dist_relevant_mae: 2.1860 - dist_relevant_mse: 12.4364 - dist_dist_iou_metric: 0.6013 - val_loss: 0.7330 - val_prob_loss: 0.2378 - val_dist_loss: 2.4761 - val_prob_kld: 0.1708 - val_dist_relevant_mae: 2.4758 - val_dist_relevant_mse: 10.7535 - val_dist_dist_iou_metric: 0.4686 - lr: 3.0000e-04\n",
            "Epoch 19/200\n",
            "26/26 [==============================] - 5s 207ms/step - loss: 0.5163 - prob_loss: 0.0869 - dist_loss: 2.1470 - prob_kld: 0.0306 - dist_relevant_mae: 2.1467 - dist_relevant_mse: 11.8314 - dist_dist_iou_metric: 0.6074 - val_loss: 0.6958 - val_prob_loss: 0.2084 - val_dist_loss: 2.4366 - val_prob_kld: 0.1414 - val_dist_relevant_mae: 2.4364 - val_dist_relevant_mse: 9.8366 - val_dist_dist_iou_metric: 0.4846 - lr: 3.0000e-04\n",
            "Epoch 20/200\n",
            "26/26 [==============================] - 5s 204ms/step - loss: 0.5155 - prob_loss: 0.0882 - dist_loss: 2.1364 - prob_kld: 0.0318 - dist_relevant_mae: 2.1360 - dist_relevant_mse: 11.8921 - dist_dist_iou_metric: 0.6108 - val_loss: 0.8552 - val_prob_loss: 0.2877 - val_dist_loss: 2.8378 - val_prob_kld: 0.2207 - val_dist_relevant_mae: 2.8376 - val_dist_relevant_mse: 14.8688 - val_dist_dist_iou_metric: 0.4204 - lr: 3.0000e-04\n",
            "Epoch 21/200\n",
            "26/26 [==============================] - 5s 205ms/step - loss: 0.5052 - prob_loss: 0.0881 - dist_loss: 2.0854 - prob_kld: 0.0313 - dist_relevant_mae: 2.0851 - dist_relevant_mse: 11.4309 - dist_dist_iou_metric: 0.6169 - val_loss: 0.6901 - val_prob_loss: 0.2453 - val_dist_loss: 2.2244 - val_prob_kld: 0.1783 - val_dist_relevant_mae: 2.2241 - val_dist_relevant_mse: 9.9712 - val_dist_dist_iou_metric: 0.5385 - lr: 3.0000e-04\n",
            "Epoch 22/200\n",
            "26/26 [==============================] - 5s 209ms/step - loss: 0.5116 - prob_loss: 0.0895 - dist_loss: 2.1104 - prob_kld: 0.0322 - dist_relevant_mae: 2.1101 - dist_relevant_mse: 11.9404 - dist_dist_iou_metric: 0.6149 - val_loss: 0.6040 - val_prob_loss: 0.2070 - val_dist_loss: 1.9851 - val_prob_kld: 0.1400 - val_dist_relevant_mae: 1.9848 - val_dist_relevant_mse: 7.5543 - val_dist_dist_iou_metric: 0.5803 - lr: 3.0000e-04\n",
            "Epoch 23/200\n",
            "26/26 [==============================] - 5s 206ms/step - loss: 0.4960 - prob_loss: 0.0851 - dist_loss: 2.0542 - prob_kld: 0.0291 - dist_relevant_mae: 2.0539 - dist_relevant_mse: 11.2800 - dist_dist_iou_metric: 0.6239 - val_loss: 0.7273 - val_prob_loss: 0.1601 - val_dist_loss: 2.8360 - val_prob_kld: 0.0931 - val_dist_relevant_mae: 2.8358 - val_dist_relevant_mse: 12.9323 - val_dist_dist_iou_metric: 0.4273 - lr: 3.0000e-04\n",
            "Epoch 24/200\n",
            "26/26 [==============================] - 5s 211ms/step - loss: 0.5030 - prob_loss: 0.0873 - dist_loss: 2.0786 - prob_kld: 0.0299 - dist_relevant_mae: 2.0783 - dist_relevant_mse: 11.7653 - dist_dist_iou_metric: 0.6201 - val_loss: 0.7802 - val_prob_loss: 0.3284 - val_dist_loss: 2.2590 - val_prob_kld: 0.2614 - val_dist_relevant_mae: 2.2587 - val_dist_relevant_mse: 8.4666 - val_dist_dist_iou_metric: 0.5209 - lr: 3.0000e-04\n",
            "Epoch 25/200\n",
            "26/26 [==============================] - 5s 214ms/step - loss: 0.4945 - prob_loss: 0.0864 - dist_loss: 2.0408 - prob_kld: 0.0294 - dist_relevant_mae: 2.0405 - dist_relevant_mse: 11.1370 - dist_dist_iou_metric: 0.6282 - val_loss: 0.4848 - val_prob_loss: 0.1562 - val_dist_loss: 1.6431 - val_prob_kld: 0.0892 - val_dist_relevant_mae: 1.6429 - val_dist_relevant_mse: 4.8644 - val_dist_dist_iou_metric: 0.6531 - lr: 1.5000e-04\n",
            "Epoch 26/200\n",
            "26/26 [==============================] - 5s 206ms/step - loss: 0.4784 - prob_loss: 0.0843 - dist_loss: 1.9705 - prob_kld: 0.0274 - dist_relevant_mae: 1.9702 - dist_relevant_mse: 10.3053 - dist_dist_iou_metric: 0.6354 - val_loss: 0.6438 - val_prob_loss: 0.2588 - val_dist_loss: 1.9247 - val_prob_kld: 0.1918 - val_dist_relevant_mae: 1.9245 - val_dist_relevant_mse: 7.2664 - val_dist_dist_iou_metric: 0.5905 - lr: 1.5000e-04\n",
            "Epoch 27/200\n",
            "26/26 [==============================] - 5s 206ms/step - loss: 0.4777 - prob_loss: 0.0840 - dist_loss: 1.9685 - prob_kld: 0.0275 - dist_relevant_mae: 1.9682 - dist_relevant_mse: 10.5060 - dist_dist_iou_metric: 0.6383 - val_loss: 0.5728 - val_prob_loss: 0.1907 - val_dist_loss: 1.9106 - val_prob_kld: 0.1237 - val_dist_relevant_mae: 1.9103 - val_dist_relevant_mse: 6.3290 - val_dist_dist_iou_metric: 0.5857 - lr: 1.5000e-04\n",
            "Epoch 28/200\n",
            "26/26 [==============================] - 5s 208ms/step - loss: 0.4705 - prob_loss: 0.0830 - dist_loss: 1.9373 - prob_kld: 0.0271 - dist_relevant_mae: 1.9370 - dist_relevant_mse: 9.9764 - dist_dist_iou_metric: 0.6381 - val_loss: 0.7362 - val_prob_loss: 0.3238 - val_dist_loss: 2.0621 - val_prob_kld: 0.2568 - val_dist_relevant_mae: 2.0619 - val_dist_relevant_mse: 8.6437 - val_dist_dist_iou_metric: 0.5460 - lr: 1.5000e-04\n",
            "Epoch 29/200\n",
            "26/26 [==============================] - 5s 208ms/step - loss: 0.4695 - prob_loss: 0.0833 - dist_loss: 1.9310 - prob_kld: 0.0260 - dist_relevant_mae: 1.9307 - dist_relevant_mse: 10.1209 - dist_dist_iou_metric: 0.6434 - val_loss: 0.5292 - val_prob_loss: 0.1972 - val_dist_loss: 1.6599 - val_prob_kld: 0.1302 - val_dist_relevant_mae: 1.6597 - val_dist_relevant_mse: 5.2632 - val_dist_dist_iou_metric: 0.6354 - lr: 1.5000e-04\n",
            "Epoch 30/200\n",
            "26/26 [==============================] - 5s 207ms/step - loss: 0.4579 - prob_loss: 0.0820 - dist_loss: 1.8797 - prob_kld: 0.0265 - dist_relevant_mae: 1.8793 - dist_relevant_mse: 9.3365 - dist_dist_iou_metric: 0.6485 - val_loss: 0.6181 - val_prob_loss: 0.3137 - val_dist_loss: 1.5218 - val_prob_kld: 0.2467 - val_dist_relevant_mae: 1.5216 - val_dist_relevant_mse: 4.5907 - val_dist_dist_iou_metric: 0.6571 - lr: 1.5000e-04\n",
            "Epoch 31/200\n",
            "26/26 [==============================] - 5s 214ms/step - loss: 0.4633 - prob_loss: 0.0832 - dist_loss: 1.9004 - prob_kld: 0.0262 - dist_relevant_mae: 1.9001 - dist_relevant_mse: 9.5713 - dist_dist_iou_metric: 0.6444 - val_loss: 0.4203 - val_prob_loss: 0.1567 - val_dist_loss: 1.3178 - val_prob_kld: 0.0897 - val_dist_relevant_mae: 1.3175 - val_dist_relevant_mse: 3.2524 - val_dist_dist_iou_metric: 0.7174 - lr: 1.5000e-04\n",
            "Epoch 32/200\n",
            "26/26 [==============================] - 6s 216ms/step - loss: 0.4530 - prob_loss: 0.0807 - dist_loss: 1.8615 - prob_kld: 0.0254 - dist_relevant_mae: 1.8611 - dist_relevant_mse: 9.4440 - dist_dist_iou_metric: 0.6518 - val_loss: 0.4169 - val_prob_loss: 0.1471 - val_dist_loss: 1.3491 - val_prob_kld: 0.0801 - val_dist_relevant_mae: 1.3488 - val_dist_relevant_mse: 3.5545 - val_dist_dist_iou_metric: 0.7073 - lr: 1.5000e-04\n",
            "Epoch 33/200\n",
            "26/26 [==============================] - 5s 209ms/step - loss: 0.4545 - prob_loss: 0.0818 - dist_loss: 1.8638 - prob_kld: 0.0249 - dist_relevant_mae: 1.8634 - dist_relevant_mse: 9.2767 - dist_dist_iou_metric: 0.6518 - val_loss: 0.6211 - val_prob_loss: 0.2646 - val_dist_loss: 1.7827 - val_prob_kld: 0.1976 - val_dist_relevant_mae: 1.7824 - val_dist_relevant_mse: 6.3864 - val_dist_dist_iou_metric: 0.6466 - lr: 1.5000e-04\n",
            "Epoch 34/200\n",
            "26/26 [==============================] - 5s 214ms/step - loss: 0.4569 - prob_loss: 0.0821 - dist_loss: 1.8739 - prob_kld: 0.0261 - dist_relevant_mae: 1.8735 - dist_relevant_mse: 9.5059 - dist_dist_iou_metric: 0.6497 - val_loss: 0.4030 - val_prob_loss: 0.1121 - val_dist_loss: 1.4544 - val_prob_kld: 0.0452 - val_dist_relevant_mae: 1.4540 - val_dist_relevant_mse: 4.1199 - val_dist_dist_iou_metric: 0.7014 - lr: 1.5000e-04\n",
            "Epoch 35/200\n",
            "26/26 [==============================] - 5s 215ms/step - loss: 0.4616 - prob_loss: 0.0823 - dist_loss: 1.8969 - prob_kld: 0.0254 - dist_relevant_mae: 1.8966 - dist_relevant_mse: 9.8747 - dist_dist_iou_metric: 0.6501 - val_loss: 0.3900 - val_prob_loss: 0.1371 - val_dist_loss: 1.2645 - val_prob_kld: 0.0702 - val_dist_relevant_mae: 1.2643 - val_dist_relevant_mse: 3.0186 - val_dist_dist_iou_metric: 0.7256 - lr: 1.5000e-04\n",
            "Epoch 36/200\n",
            "26/26 [==============================] - 5s 209ms/step - loss: 0.4482 - prob_loss: 0.0828 - dist_loss: 1.8273 - prob_kld: 0.0258 - dist_relevant_mae: 1.8270 - dist_relevant_mse: 8.8856 - dist_dist_iou_metric: 0.6531 - val_loss: 0.5097 - val_prob_loss: 0.1997 - val_dist_loss: 1.5500 - val_prob_kld: 0.1327 - val_dist_relevant_mae: 1.5497 - val_dist_relevant_mse: 4.5010 - val_dist_dist_iou_metric: 0.6755 - lr: 1.5000e-04\n",
            "Epoch 37/200\n",
            "26/26 [==============================] - 5s 209ms/step - loss: 0.4464 - prob_loss: 0.0805 - dist_loss: 1.8297 - prob_kld: 0.0248 - dist_relevant_mae: 1.8294 - dist_relevant_mse: 9.1766 - dist_dist_iou_metric: 0.6573 - val_loss: 0.4776 - val_prob_loss: 0.1682 - val_dist_loss: 1.5468 - val_prob_kld: 0.1013 - val_dist_relevant_mae: 1.5466 - val_dist_relevant_mse: 4.3001 - val_dist_dist_iou_metric: 0.6689 - lr: 1.5000e-04\n",
            "Epoch 38/200\n",
            "26/26 [==============================] - 5s 208ms/step - loss: 0.4400 - prob_loss: 0.0798 - dist_loss: 1.8014 - prob_kld: 0.0242 - dist_relevant_mae: 1.8011 - dist_relevant_mse: 8.7577 - dist_dist_iou_metric: 0.6600 - val_loss: 0.4481 - val_prob_loss: 0.1027 - val_dist_loss: 1.7268 - val_prob_kld: 0.0357 - val_dist_relevant_mae: 1.7266 - val_dist_relevant_mse: 5.4471 - val_dist_dist_iou_metric: 0.6412 - lr: 1.5000e-04\n",
            "Epoch 39/200\n",
            "26/26 [==============================] - 5s 212ms/step - loss: 0.4424 - prob_loss: 0.0801 - dist_loss: 1.8116 - prob_kld: 0.0240 - dist_relevant_mae: 1.8112 - dist_relevant_mse: 9.0494 - dist_dist_iou_metric: 0.6600 - val_loss: 0.4766 - val_prob_loss: 0.1536 - val_dist_loss: 1.6149 - val_prob_kld: 0.0866 - val_dist_relevant_mae: 1.6146 - val_dist_relevant_mse: 4.3427 - val_dist_dist_iou_metric: 0.6504 - lr: 1.5000e-04\n",
            "Epoch 40/200\n",
            "26/26 [==============================] - 5s 209ms/step - loss: 0.4380 - prob_loss: 0.0814 - dist_loss: 1.7833 - prob_kld: 0.0245 - dist_relevant_mae: 1.7830 - dist_relevant_mse: 8.8317 - dist_dist_iou_metric: 0.6614 - val_loss: 0.5638 - val_prob_loss: 0.2056 - val_dist_loss: 1.7908 - val_prob_kld: 0.1387 - val_dist_relevant_mae: 1.7903 - val_dist_relevant_mse: 6.0700 - val_dist_dist_iou_metric: 0.6519 - lr: 1.5000e-04\n",
            "Epoch 41/200\n",
            "26/26 [==============================] - 5s 215ms/step - loss: 0.4339 - prob_loss: 0.0791 - dist_loss: 1.7742 - prob_kld: 0.0235 - dist_relevant_mae: 1.7739 - dist_relevant_mse: 8.5108 - dist_dist_iou_metric: 0.6632 - val_loss: 0.3590 - val_prob_loss: 0.0853 - val_dist_loss: 1.3682 - val_prob_kld: 0.0184 - val_dist_relevant_mae: 1.3678 - val_dist_relevant_mse: 3.2960 - val_dist_dist_iou_metric: 0.7227 - lr: 1.5000e-04\n",
            "Epoch 42/200\n",
            "26/26 [==============================] - 6s 216ms/step - loss: 0.4417 - prob_loss: 0.0800 - dist_loss: 1.8085 - prob_kld: 0.0238 - dist_relevant_mae: 1.8082 - dist_relevant_mse: 9.0736 - dist_dist_iou_metric: 0.6618 - val_loss: 0.2990 - val_prob_loss: 0.0813 - val_dist_loss: 1.0886 - val_prob_kld: 0.0143 - val_dist_relevant_mae: 1.0883 - val_dist_relevant_mse: 2.0131 - val_dist_dist_iou_metric: 0.7800 - lr: 1.5000e-04\n",
            "Epoch 43/200\n",
            "26/26 [==============================] - 5s 213ms/step - loss: 0.4386 - prob_loss: 0.0806 - dist_loss: 1.7903 - prob_kld: 0.0232 - dist_relevant_mae: 1.7900 - dist_relevant_mse: 8.8525 - dist_dist_iou_metric: 0.6633 - val_loss: 0.3666 - val_prob_loss: 0.1240 - val_dist_loss: 1.2130 - val_prob_kld: 0.0570 - val_dist_relevant_mae: 1.2128 - val_dist_relevant_mse: 2.8944 - val_dist_dist_iou_metric: 0.7382 - lr: 1.5000e-04\n",
            "Epoch 44/200\n",
            "26/26 [==============================] - 5s 209ms/step - loss: 0.4315 - prob_loss: 0.0799 - dist_loss: 1.7581 - prob_kld: 0.0239 - dist_relevant_mae: 1.7578 - dist_relevant_mse: 8.7121 - dist_dist_iou_metric: 0.6666 - val_loss: 0.3804 - val_prob_loss: 0.1127 - val_dist_loss: 1.3384 - val_prob_kld: 0.0457 - val_dist_relevant_mae: 1.3382 - val_dist_relevant_mse: 3.7872 - val_dist_dist_iou_metric: 0.7274 - lr: 1.5000e-04\n",
            "Epoch 45/200\n",
            "26/26 [==============================] - 5s 211ms/step - loss: 0.4284 - prob_loss: 0.0801 - dist_loss: 1.7415 - prob_kld: 0.0233 - dist_relevant_mae: 1.7412 - dist_relevant_mse: 8.4512 - dist_dist_iou_metric: 0.6737 - val_loss: 0.4239 - val_prob_loss: 0.1239 - val_dist_loss: 1.5001 - val_prob_kld: 0.0569 - val_dist_relevant_mae: 1.4997 - val_dist_relevant_mse: 3.8189 - val_dist_dist_iou_metric: 0.6898 - lr: 1.5000e-04\n",
            "Epoch 46/200\n",
            "26/26 [==============================] - 5s 212ms/step - loss: 0.4338 - prob_loss: 0.0811 - dist_loss: 1.7639 - prob_kld: 0.0235 - dist_relevant_mae: 1.7636 - dist_relevant_mse: 8.9017 - dist_dist_iou_metric: 0.6649 - val_loss: 0.9409 - val_prob_loss: 0.4420 - val_dist_loss: 2.4945 - val_prob_kld: 0.3748 - val_dist_relevant_mae: 2.4943 - val_dist_relevant_mse: 12.0222 - val_dist_dist_iou_metric: 0.4894 - lr: 1.5000e-04\n",
            "Epoch 47/200\n",
            "26/26 [==============================] - 5s 209ms/step - loss: 0.4236 - prob_loss: 0.0803 - dist_loss: 1.7167 - prob_kld: 0.0233 - dist_relevant_mae: 1.7164 - dist_relevant_mse: 8.1104 - dist_dist_iou_metric: 0.6760 - val_loss: 0.5164 - val_prob_loss: 0.1608 - val_dist_loss: 1.7780 - val_prob_kld: 0.0938 - val_dist_relevant_mae: 1.7777 - val_dist_relevant_mse: 5.9874 - val_dist_dist_iou_metric: 0.6242 - lr: 1.5000e-04\n",
            "Epoch 48/200\n",
            "26/26 [==============================] - 5s 208ms/step - loss: 0.4336 - prob_loss: 0.0796 - dist_loss: 1.7702 - prob_kld: 0.0226 - dist_relevant_mae: 1.7698 - dist_relevant_mse: 9.1952 - dist_dist_iou_metric: 0.6719 - val_loss: 0.4332 - val_prob_loss: 0.1690 - val_dist_loss: 1.3208 - val_prob_kld: 0.1020 - val_dist_relevant_mae: 1.3205 - val_dist_relevant_mse: 3.6710 - val_dist_dist_iou_metric: 0.7240 - lr: 1.5000e-04\n",
            "Epoch 49/200\n",
            "26/26 [==============================] - 5s 206ms/step - loss: 0.4308 - prob_loss: 0.0800 - dist_loss: 1.7539 - prob_kld: 0.0228 - dist_relevant_mae: 1.7536 - dist_relevant_mse: 8.7027 - dist_dist_iou_metric: 0.6730 - val_loss: 0.4863 - val_prob_loss: 0.1798 - val_dist_loss: 1.5325 - val_prob_kld: 0.1128 - val_dist_relevant_mae: 1.5322 - val_dist_relevant_mse: 4.3412 - val_dist_dist_iou_metric: 0.6642 - lr: 1.5000e-04\n",
            "Epoch 50/200\n",
            "26/26 [==============================] - 5s 212ms/step - loss: 0.4208 - prob_loss: 0.0793 - dist_loss: 1.7075 - prob_kld: 0.0221 - dist_relevant_mae: 1.7072 - dist_relevant_mse: 8.0039 - dist_dist_iou_metric: 0.6766 - val_loss: 0.3457 - val_prob_loss: 0.0825 - val_dist_loss: 1.3162 - val_prob_kld: 0.0155 - val_dist_relevant_mae: 1.3159 - val_dist_relevant_mse: 3.1356 - val_dist_dist_iou_metric: 0.7274 - lr: 7.5000e-05\n",
            "Epoch 51/200\n",
            "26/26 [==============================] - 5s 208ms/step - loss: 0.4119 - prob_loss: 0.0767 - dist_loss: 1.6762 - prob_kld: 0.0215 - dist_relevant_mae: 1.6758 - dist_relevant_mse: 7.8836 - dist_dist_iou_metric: 0.6817 - val_loss: 0.4211 - val_prob_loss: 0.1011 - val_dist_loss: 1.6000 - val_prob_kld: 0.0341 - val_dist_relevant_mae: 1.5997 - val_dist_relevant_mse: 4.6058 - val_dist_dist_iou_metric: 0.6622 - lr: 7.5000e-05\n",
            "Epoch 52/200\n",
            "26/26 [==============================] - 5s 210ms/step - loss: 0.4272 - prob_loss: 0.0800 - dist_loss: 1.7362 - prob_kld: 0.0217 - dist_relevant_mae: 1.7359 - dist_relevant_mse: 8.3160 - dist_dist_iou_metric: 0.6756 - val_loss: 0.4143 - val_prob_loss: 0.0886 - val_dist_loss: 1.6283 - val_prob_kld: 0.0216 - val_dist_relevant_mae: 1.6281 - val_dist_relevant_mse: 4.6101 - val_dist_dist_iou_metric: 0.6656 - lr: 7.5000e-05\n",
            "Epoch 53/200\n",
            "26/26 [==============================] - 5s 209ms/step - loss: 0.4045 - prob_loss: 0.0766 - dist_loss: 1.6395 - prob_kld: 0.0214 - dist_relevant_mae: 1.6391 - dist_relevant_mse: 7.5549 - dist_dist_iou_metric: 0.6846 - val_loss: 0.4414 - val_prob_loss: 0.1234 - val_dist_loss: 1.5903 - val_prob_kld: 0.0564 - val_dist_relevant_mae: 1.5901 - val_dist_relevant_mse: 4.6865 - val_dist_dist_iou_metric: 0.6666 - lr: 7.5000e-05\n",
            "Epoch 54/200\n",
            "26/26 [==============================] - 5s 211ms/step - loss: 0.4199 - prob_loss: 0.0800 - dist_loss: 1.6995 - prob_kld: 0.0222 - dist_relevant_mae: 1.6991 - dist_relevant_mse: 8.3773 - dist_dist_iou_metric: 0.6792 - val_loss: 0.5343 - val_prob_loss: 0.1378 - val_dist_loss: 1.9824 - val_prob_kld: 0.0708 - val_dist_relevant_mae: 1.9822 - val_dist_relevant_mse: 7.4206 - val_dist_dist_iou_metric: 0.6013 - lr: 7.5000e-05\n",
            "Epoch 55/200\n",
            "26/26 [==============================] - 5s 210ms/step - loss: 0.4053 - prob_loss: 0.0765 - dist_loss: 1.6440 - prob_kld: 0.0207 - dist_relevant_mae: 1.6437 - dist_relevant_mse: 7.3201 - dist_dist_iou_metric: 0.6844 - val_loss: 0.4373 - val_prob_loss: 0.1077 - val_dist_loss: 1.6479 - val_prob_kld: 0.0407 - val_dist_relevant_mae: 1.6476 - val_dist_relevant_mse: 4.5490 - val_dist_dist_iou_metric: 0.6533 - lr: 7.5000e-05\n",
            "Epoch 56/200\n",
            "26/26 [==============================] - 5s 206ms/step - loss: 0.4217 - prob_loss: 0.0785 - dist_loss: 1.7163 - prob_kld: 0.0219 - dist_relevant_mae: 1.7160 - dist_relevant_mse: 8.5400 - dist_dist_iou_metric: 0.6779 - val_loss: 0.4656 - val_prob_loss: 0.1517 - val_dist_loss: 1.5697 - val_prob_kld: 0.0847 - val_dist_relevant_mae: 1.5694 - val_dist_relevant_mse: 4.7689 - val_dist_dist_iou_metric: 0.6702 - lr: 7.5000e-05\n",
            "Epoch 57/200\n",
            "26/26 [==============================] - 5s 203ms/step - loss: 0.4136 - prob_loss: 0.0787 - dist_loss: 1.6743 - prob_kld: 0.0220 - dist_relevant_mae: 1.6740 - dist_relevant_mse: 7.8665 - dist_dist_iou_metric: 0.6837 - val_loss: 0.4200 - val_prob_loss: 0.0891 - val_dist_loss: 1.6546 - val_prob_kld: 0.0221 - val_dist_relevant_mae: 1.6543 - val_dist_relevant_mse: 5.3430 - val_dist_dist_iou_metric: 0.6606 - lr: 3.7500e-05\n",
            "Epoch 58/200\n",
            "26/26 [==============================] - 5s 204ms/step - loss: 0.4064 - prob_loss: 0.0767 - dist_loss: 1.6482 - prob_kld: 0.0204 - dist_relevant_mae: 1.6479 - dist_relevant_mse: 7.6646 - dist_dist_iou_metric: 0.6876 - val_loss: 0.3959 - val_prob_loss: 0.0972 - val_dist_loss: 1.4935 - val_prob_kld: 0.0302 - val_dist_relevant_mae: 1.4933 - val_dist_relevant_mse: 4.1209 - val_dist_dist_iou_metric: 0.6839 - lr: 3.7500e-05\n",
            "Epoch 59/200\n",
            "26/26 [==============================] - 5s 204ms/step - loss: 0.4080 - prob_loss: 0.0781 - dist_loss: 1.6498 - prob_kld: 0.0212 - dist_relevant_mae: 1.6495 - dist_relevant_mse: 7.8255 - dist_dist_iou_metric: 0.6852 - val_loss: 0.3737 - val_prob_loss: 0.0857 - val_dist_loss: 1.4398 - val_prob_kld: 0.0187 - val_dist_relevant_mae: 1.4395 - val_dist_relevant_mse: 3.9327 - val_dist_dist_iou_metric: 0.6930 - lr: 3.7500e-05\n",
            "Epoch 60/200\n",
            "26/26 [==============================] - 5s 206ms/step - loss: 0.4032 - prob_loss: 0.0766 - dist_loss: 1.6330 - prob_kld: 0.0207 - dist_relevant_mae: 1.6327 - dist_relevant_mse: 7.6659 - dist_dist_iou_metric: 0.6882 - val_loss: 0.3630 - val_prob_loss: 0.0914 - val_dist_loss: 1.3582 - val_prob_kld: 0.0244 - val_dist_relevant_mae: 1.3579 - val_dist_relevant_mse: 3.2767 - val_dist_dist_iou_metric: 0.7149 - lr: 3.7500e-05\n",
            "Epoch 61/200\n",
            "26/26 [==============================] - 5s 203ms/step - loss: 0.4086 - prob_loss: 0.0760 - dist_loss: 1.6633 - prob_kld: 0.0198 - dist_relevant_mae: 1.6630 - dist_relevant_mse: 8.2280 - dist_dist_iou_metric: 0.6864 - val_loss: 0.4197 - val_prob_loss: 0.1380 - val_dist_loss: 1.4081 - val_prob_kld: 0.0711 - val_dist_relevant_mae: 1.4078 - val_dist_relevant_mse: 3.4705 - val_dist_dist_iou_metric: 0.6976 - lr: 3.7500e-05\n",
            "Epoch 62/200\n",
            "26/26 [==============================] - 5s 207ms/step - loss: 0.4108 - prob_loss: 0.0782 - dist_loss: 1.6630 - prob_kld: 0.0209 - dist_relevant_mae: 1.6627 - dist_relevant_mse: 7.8652 - dist_dist_iou_metric: 0.6871 - val_loss: 0.3973 - val_prob_loss: 0.1026 - val_dist_loss: 1.4732 - val_prob_kld: 0.0356 - val_dist_relevant_mae: 1.4729 - val_dist_relevant_mse: 3.7629 - val_dist_dist_iou_metric: 0.6896 - lr: 3.7500e-05\n",
            "Epoch 63/200\n",
            "26/26 [==============================] - 5s 208ms/step - loss: 0.4054 - prob_loss: 0.0767 - dist_loss: 1.6431 - prob_kld: 0.0199 - dist_relevant_mae: 1.6428 - dist_relevant_mse: 7.5971 - dist_dist_iou_metric: 0.6895 - val_loss: 0.4333 - val_prob_loss: 0.1205 - val_dist_loss: 1.5640 - val_prob_kld: 0.0536 - val_dist_relevant_mae: 1.5637 - val_dist_relevant_mse: 4.1405 - val_dist_dist_iou_metric: 0.6729 - lr: 3.7500e-05\n",
            "Epoch 64/200\n",
            "26/26 [==============================] - 5s 213ms/step - loss: 0.4047 - prob_loss: 0.0771 - dist_loss: 1.6379 - prob_kld: 0.0208 - dist_relevant_mae: 1.6376 - dist_relevant_mse: 7.8983 - dist_dist_iou_metric: 0.6864 - val_loss: 0.4671 - val_prob_loss: 0.1442 - val_dist_loss: 1.6144 - val_prob_kld: 0.0772 - val_dist_relevant_mae: 1.6142 - val_dist_relevant_mse: 4.5757 - val_dist_dist_iou_metric: 0.6589 - lr: 1.8750e-05\n",
            "Epoch 65/200\n",
            "26/26 [==============================] - 5s 209ms/step - loss: 0.4003 - prob_loss: 0.0762 - dist_loss: 1.6205 - prob_kld: 0.0197 - dist_relevant_mae: 1.6202 - dist_relevant_mse: 7.5286 - dist_dist_iou_metric: 0.6892 - val_loss: 0.4692 - val_prob_loss: 0.1332 - val_dist_loss: 1.6799 - val_prob_kld: 0.0663 - val_dist_relevant_mae: 1.6797 - val_dist_relevant_mse: 5.1049 - val_dist_dist_iou_metric: 0.6487 - lr: 1.8750e-05\n",
            "Epoch 66/200\n",
            "26/26 [==============================] - 5s 208ms/step - loss: 0.4027 - prob_loss: 0.0781 - dist_loss: 1.6233 - prob_kld: 0.0209 - dist_relevant_mae: 1.6229 - dist_relevant_mse: 7.5267 - dist_dist_iou_metric: 0.6877 - val_loss: 0.3686 - val_prob_loss: 0.0852 - val_dist_loss: 1.4173 - val_prob_kld: 0.0182 - val_dist_relevant_mae: 1.4170 - val_dist_relevant_mse: 3.6048 - val_dist_dist_iou_metric: 0.7013 - lr: 1.8750e-05\n",
            "Epoch 67/200\n",
            "26/26 [==============================] - 5s 208ms/step - loss: 0.3920 - prob_loss: 0.0748 - dist_loss: 1.5857 - prob_kld: 0.0204 - dist_relevant_mae: 1.5854 - dist_relevant_mse: 7.1156 - dist_dist_iou_metric: 0.6905 - val_loss: 0.3996 - val_prob_loss: 0.0980 - val_dist_loss: 1.5081 - val_prob_kld: 0.0310 - val_dist_relevant_mae: 1.5078 - val_dist_relevant_mse: 4.1261 - val_dist_dist_iou_metric: 0.6818 - lr: 1.8750e-05\n",
            "Epoch 68/200\n",
            "26/26 [==============================] - 5s 212ms/step - loss: 0.3963 - prob_loss: 0.0769 - dist_loss: 1.5972 - prob_kld: 0.0202 - dist_relevant_mae: 1.5968 - dist_relevant_mse: 7.1696 - dist_dist_iou_metric: 0.6941 - val_loss: 0.3996 - val_prob_loss: 0.1010 - val_dist_loss: 1.4929 - val_prob_kld: 0.0340 - val_dist_relevant_mae: 1.4926 - val_dist_relevant_mse: 4.0512 - val_dist_dist_iou_metric: 0.6845 - lr: 1.8750e-05\n",
            "Epoch 69/200\n",
            "26/26 [==============================] - 5s 209ms/step - loss: 0.4062 - prob_loss: 0.0781 - dist_loss: 1.6409 - prob_kld: 0.0206 - dist_relevant_mae: 1.6406 - dist_relevant_mse: 8.0015 - dist_dist_iou_metric: 0.6900 - val_loss: 0.3934 - val_prob_loss: 0.0991 - val_dist_loss: 1.4712 - val_prob_kld: 0.0321 - val_dist_relevant_mae: 1.4710 - val_dist_relevant_mse: 3.9470 - val_dist_dist_iou_metric: 0.6911 - lr: 1.8750e-05\n",
            "Epoch 70/200\n",
            "26/26 [==============================] - 5s 211ms/step - loss: 0.4065 - prob_loss: 0.0764 - dist_loss: 1.6507 - prob_kld: 0.0199 - dist_relevant_mae: 1.6504 - dist_relevant_mse: 7.7839 - dist_dist_iou_metric: 0.6887 - val_loss: 0.3829 - val_prob_loss: 0.0912 - val_dist_loss: 1.4585 - val_prob_kld: 0.0242 - val_dist_relevant_mae: 1.4582 - val_dist_relevant_mse: 3.7454 - val_dist_dist_iou_metric: 0.6981 - lr: 1.8750e-05\n",
            "Epoch 71/200\n",
            "26/26 [==============================] - 5s 212ms/step - loss: 0.3916 - prob_loss: 0.0754 - dist_loss: 1.5813 - prob_kld: 0.0198 - dist_relevant_mae: 1.5810 - dist_relevant_mse: 6.9031 - dist_dist_iou_metric: 0.6938 - val_loss: 0.4185 - val_prob_loss: 0.1069 - val_dist_loss: 1.5578 - val_prob_kld: 0.0399 - val_dist_relevant_mae: 1.5575 - val_dist_relevant_mse: 4.1461 - val_dist_dist_iou_metric: 0.6752 - lr: 9.3750e-06\n",
            "Epoch 72/200\n",
            "26/26 [==============================] - 5s 211ms/step - loss: 0.4110 - prob_loss: 0.0765 - dist_loss: 1.6725 - prob_kld: 0.0200 - dist_relevant_mae: 1.6722 - dist_relevant_mse: 8.5971 - dist_dist_iou_metric: 0.6859 - val_loss: 0.4004 - val_prob_loss: 0.0996 - val_dist_loss: 1.5040 - val_prob_kld: 0.0326 - val_dist_relevant_mae: 1.5038 - val_dist_relevant_mse: 3.9098 - val_dist_dist_iou_metric: 0.6836 - lr: 9.3750e-06\n",
            "Epoch 73/200\n",
            "26/26 [==============================] - 5s 211ms/step - loss: 0.3987 - prob_loss: 0.0775 - dist_loss: 1.6062 - prob_kld: 0.0203 - dist_relevant_mae: 1.6058 - dist_relevant_mse: 7.3981 - dist_dist_iou_metric: 0.6918 - val_loss: 0.3915 - val_prob_loss: 0.0947 - val_dist_loss: 1.4841 - val_prob_kld: 0.0277 - val_dist_relevant_mae: 1.4838 - val_dist_relevant_mse: 3.9840 - val_dist_dist_iou_metric: 0.6882 - lr: 9.3750e-06\n",
            "Epoch 74/200\n",
            "26/26 [==============================] - 5s 210ms/step - loss: 0.3978 - prob_loss: 0.0750 - dist_loss: 1.6142 - prob_kld: 0.0196 - dist_relevant_mae: 1.6139 - dist_relevant_mse: 7.2707 - dist_dist_iou_metric: 0.6903 - val_loss: 0.4112 - val_prob_loss: 0.0992 - val_dist_loss: 1.5598 - val_prob_kld: 0.0322 - val_dist_relevant_mae: 1.5596 - val_dist_relevant_mse: 4.5116 - val_dist_dist_iou_metric: 0.6736 - lr: 9.3750e-06\n",
            "Epoch 75/200\n",
            "26/26 [==============================] - 5s 212ms/step - loss: 0.4118 - prob_loss: 0.0781 - dist_loss: 1.6685 - prob_kld: 0.0206 - dist_relevant_mae: 1.6682 - dist_relevant_mse: 8.3596 - dist_dist_iou_metric: 0.6872 - val_loss: 0.4065 - val_prob_loss: 0.1119 - val_dist_loss: 1.4730 - val_prob_kld: 0.0449 - val_dist_relevant_mae: 1.4728 - val_dist_relevant_mse: 3.9348 - val_dist_dist_iou_metric: 0.6902 - lr: 9.3750e-06\n",
            "Epoch 76/200\n",
            "26/26 [==============================] - 5s 214ms/step - loss: 0.3961 - prob_loss: 0.0755 - dist_loss: 1.6033 - prob_kld: 0.0192 - dist_relevant_mae: 1.6030 - dist_relevant_mse: 7.3326 - dist_dist_iou_metric: 0.6930 - val_loss: 0.3925 - val_prob_loss: 0.0981 - val_dist_loss: 1.4718 - val_prob_kld: 0.0312 - val_dist_relevant_mae: 1.4716 - val_dist_relevant_mse: 3.9596 - val_dist_dist_iou_metric: 0.6904 - lr: 9.3750e-06\n",
            "Epoch 77/200\n",
            "26/26 [==============================] - 5s 209ms/step - loss: 0.4020 - prob_loss: 0.0779 - dist_loss: 1.6206 - prob_kld: 0.0202 - dist_relevant_mae: 1.6203 - dist_relevant_mse: 7.5841 - dist_dist_iou_metric: 0.6886 - val_loss: 0.3990 - val_prob_loss: 0.0961 - val_dist_loss: 1.5145 - val_prob_kld: 0.0291 - val_dist_relevant_mae: 1.5143 - val_dist_relevant_mse: 4.1542 - val_dist_dist_iou_metric: 0.6834 - lr: 9.3750e-06\n",
            "Epoch 78/200\n",
            "26/26 [==============================] - 5s 214ms/step - loss: 0.4052 - prob_loss: 0.0765 - dist_loss: 1.6432 - prob_kld: 0.0200 - dist_relevant_mae: 1.6429 - dist_relevant_mse: 7.9016 - dist_dist_iou_metric: 0.6889 - val_loss: 0.3862 - val_prob_loss: 0.0937 - val_dist_loss: 1.4628 - val_prob_kld: 0.0267 - val_dist_relevant_mae: 1.4625 - val_dist_relevant_mse: 3.8516 - val_dist_dist_iou_metric: 0.6923 - lr: 4.6875e-06\n",
            "Epoch 79/200\n",
            "26/26 [==============================] - 5s 210ms/step - loss: 0.3961 - prob_loss: 0.0759 - dist_loss: 1.6012 - prob_kld: 0.0196 - dist_relevant_mae: 1.6009 - dist_relevant_mse: 7.3884 - dist_dist_iou_metric: 0.6944 - val_loss: 0.3981 - val_prob_loss: 0.1009 - val_dist_loss: 1.4863 - val_prob_kld: 0.0339 - val_dist_relevant_mae: 1.4860 - val_dist_relevant_mse: 3.9679 - val_dist_dist_iou_metric: 0.6869 - lr: 4.6875e-06\n",
            "Epoch 80/200\n",
            "26/26 [==============================] - 5s 208ms/step - loss: 0.4012 - prob_loss: 0.0757 - dist_loss: 1.6278 - prob_kld: 0.0197 - dist_relevant_mae: 1.6274 - dist_relevant_mse: 7.8084 - dist_dist_iou_metric: 0.6883 - val_loss: 0.3952 - val_prob_loss: 0.0981 - val_dist_loss: 1.4852 - val_prob_kld: 0.0311 - val_dist_relevant_mae: 1.4849 - val_dist_relevant_mse: 3.9038 - val_dist_dist_iou_metric: 0.6879 - lr: 4.6875e-06\n",
            "Epoch 81/200\n",
            "26/26 [==============================] - 5s 209ms/step - loss: 0.4022 - prob_loss: 0.0764 - dist_loss: 1.6287 - prob_kld: 0.0201 - dist_relevant_mae: 1.6283 - dist_relevant_mse: 7.5217 - dist_dist_iou_metric: 0.6899 - val_loss: 0.3980 - val_prob_loss: 0.1013 - val_dist_loss: 1.4839 - val_prob_kld: 0.0343 - val_dist_relevant_mae: 1.4836 - val_dist_relevant_mse: 3.9180 - val_dist_dist_iou_metric: 0.6875 - lr: 4.6875e-06\n",
            "Epoch 82/200\n",
            "26/26 [==============================] - 5s 209ms/step - loss: 0.4050 - prob_loss: 0.0768 - dist_loss: 1.6410 - prob_kld: 0.0195 - dist_relevant_mae: 1.6406 - dist_relevant_mse: 8.0107 - dist_dist_iou_metric: 0.6888 - val_loss: 0.4068 - val_prob_loss: 0.1066 - val_dist_loss: 1.5014 - val_prob_kld: 0.0396 - val_dist_relevant_mae: 1.5011 - val_dist_relevant_mse: 3.9475 - val_dist_dist_iou_metric: 0.6834 - lr: 4.6875e-06\n",
            "Epoch 83/200\n",
            "26/26 [==============================] - 5s 209ms/step - loss: 0.3986 - prob_loss: 0.0770 - dist_loss: 1.6079 - prob_kld: 0.0200 - dist_relevant_mae: 1.6076 - dist_relevant_mse: 7.2386 - dist_dist_iou_metric: 0.6943 - val_loss: 0.3954 - val_prob_loss: 0.1037 - val_dist_loss: 1.4586 - val_prob_kld: 0.0367 - val_dist_relevant_mae: 1.4584 - val_dist_relevant_mse: 3.7416 - val_dist_dist_iou_metric: 0.6927 - lr: 4.6875e-06\n",
            "Epoch 84/200\n",
            "26/26 [==============================] - 5s 211ms/step - loss: 0.3931 - prob_loss: 0.0743 - dist_loss: 1.5941 - prob_kld: 0.0195 - dist_relevant_mae: 1.5937 - dist_relevant_mse: 7.3021 - dist_dist_iou_metric: 0.6949 - val_loss: 0.3861 - val_prob_loss: 0.0985 - val_dist_loss: 1.4380 - val_prob_kld: 0.0315 - val_dist_relevant_mae: 1.4377 - val_dist_relevant_mse: 3.6049 - val_dist_dist_iou_metric: 0.6986 - lr: 4.6875e-06\n",
            "Epoch 85/200\n",
            "26/26 [==============================] - 5s 212ms/step - loss: 0.3953 - prob_loss: 0.0752 - dist_loss: 1.6007 - prob_kld: 0.0194 - dist_relevant_mae: 1.6003 - dist_relevant_mse: 7.5290 - dist_dist_iou_metric: 0.6931 - val_loss: 0.3843 - val_prob_loss: 0.0960 - val_dist_loss: 1.4414 - val_prob_kld: 0.0290 - val_dist_relevant_mae: 1.4412 - val_dist_relevant_mse: 3.6346 - val_dist_dist_iou_metric: 0.6972 - lr: 2.3438e-06\n",
            "Epoch 86/200\n",
            "26/26 [==============================] - 5s 212ms/step - loss: 0.3984 - prob_loss: 0.0770 - dist_loss: 1.6068 - prob_kld: 0.0200 - dist_relevant_mae: 1.6065 - dist_relevant_mse: 7.3690 - dist_dist_iou_metric: 0.6932 - val_loss: 0.3897 - val_prob_loss: 0.0974 - val_dist_loss: 1.4612 - val_prob_kld: 0.0304 - val_dist_relevant_mae: 1.4610 - val_dist_relevant_mse: 3.7641 - val_dist_dist_iou_metric: 0.6935 - lr: 2.3438e-06\n",
            "Epoch 87/200\n",
            "26/26 [==============================] - 5s 210ms/step - loss: 0.3998 - prob_loss: 0.0769 - dist_loss: 1.6145 - prob_kld: 0.0199 - dist_relevant_mae: 1.6141 - dist_relevant_mse: 7.5326 - dist_dist_iou_metric: 0.6890 - val_loss: 0.3932 - val_prob_loss: 0.0993 - val_dist_loss: 1.4694 - val_prob_kld: 0.0323 - val_dist_relevant_mae: 1.4692 - val_dist_relevant_mse: 3.8213 - val_dist_dist_iou_metric: 0.6919 - lr: 2.3438e-06\n",
            "Epoch 88/200\n",
            "26/26 [==============================] - 5s 209ms/step - loss: 0.4043 - prob_loss: 0.0763 - dist_loss: 1.6401 - prob_kld: 0.0193 - dist_relevant_mae: 1.6398 - dist_relevant_mse: 8.0281 - dist_dist_iou_metric: 0.6894 - val_loss: 0.3960 - val_prob_loss: 0.1009 - val_dist_loss: 1.4754 - val_prob_kld: 0.0339 - val_dist_relevant_mae: 1.4751 - val_dist_relevant_mse: 3.8350 - val_dist_dist_iou_metric: 0.6902 - lr: 2.3438e-06\n",
            "Epoch 89/200\n",
            "26/26 [==============================] - 5s 210ms/step - loss: 0.3930 - prob_loss: 0.0755 - dist_loss: 1.5873 - prob_kld: 0.0198 - dist_relevant_mae: 1.5870 - dist_relevant_mse: 7.4635 - dist_dist_iou_metric: 0.6935 - val_loss: 0.3941 - val_prob_loss: 0.0995 - val_dist_loss: 1.4731 - val_prob_kld: 0.0325 - val_dist_relevant_mae: 1.4729 - val_dist_relevant_mse: 3.8055 - val_dist_dist_iou_metric: 0.6905 - lr: 2.3438e-06\n",
            "Epoch 90/200\n",
            "26/26 [==============================] - 5s 210ms/step - loss: 0.3921 - prob_loss: 0.0750 - dist_loss: 1.5859 - prob_kld: 0.0202 - dist_relevant_mae: 1.5856 - dist_relevant_mse: 6.9623 - dist_dist_iou_metric: 0.6961 - val_loss: 0.3933 - val_prob_loss: 0.0975 - val_dist_loss: 1.4789 - val_prob_kld: 0.0305 - val_dist_relevant_mae: 1.4787 - val_dist_relevant_mse: 3.8466 - val_dist_dist_iou_metric: 0.6889 - lr: 2.3438e-06\n",
            "Epoch 91/200\n",
            "26/26 [==============================] - 5s 213ms/step - loss: 0.4007 - prob_loss: 0.0767 - dist_loss: 1.6202 - prob_kld: 0.0196 - dist_relevant_mae: 1.6199 - dist_relevant_mse: 7.6633 - dist_dist_iou_metric: 0.6924 - val_loss: 0.3909 - val_prob_loss: 0.0950 - val_dist_loss: 1.4791 - val_prob_kld: 0.0280 - val_dist_relevant_mae: 1.4789 - val_dist_relevant_mse: 3.8614 - val_dist_dist_iou_metric: 0.6890 - lr: 2.3438e-06\n",
            "Epoch 92/200\n",
            "26/26 [==============================] - 5s 213ms/step - loss: 0.4115 - prob_loss: 0.0786 - dist_loss: 1.6647 - prob_kld: 0.0203 - dist_relevant_mae: 1.6643 - dist_relevant_mse: 8.2976 - dist_dist_iou_metric: 0.6854 - val_loss: 0.3911 - val_prob_loss: 0.0951 - val_dist_loss: 1.4800 - val_prob_kld: 0.0281 - val_dist_relevant_mae: 1.4797 - val_dist_relevant_mse: 3.8728 - val_dist_dist_iou_metric: 0.6889 - lr: 1.1719e-06\n",
            "Epoch 93/200\n",
            "26/26 [==============================] - 5s 214ms/step - loss: 0.3891 - prob_loss: 0.0758 - dist_loss: 1.5666 - prob_kld: 0.0200 - dist_relevant_mae: 1.5662 - dist_relevant_mse: 6.9228 - dist_dist_iou_metric: 0.6981 - val_loss: 0.3899 - val_prob_loss: 0.0950 - val_dist_loss: 1.4741 - val_prob_kld: 0.0281 - val_dist_relevant_mae: 1.4738 - val_dist_relevant_mse: 3.8448 - val_dist_dist_iou_metric: 0.6904 - lr: 1.1719e-06\n",
            "Epoch 94/200\n",
            "26/26 [==============================] - 5s 211ms/step - loss: 0.4083 - prob_loss: 0.0775 - dist_loss: 1.6539 - prob_kld: 0.0203 - dist_relevant_mae: 1.6535 - dist_relevant_mse: 8.3130 - dist_dist_iou_metric: 0.6863 - val_loss: 0.3898 - val_prob_loss: 0.0952 - val_dist_loss: 1.4729 - val_prob_kld: 0.0282 - val_dist_relevant_mae: 1.4726 - val_dist_relevant_mse: 3.8241 - val_dist_dist_iou_metric: 0.6907 - lr: 1.1719e-06\n",
            "Epoch 95/200\n",
            "26/26 [==============================] - 5s 211ms/step - loss: 0.3949 - prob_loss: 0.0763 - dist_loss: 1.5929 - prob_kld: 0.0201 - dist_relevant_mae: 1.5926 - dist_relevant_mse: 7.3307 - dist_dist_iou_metric: 0.6946 - val_loss: 0.3901 - val_prob_loss: 0.0963 - val_dist_loss: 1.4692 - val_prob_kld: 0.0293 - val_dist_relevant_mae: 1.4689 - val_dist_relevant_mse: 3.7982 - val_dist_dist_iou_metric: 0.6913 - lr: 1.1719e-06\n",
            "Epoch 96/200\n",
            "26/26 [==============================] - 5s 214ms/step - loss: 0.3929 - prob_loss: 0.0749 - dist_loss: 1.5900 - prob_kld: 0.0195 - dist_relevant_mae: 1.5897 - dist_relevant_mse: 7.2660 - dist_dist_iou_metric: 0.6979 - val_loss: 0.3905 - val_prob_loss: 0.0965 - val_dist_loss: 1.4700 - val_prob_kld: 0.0296 - val_dist_relevant_mae: 1.4698 - val_dist_relevant_mse: 3.8041 - val_dist_dist_iou_metric: 0.6911 - lr: 1.1719e-06\n",
            "Epoch 97/200\n",
            "26/26 [==============================] - 5s 210ms/step - loss: 0.4022 - prob_loss: 0.0764 - dist_loss: 1.6293 - prob_kld: 0.0197 - dist_relevant_mae: 1.6289 - dist_relevant_mse: 8.0169 - dist_dist_iou_metric: 0.6913 - val_loss: 0.3906 - val_prob_loss: 0.0971 - val_dist_loss: 1.4676 - val_prob_kld: 0.0301 - val_dist_relevant_mae: 1.4674 - val_dist_relevant_mse: 3.7869 - val_dist_dist_iou_metric: 0.6916 - lr: 1.1719e-06\n",
            "Epoch 98/200\n",
            "26/26 [==============================] - 5s 208ms/step - loss: 0.3948 - prob_loss: 0.0760 - dist_loss: 1.5937 - prob_kld: 0.0195 - dist_relevant_mae: 1.5934 - dist_relevant_mse: 7.0572 - dist_dist_iou_metric: 0.6955 - val_loss: 0.3909 - val_prob_loss: 0.0978 - val_dist_loss: 1.4658 - val_prob_kld: 0.0308 - val_dist_relevant_mae: 1.4655 - val_dist_relevant_mse: 3.7963 - val_dist_dist_iou_metric: 0.6918 - lr: 1.1719e-06\n",
            "Epoch 99/200\n",
            "26/26 [==============================] - 5s 210ms/step - loss: 0.3982 - prob_loss: 0.0750 - dist_loss: 1.6161 - prob_kld: 0.0195 - dist_relevant_mae: 1.6158 - dist_relevant_mse: 7.3825 - dist_dist_iou_metric: 0.6926 - val_loss: 0.3907 - val_prob_loss: 0.0975 - val_dist_loss: 1.4663 - val_prob_kld: 0.0305 - val_dist_relevant_mae: 1.4660 - val_dist_relevant_mse: 3.7995 - val_dist_dist_iou_metric: 0.6917 - lr: 5.8594e-07\n",
            "Epoch 100/200\n",
            "26/26 [==============================] - 5s 211ms/step - loss: 0.4097 - prob_loss: 0.0774 - dist_loss: 1.6615 - prob_kld: 0.0197 - dist_relevant_mae: 1.6612 - dist_relevant_mse: 8.2712 - dist_dist_iou_metric: 0.6872 - val_loss: 0.3917 - val_prob_loss: 0.0975 - val_dist_loss: 1.4714 - val_prob_kld: 0.0305 - val_dist_relevant_mae: 1.4712 - val_dist_relevant_mse: 3.8340 - val_dist_dist_iou_metric: 0.6905 - lr: 5.8594e-07\n",
            "Epoch 101/200\n",
            "26/26 [==============================] - 5s 207ms/step - loss: 0.3849 - prob_loss: 0.0740 - dist_loss: 1.5549 - prob_kld: 0.0195 - dist_relevant_mae: 1.5546 - dist_relevant_mse: 6.5848 - dist_dist_iou_metric: 0.6982 - val_loss: 0.3896 - val_prob_loss: 0.0962 - val_dist_loss: 1.4671 - val_prob_kld: 0.0292 - val_dist_relevant_mae: 1.4668 - val_dist_relevant_mse: 3.8090 - val_dist_dist_iou_metric: 0.6915 - lr: 5.8594e-07\n",
            "Epoch 102/200\n",
            "26/26 [==============================] - 5s 207ms/step - loss: 0.3993 - prob_loss: 0.0751 - dist_loss: 1.6209 - prob_kld: 0.0195 - dist_relevant_mae: 1.6206 - dist_relevant_mse: 7.8347 - dist_dist_iou_metric: 0.6919 - val_loss: 0.3894 - val_prob_loss: 0.0964 - val_dist_loss: 1.4647 - val_prob_kld: 0.0295 - val_dist_relevant_mae: 1.4645 - val_dist_relevant_mse: 3.7926 - val_dist_dist_iou_metric: 0.6920 - lr: 5.8594e-07\n",
            "Epoch 103/200\n",
            "26/26 [==============================] - 5s 206ms/step - loss: 0.4058 - prob_loss: 0.0768 - dist_loss: 1.6451 - prob_kld: 0.0199 - dist_relevant_mae: 1.6447 - dist_relevant_mse: 8.0403 - dist_dist_iou_metric: 0.6879 - val_loss: 0.3908 - val_prob_loss: 0.0974 - val_dist_loss: 1.4667 - val_prob_kld: 0.0305 - val_dist_relevant_mae: 1.4664 - val_dist_relevant_mse: 3.8022 - val_dist_dist_iou_metric: 0.6914 - lr: 5.8594e-07\n",
            "Epoch 104/200\n",
            "26/26 [==============================] - 5s 205ms/step - loss: 0.3966 - prob_loss: 0.0776 - dist_loss: 1.5953 - prob_kld: 0.0194 - dist_relevant_mae: 1.5950 - dist_relevant_mse: 7.4622 - dist_dist_iou_metric: 0.6940 - val_loss: 0.3904 - val_prob_loss: 0.0975 - val_dist_loss: 1.4644 - val_prob_kld: 0.0306 - val_dist_relevant_mae: 1.4641 - val_dist_relevant_mse: 3.7932 - val_dist_dist_iou_metric: 0.6917 - lr: 5.8594e-07\n",
            "Epoch 105/200\n",
            "26/26 [==============================] - 5s 209ms/step - loss: 0.3880 - prob_loss: 0.0750 - dist_loss: 1.5652 - prob_kld: 0.0195 - dist_relevant_mae: 1.5648 - dist_relevant_mse: 6.7653 - dist_dist_iou_metric: 0.6977 - val_loss: 0.3897 - val_prob_loss: 0.0970 - val_dist_loss: 1.4633 - val_prob_kld: 0.0300 - val_dist_relevant_mae: 1.4631 - val_dist_relevant_mse: 3.7886 - val_dist_dist_iou_metric: 0.6920 - lr: 5.8594e-07\n",
            "Epoch 106/200\n",
            "26/26 [==============================] - 5s 210ms/step - loss: 0.3943 - prob_loss: 0.0762 - dist_loss: 1.5904 - prob_kld: 0.0194 - dist_relevant_mae: 1.5901 - dist_relevant_mse: 7.2805 - dist_dist_iou_metric: 0.6932 - val_loss: 0.3903 - val_prob_loss: 0.0970 - val_dist_loss: 1.4667 - val_prob_kld: 0.0300 - val_dist_relevant_mae: 1.4664 - val_dist_relevant_mse: 3.8066 - val_dist_dist_iou_metric: 0.6914 - lr: 2.9297e-07\n",
            "Epoch 107/200\n",
            "26/26 [==============================] - 5s 209ms/step - loss: 0.4003 - prob_loss: 0.0760 - dist_loss: 1.6216 - prob_kld: 0.0203 - dist_relevant_mae: 1.6212 - dist_relevant_mse: 7.5622 - dist_dist_iou_metric: 0.6902 - val_loss: 0.3908 - val_prob_loss: 0.0969 - val_dist_loss: 1.4694 - val_prob_kld: 0.0299 - val_dist_relevant_mae: 1.4691 - val_dist_relevant_mse: 3.8186 - val_dist_dist_iou_metric: 0.6910 - lr: 2.9297e-07\n",
            "Epoch 108/200\n",
            "26/26 [==============================] - 5s 209ms/step - loss: 0.4027 - prob_loss: 0.0788 - dist_loss: 1.6191 - prob_kld: 0.0211 - dist_relevant_mae: 1.6188 - dist_relevant_mse: 7.5015 - dist_dist_iou_metric: 0.6891 - val_loss: 0.3925 - val_prob_loss: 0.0975 - val_dist_loss: 1.4748 - val_prob_kld: 0.0305 - val_dist_relevant_mae: 1.4746 - val_dist_relevant_mse: 3.8471 - val_dist_dist_iou_metric: 0.6899 - lr: 2.9297e-07\n",
            "Epoch 109/200\n",
            "26/26 [==============================] - 5s 208ms/step - loss: 0.3945 - prob_loss: 0.0755 - dist_loss: 1.5951 - prob_kld: 0.0191 - dist_relevant_mae: 1.5948 - dist_relevant_mse: 7.4514 - dist_dist_iou_metric: 0.6961 - val_loss: 0.3925 - val_prob_loss: 0.0976 - val_dist_loss: 1.4742 - val_prob_kld: 0.0306 - val_dist_relevant_mae: 1.4740 - val_dist_relevant_mse: 3.8425 - val_dist_dist_iou_metric: 0.6900 - lr: 2.9297e-07\n",
            "Epoch 110/200\n",
            "26/26 [==============================] - 5s 209ms/step - loss: 0.4065 - prob_loss: 0.0769 - dist_loss: 1.6481 - prob_kld: 0.0199 - dist_relevant_mae: 1.6478 - dist_relevant_mse: 7.9433 - dist_dist_iou_metric: 0.6878 - val_loss: 0.3925 - val_prob_loss: 0.0975 - val_dist_loss: 1.4754 - val_prob_kld: 0.0305 - val_dist_relevant_mae: 1.4751 - val_dist_relevant_mse: 3.8555 - val_dist_dist_iou_metric: 0.6897 - lr: 2.9297e-07\n",
            "Epoch 111/200\n",
            "26/26 [==============================] - 5s 208ms/step - loss: 0.3906 - prob_loss: 0.0751 - dist_loss: 1.5772 - prob_kld: 0.0191 - dist_relevant_mae: 1.5768 - dist_relevant_mse: 7.2940 - dist_dist_iou_metric: 0.6945 - val_loss: 0.3916 - val_prob_loss: 0.0972 - val_dist_loss: 1.4719 - val_prob_kld: 0.0302 - val_dist_relevant_mae: 1.4716 - val_dist_relevant_mse: 3.8254 - val_dist_dist_iou_metric: 0.6905 - lr: 2.9297e-07\n",
            "Epoch 112/200\n",
            "26/26 [==============================] - 5s 209ms/step - loss: 0.3905 - prob_loss: 0.0753 - dist_loss: 1.5761 - prob_kld: 0.0196 - dist_relevant_mae: 1.5758 - dist_relevant_mse: 7.0839 - dist_dist_iou_metric: 0.6971 - val_loss: 0.3915 - val_prob_loss: 0.0970 - val_dist_loss: 1.4727 - val_prob_kld: 0.0300 - val_dist_relevant_mae: 1.4724 - val_dist_relevant_mse: 3.8293 - val_dist_dist_iou_metric: 0.6904 - lr: 2.9297e-07\n",
            "Epoch 113/200\n",
            "26/26 [==============================] - 5s 210ms/step - loss: 0.3942 - prob_loss: 0.0760 - dist_loss: 1.5910 - prob_kld: 0.0198 - dist_relevant_mae: 1.5907 - dist_relevant_mse: 6.9409 - dist_dist_iou_metric: 0.6945 - val_loss: 0.3915 - val_prob_loss: 0.0971 - val_dist_loss: 1.4718 - val_prob_kld: 0.0301 - val_dist_relevant_mae: 1.4715 - val_dist_relevant_mse: 3.8247 - val_dist_dist_iou_metric: 0.6905 - lr: 1.4648e-07\n",
            "Epoch 114/200\n",
            "26/26 [==============================] - 5s 208ms/step - loss: 0.4032 - prob_loss: 0.0779 - dist_loss: 1.6269 - prob_kld: 0.0200 - dist_relevant_mae: 1.6266 - dist_relevant_mse: 7.9868 - dist_dist_iou_metric: 0.6880 - val_loss: 0.3917 - val_prob_loss: 0.0971 - val_dist_loss: 1.4729 - val_prob_kld: 0.0301 - val_dist_relevant_mae: 1.4726 - val_dist_relevant_mse: 3.8256 - val_dist_dist_iou_metric: 0.6903 - lr: 1.4648e-07\n",
            "Epoch 115/200\n",
            "26/26 [==============================] - 5s 212ms/step - loss: 0.3997 - prob_loss: 0.0768 - dist_loss: 1.6142 - prob_kld: 0.0202 - dist_relevant_mae: 1.6139 - dist_relevant_mse: 7.6882 - dist_dist_iou_metric: 0.6919 - val_loss: 0.3918 - val_prob_loss: 0.0973 - val_dist_loss: 1.4727 - val_prob_kld: 0.0303 - val_dist_relevant_mae: 1.4724 - val_dist_relevant_mse: 3.8301 - val_dist_dist_iou_metric: 0.6903 - lr: 1.4648e-07\n",
            "Epoch 116/200\n",
            "26/26 [==============================] - 5s 208ms/step - loss: 0.4003 - prob_loss: 0.0759 - dist_loss: 1.6222 - prob_kld: 0.0193 - dist_relevant_mae: 1.6218 - dist_relevant_mse: 7.6499 - dist_dist_iou_metric: 0.6908 - val_loss: 0.3917 - val_prob_loss: 0.0972 - val_dist_loss: 1.4726 - val_prob_kld: 0.0303 - val_dist_relevant_mae: 1.4723 - val_dist_relevant_mse: 3.8292 - val_dist_dist_iou_metric: 0.6903 - lr: 1.4648e-07\n",
            "Epoch 117/200\n",
            "26/26 [==============================] - 5s 210ms/step - loss: 0.4004 - prob_loss: 0.0776 - dist_loss: 1.6142 - prob_kld: 0.0203 - dist_relevant_mae: 1.6139 - dist_relevant_mse: 7.4410 - dist_dist_iou_metric: 0.6894 - val_loss: 0.3914 - val_prob_loss: 0.0973 - val_dist_loss: 1.4704 - val_prob_kld: 0.0304 - val_dist_relevant_mae: 1.4701 - val_dist_relevant_mse: 3.8165 - val_dist_dist_iou_metric: 0.6908 - lr: 1.4648e-07\n",
            "Epoch 118/200\n",
            "26/26 [==============================] - 5s 209ms/step - loss: 0.3957 - prob_loss: 0.0752 - dist_loss: 1.6027 - prob_kld: 0.0196 - dist_relevant_mae: 1.6024 - dist_relevant_mse: 7.3619 - dist_dist_iou_metric: 0.6945 - val_loss: 0.3915 - val_prob_loss: 0.0972 - val_dist_loss: 1.4715 - val_prob_kld: 0.0302 - val_dist_relevant_mae: 1.4713 - val_dist_relevant_mse: 3.8227 - val_dist_dist_iou_metric: 0.6906 - lr: 1.4648e-07\n",
            "Epoch 119/200\n",
            "26/26 [==============================] - 5s 207ms/step - loss: 0.4063 - prob_loss: 0.0775 - dist_loss: 1.6443 - prob_kld: 0.0205 - dist_relevant_mae: 1.6439 - dist_relevant_mse: 7.8714 - dist_dist_iou_metric: 0.6866 - val_loss: 0.3909 - val_prob_loss: 0.0971 - val_dist_loss: 1.4689 - val_prob_kld: 0.0302 - val_dist_relevant_mae: 1.4686 - val_dist_relevant_mse: 3.8078 - val_dist_dist_iou_metric: 0.6911 - lr: 1.4648e-07\n",
            "Epoch 120/200\n",
            "26/26 [==============================] - 5s 213ms/step - loss: 0.3889 - prob_loss: 0.0756 - dist_loss: 1.5662 - prob_kld: 0.0195 - dist_relevant_mae: 1.5659 - dist_relevant_mse: 7.0172 - dist_dist_iou_metric: 0.6975 - val_loss: 0.3910 - val_prob_loss: 0.0970 - val_dist_loss: 1.4696 - val_prob_kld: 0.0301 - val_dist_relevant_mae: 1.4693 - val_dist_relevant_mse: 3.8097 - val_dist_dist_iou_metric: 0.6911 - lr: 7.3242e-08\n",
            "Epoch 121/200\n",
            "26/26 [==============================] - 5s 208ms/step - loss: 0.3913 - prob_loss: 0.0760 - dist_loss: 1.5768 - prob_kld: 0.0202 - dist_relevant_mae: 1.5764 - dist_relevant_mse: 7.1858 - dist_dist_iou_metric: 0.6928 - val_loss: 0.3904 - val_prob_loss: 0.0969 - val_dist_loss: 1.4674 - val_prob_kld: 0.0299 - val_dist_relevant_mae: 1.4671 - val_dist_relevant_mse: 3.7961 - val_dist_dist_iou_metric: 0.6915 - lr: 7.3242e-08\n",
            "Epoch 122/200\n",
            "26/26 [==============================] - 5s 208ms/step - loss: 0.3967 - prob_loss: 0.0769 - dist_loss: 1.5990 - prob_kld: 0.0197 - dist_relevant_mae: 1.5987 - dist_relevant_mse: 7.2731 - dist_dist_iou_metric: 0.6952 - val_loss: 0.3914 - val_prob_loss: 0.0971 - val_dist_loss: 1.4717 - val_prob_kld: 0.0301 - val_dist_relevant_mae: 1.4714 - val_dist_relevant_mse: 3.8237 - val_dist_dist_iou_metric: 0.6906 - lr: 7.3242e-08\n",
            "Epoch 123/200\n",
            "26/26 [==============================] - 5s 212ms/step - loss: 0.4032 - prob_loss: 0.0768 - dist_loss: 1.6322 - prob_kld: 0.0205 - dist_relevant_mae: 1.6319 - dist_relevant_mse: 7.4017 - dist_dist_iou_metric: 0.6875 - val_loss: 0.3922 - val_prob_loss: 0.0974 - val_dist_loss: 1.4738 - val_prob_kld: 0.0304 - val_dist_relevant_mae: 1.4736 - val_dist_relevant_mse: 3.8363 - val_dist_dist_iou_metric: 0.6902 - lr: 7.3242e-08\n",
            "Epoch 124/200\n",
            "26/26 [==============================] - 5s 207ms/step - loss: 0.3808 - prob_loss: 0.0732 - dist_loss: 1.5380 - prob_kld: 0.0192 - dist_relevant_mae: 1.5377 - dist_relevant_mse: 6.6885 - dist_dist_iou_metric: 0.6992 - val_loss: 0.3898 - val_prob_loss: 0.0964 - val_dist_loss: 1.4667 - val_prob_kld: 0.0295 - val_dist_relevant_mae: 1.4664 - val_dist_relevant_mse: 3.7889 - val_dist_dist_iou_metric: 0.6918 - lr: 7.3242e-08\n",
            "Epoch 125/200\n",
            "26/26 [==============================] - 5s 208ms/step - loss: 0.3929 - prob_loss: 0.0760 - dist_loss: 1.5842 - prob_kld: 0.0195 - dist_relevant_mae: 1.5839 - dist_relevant_mse: 7.1632 - dist_dist_iou_metric: 0.6951 - val_loss: 0.3906 - val_prob_loss: 0.0967 - val_dist_loss: 1.4694 - val_prob_kld: 0.0298 - val_dist_relevant_mae: 1.4691 - val_dist_relevant_mse: 3.8080 - val_dist_dist_iou_metric: 0.6912 - lr: 7.3242e-08\n",
            "Epoch 126/200\n",
            "26/26 [==============================] - 5s 209ms/step - loss: 0.4029 - prob_loss: 0.0769 - dist_loss: 1.6300 - prob_kld: 0.0205 - dist_relevant_mae: 1.6297 - dist_relevant_mse: 7.8097 - dist_dist_iou_metric: 0.6870 - val_loss: 0.3903 - val_prob_loss: 0.0970 - val_dist_loss: 1.4667 - val_prob_kld: 0.0300 - val_dist_relevant_mae: 1.4665 - val_dist_relevant_mse: 3.7912 - val_dist_dist_iou_metric: 0.6916 - lr: 7.3242e-08\n",
            "Epoch 127/200\n",
            "26/26 [==============================] - 5s 203ms/step - loss: 0.3919 - prob_loss: 0.0748 - dist_loss: 1.5854 - prob_kld: 0.0198 - dist_relevant_mae: 1.5851 - dist_relevant_mse: 7.2326 - dist_dist_iou_metric: 0.6971 - val_loss: 0.3903 - val_prob_loss: 0.0968 - val_dist_loss: 1.4674 - val_prob_kld: 0.0298 - val_dist_relevant_mae: 1.4671 - val_dist_relevant_mse: 3.7958 - val_dist_dist_iou_metric: 0.6916 - lr: 3.6621e-08\n",
            "Epoch 128/200\n",
            "26/26 [==============================] - 5s 206ms/step - loss: 0.3916 - prob_loss: 0.0755 - dist_loss: 1.5804 - prob_kld: 0.0192 - dist_relevant_mae: 1.5801 - dist_relevant_mse: 7.1151 - dist_dist_iou_metric: 0.6940 - val_loss: 0.3895 - val_prob_loss: 0.0964 - val_dist_loss: 1.4652 - val_prob_kld: 0.0295 - val_dist_relevant_mae: 1.4649 - val_dist_relevant_mse: 3.7837 - val_dist_dist_iou_metric: 0.6921 - lr: 3.6621e-08\n",
            "Epoch 129/200\n",
            "26/26 [==============================] - 5s 205ms/step - loss: 0.3999 - prob_loss: 0.0765 - dist_loss: 1.6168 - prob_kld: 0.0200 - dist_relevant_mae: 1.6164 - dist_relevant_mse: 7.5750 - dist_dist_iou_metric: 0.6895 - val_loss: 0.3901 - val_prob_loss: 0.0966 - val_dist_loss: 1.4676 - val_prob_kld: 0.0296 - val_dist_relevant_mae: 1.4673 - val_dist_relevant_mse: 3.7986 - val_dist_dist_iou_metric: 0.6916 - lr: 3.6621e-08\n",
            "Epoch 130/200\n",
            "26/26 [==============================] - 5s 203ms/step - loss: 0.4035 - prob_loss: 0.0785 - dist_loss: 1.6253 - prob_kld: 0.0208 - dist_relevant_mae: 1.6250 - dist_relevant_mse: 7.6105 - dist_dist_iou_metric: 0.6898 - val_loss: 0.3918 - val_prob_loss: 0.0972 - val_dist_loss: 1.4730 - val_prob_kld: 0.0302 - val_dist_relevant_mae: 1.4727 - val_dist_relevant_mse: 3.8292 - val_dist_dist_iou_metric: 0.6904 - lr: 3.6621e-08\n",
            "Epoch 131/200\n",
            "26/26 [==============================] - 5s 206ms/step - loss: 0.3874 - prob_loss: 0.0763 - dist_loss: 1.5553 - prob_kld: 0.0199 - dist_relevant_mae: 1.5550 - dist_relevant_mse: 6.6794 - dist_dist_iou_metric: 0.6979 - val_loss: 0.3911 - val_prob_loss: 0.0972 - val_dist_loss: 1.4694 - val_prob_kld: 0.0302 - val_dist_relevant_mae: 1.4692 - val_dist_relevant_mse: 3.8094 - val_dist_dist_iou_metric: 0.6910 - lr: 3.6621e-08\n",
            "Epoch 132/200\n",
            "26/26 [==============================] - 5s 203ms/step - loss: 0.4040 - prob_loss: 0.0766 - dist_loss: 1.6371 - prob_kld: 0.0205 - dist_relevant_mae: 1.6368 - dist_relevant_mse: 7.9312 - dist_dist_iou_metric: 0.6849 - val_loss: 0.3910 - val_prob_loss: 0.0971 - val_dist_loss: 1.4697 - val_prob_kld: 0.0301 - val_dist_relevant_mae: 1.4695 - val_dist_relevant_mse: 3.8116 - val_dist_dist_iou_metric: 0.6910 - lr: 3.6621e-08\n",
            "Epoch 133/200\n",
            "26/26 [==============================] - 5s 202ms/step - loss: 0.3963 - prob_loss: 0.0761 - dist_loss: 1.6015 - prob_kld: 0.0198 - dist_relevant_mae: 1.6011 - dist_relevant_mse: 7.3472 - dist_dist_iou_metric: 0.6941 - val_loss: 0.3914 - val_prob_loss: 0.0974 - val_dist_loss: 1.4700 - val_prob_kld: 0.0304 - val_dist_relevant_mae: 1.4697 - val_dist_relevant_mse: 3.8149 - val_dist_dist_iou_metric: 0.6909 - lr: 3.6621e-08\n",
            "Epoch 134/200\n",
            "26/26 [==============================] - 5s 203ms/step - loss: 0.3952 - prob_loss: 0.0767 - dist_loss: 1.5926 - prob_kld: 0.0199 - dist_relevant_mae: 1.5923 - dist_relevant_mse: 7.3263 - dist_dist_iou_metric: 0.6951 - val_loss: 0.3911 - val_prob_loss: 0.0974 - val_dist_loss: 1.4685 - val_prob_kld: 0.0305 - val_dist_relevant_mae: 1.4682 - val_dist_relevant_mse: 3.8063 - val_dist_dist_iou_metric: 0.6912 - lr: 1.8311e-08\n",
            "Epoch 135/200\n",
            "26/26 [==============================] - 5s 205ms/step - loss: 0.3934 - prob_loss: 0.0750 - dist_loss: 1.5920 - prob_kld: 0.0195 - dist_relevant_mae: 1.5917 - dist_relevant_mse: 7.0868 - dist_dist_iou_metric: 0.6971 - val_loss: 0.3908 - val_prob_loss: 0.0972 - val_dist_loss: 1.4680 - val_prob_kld: 0.0302 - val_dist_relevant_mae: 1.4677 - val_dist_relevant_mse: 3.8017 - val_dist_dist_iou_metric: 0.6913 - lr: 1.8311e-08\n",
            "Epoch 136/200\n",
            "26/26 [==============================] - 5s 202ms/step - loss: 0.3988 - prob_loss: 0.0762 - dist_loss: 1.6126 - prob_kld: 0.0194 - dist_relevant_mae: 1.6123 - dist_relevant_mse: 7.5168 - dist_dist_iou_metric: 0.6925 - val_loss: 0.3914 - val_prob_loss: 0.0973 - val_dist_loss: 1.4704 - val_prob_kld: 0.0303 - val_dist_relevant_mae: 1.4701 - val_dist_relevant_mse: 3.8177 - val_dist_dist_iou_metric: 0.6908 - lr: 1.8311e-08\n",
            "Epoch 137/200\n",
            "26/26 [==============================] - 5s 203ms/step - loss: 0.3987 - prob_loss: 0.0779 - dist_loss: 1.6038 - prob_kld: 0.0204 - dist_relevant_mae: 1.6035 - dist_relevant_mse: 7.2864 - dist_dist_iou_metric: 0.6922 - val_loss: 0.3918 - val_prob_loss: 0.0977 - val_dist_loss: 1.4707 - val_prob_kld: 0.0307 - val_dist_relevant_mae: 1.4704 - val_dist_relevant_mse: 3.8199 - val_dist_dist_iou_metric: 0.6907 - lr: 1.8311e-08\n",
            "Epoch 138/200\n",
            "26/26 [==============================] - 5s 204ms/step - loss: 0.3906 - prob_loss: 0.0748 - dist_loss: 1.5790 - prob_kld: 0.0196 - dist_relevant_mae: 1.5786 - dist_relevant_mse: 7.0894 - dist_dist_iou_metric: 0.6933 - val_loss: 0.3906 - val_prob_loss: 0.0970 - val_dist_loss: 1.4679 - val_prob_kld: 0.0301 - val_dist_relevant_mae: 1.4677 - val_dist_relevant_mse: 3.8003 - val_dist_dist_iou_metric: 0.6914 - lr: 1.8311e-08\n",
            "Epoch 139/200\n",
            "26/26 [==============================] - 5s 205ms/step - loss: 0.4061 - prob_loss: 0.0785 - dist_loss: 1.6380 - prob_kld: 0.0203 - dist_relevant_mae: 1.6377 - dist_relevant_mse: 7.8798 - dist_dist_iou_metric: 0.6922 - val_loss: 0.3923 - val_prob_loss: 0.0979 - val_dist_loss: 1.4723 - val_prob_kld: 0.0309 - val_dist_relevant_mae: 1.4721 - val_dist_relevant_mse: 3.8285 - val_dist_dist_iou_metric: 0.6904 - lr: 1.8311e-08\n",
            "Epoch 140/200\n",
            "26/26 [==============================] - 5s 203ms/step - loss: 0.4037 - prob_loss: 0.0756 - dist_loss: 1.6406 - prob_kld: 0.0197 - dist_relevant_mae: 1.6402 - dist_relevant_mse: 8.0338 - dist_dist_iou_metric: 0.6896 - val_loss: 0.3925 - val_prob_loss: 0.0982 - val_dist_loss: 1.4716 - val_prob_kld: 0.0312 - val_dist_relevant_mae: 1.4713 - val_dist_relevant_mse: 3.8243 - val_dist_dist_iou_metric: 0.6905 - lr: 1.8311e-08\n",
            "Epoch 141/200\n",
            "26/26 [==============================] - 5s 205ms/step - loss: 0.3974 - prob_loss: 0.0778 - dist_loss: 1.5982 - prob_kld: 0.0203 - dist_relevant_mae: 1.5978 - dist_relevant_mse: 7.1901 - dist_dist_iou_metric: 0.6922 - val_loss: 0.3931 - val_prob_loss: 0.0983 - val_dist_loss: 1.4737 - val_prob_kld: 0.0313 - val_dist_relevant_mae: 1.4734 - val_dist_relevant_mse: 3.8363 - val_dist_dist_iou_metric: 0.6901 - lr: 9.1553e-09\n",
            "Epoch 142/200\n",
            "26/26 [==============================] - 5s 201ms/step - loss: 0.3868 - prob_loss: 0.0738 - dist_loss: 1.5650 - prob_kld: 0.0198 - dist_relevant_mae: 1.5647 - dist_relevant_mse: 6.9848 - dist_dist_iou_metric: 0.6941 - val_loss: 0.3906 - val_prob_loss: 0.0972 - val_dist_loss: 1.4673 - val_prob_kld: 0.0302 - val_dist_relevant_mae: 1.4670 - val_dist_relevant_mse: 3.7948 - val_dist_dist_iou_metric: 0.6915 - lr: 9.1553e-09\n",
            "Epoch 143/200\n",
            "26/26 [==============================] - 5s 201ms/step - loss: 0.3998 - prob_loss: 0.0761 - dist_loss: 1.6185 - prob_kld: 0.0194 - dist_relevant_mae: 1.6182 - dist_relevant_mse: 7.6416 - dist_dist_iou_metric: 0.6932 - val_loss: 0.3910 - val_prob_loss: 0.0973 - val_dist_loss: 1.4683 - val_prob_kld: 0.0304 - val_dist_relevant_mae: 1.4680 - val_dist_relevant_mse: 3.8038 - val_dist_dist_iou_metric: 0.6912 - lr: 9.1553e-09\n",
            "Epoch 144/200\n",
            "26/26 [==============================] - 5s 202ms/step - loss: 0.4061 - prob_loss: 0.0771 - dist_loss: 1.6448 - prob_kld: 0.0199 - dist_relevant_mae: 1.6445 - dist_relevant_mse: 7.9274 - dist_dist_iou_metric: 0.6891 - val_loss: 0.3921 - val_prob_loss: 0.0975 - val_dist_loss: 1.4729 - val_prob_kld: 0.0306 - val_dist_relevant_mae: 1.4726 - val_dist_relevant_mse: 3.8285 - val_dist_dist_iou_metric: 0.6903 - lr: 9.1553e-09\n",
            "Epoch 145/200\n",
            "26/26 [==============================] - 5s 204ms/step - loss: 0.3951 - prob_loss: 0.0759 - dist_loss: 1.5958 - prob_kld: 0.0198 - dist_relevant_mae: 1.5955 - dist_relevant_mse: 7.3836 - dist_dist_iou_metric: 0.6933 - val_loss: 0.3918 - val_prob_loss: 0.0973 - val_dist_loss: 1.4725 - val_prob_kld: 0.0303 - val_dist_relevant_mae: 1.4722 - val_dist_relevant_mse: 3.8300 - val_dist_dist_iou_metric: 0.6904 - lr: 9.1553e-09\n",
            "Epoch 146/200\n",
            "26/26 [==============================] - 5s 205ms/step - loss: 0.3908 - prob_loss: 0.0754 - dist_loss: 1.5768 - prob_kld: 0.0196 - dist_relevant_mae: 1.5765 - dist_relevant_mse: 7.1450 - dist_dist_iou_metric: 0.6959 - val_loss: 0.3914 - val_prob_loss: 0.0972 - val_dist_loss: 1.4710 - val_prob_kld: 0.0302 - val_dist_relevant_mae: 1.4707 - val_dist_relevant_mse: 3.8195 - val_dist_dist_iou_metric: 0.6907 - lr: 9.1553e-09\n",
            "Epoch 147/200\n",
            "26/26 [==============================] - 5s 202ms/step - loss: 0.3964 - prob_loss: 0.0763 - dist_loss: 1.6005 - prob_kld: 0.0202 - dist_relevant_mae: 1.6001 - dist_relevant_mse: 7.3005 - dist_dist_iou_metric: 0.6929 - val_loss: 0.3918 - val_prob_loss: 0.0975 - val_dist_loss: 1.4718 - val_prob_kld: 0.0305 - val_dist_relevant_mae: 1.4716 - val_dist_relevant_mse: 3.8264 - val_dist_dist_iou_metric: 0.6906 - lr: 9.1553e-09\n",
            "Epoch 148/200\n",
            "26/26 [==============================] - 5s 202ms/step - loss: 0.3977 - prob_loss: 0.0761 - dist_loss: 1.6083 - prob_kld: 0.0196 - dist_relevant_mae: 1.6079 - dist_relevant_mse: 7.3377 - dist_dist_iou_metric: 0.6914 - val_loss: 0.3917 - val_prob_loss: 0.0975 - val_dist_loss: 1.4711 - val_prob_kld: 0.0305 - val_dist_relevant_mae: 1.4708 - val_dist_relevant_mse: 3.8189 - val_dist_dist_iou_metric: 0.6908 - lr: 4.5776e-09\n",
            "Epoch 149/200\n",
            "26/26 [==============================] - 5s 203ms/step - loss: 0.3892 - prob_loss: 0.0741 - dist_loss: 1.5755 - prob_kld: 0.0186 - dist_relevant_mae: 1.5752 - dist_relevant_mse: 7.1469 - dist_dist_iou_metric: 0.6996 - val_loss: 0.3906 - val_prob_loss: 0.0969 - val_dist_loss: 1.4685 - val_prob_kld: 0.0299 - val_dist_relevant_mae: 1.4682 - val_dist_relevant_mse: 3.8047 - val_dist_dist_iou_metric: 0.6913 - lr: 4.5776e-09\n",
            "Epoch 150/200\n",
            "26/26 [==============================] - 5s 201ms/step - loss: 0.4049 - prob_loss: 0.0780 - dist_loss: 1.6347 - prob_kld: 0.0200 - dist_relevant_mae: 1.6344 - dist_relevant_mse: 7.5979 - dist_dist_iou_metric: 0.6897 - val_loss: 0.3922 - val_prob_loss: 0.0976 - val_dist_loss: 1.4728 - val_prob_kld: 0.0306 - val_dist_relevant_mae: 1.4725 - val_dist_relevant_mse: 3.8314 - val_dist_dist_iou_metric: 0.6903 - lr: 4.5776e-09\n",
            "Epoch 151/200\n",
            "26/26 [==============================] - 5s 205ms/step - loss: 0.3956 - prob_loss: 0.0760 - dist_loss: 1.5978 - prob_kld: 0.0198 - dist_relevant_mae: 1.5974 - dist_relevant_mse: 7.2008 - dist_dist_iou_metric: 0.6912 - val_loss: 0.3914 - val_prob_loss: 0.0974 - val_dist_loss: 1.4703 - val_prob_kld: 0.0304 - val_dist_relevant_mae: 1.4700 - val_dist_relevant_mse: 3.8169 - val_dist_dist_iou_metric: 0.6908 - lr: 4.5776e-09\n",
            "Epoch 152/200\n",
            "26/26 [==============================] - 5s 207ms/step - loss: 0.3923 - prob_loss: 0.0746 - dist_loss: 1.5883 - prob_kld: 0.0192 - dist_relevant_mae: 1.5880 - dist_relevant_mse: 7.1751 - dist_dist_iou_metric: 0.6956 - val_loss: 0.3913 - val_prob_loss: 0.0972 - val_dist_loss: 1.4705 - val_prob_kld: 0.0303 - val_dist_relevant_mae: 1.4702 - val_dist_relevant_mse: 3.8189 - val_dist_dist_iou_metric: 0.6909 - lr: 4.5776e-09\n",
            "Epoch 153/200\n",
            "26/26 [==============================] - 5s 203ms/step - loss: 0.3968 - prob_loss: 0.0769 - dist_loss: 1.5993 - prob_kld: 0.0199 - dist_relevant_mae: 1.5990 - dist_relevant_mse: 7.4100 - dist_dist_iou_metric: 0.6915 - val_loss: 0.3918 - val_prob_loss: 0.0973 - val_dist_loss: 1.4722 - val_prob_kld: 0.0303 - val_dist_relevant_mae: 1.4719 - val_dist_relevant_mse: 3.8281 - val_dist_dist_iou_metric: 0.6905 - lr: 4.5776e-09\n",
            "Epoch 154/200\n",
            "26/26 [==============================] - 5s 203ms/step - loss: 0.3925 - prob_loss: 0.0755 - dist_loss: 1.5849 - prob_kld: 0.0196 - dist_relevant_mae: 1.5846 - dist_relevant_mse: 7.1517 - dist_dist_iou_metric: 0.6960 - val_loss: 0.3914 - val_prob_loss: 0.0973 - val_dist_loss: 1.4708 - val_prob_kld: 0.0303 - val_dist_relevant_mae: 1.4705 - val_dist_relevant_mse: 3.8188 - val_dist_dist_iou_metric: 0.6908 - lr: 4.5776e-09\n",
            "Epoch 155/200\n",
            "26/26 [==============================] - 5s 202ms/step - loss: 0.3957 - prob_loss: 0.0772 - dist_loss: 1.5925 - prob_kld: 0.0198 - dist_relevant_mae: 1.5922 - dist_relevant_mse: 7.1249 - dist_dist_iou_metric: 0.6956 - val_loss: 0.3914 - val_prob_loss: 0.0974 - val_dist_loss: 1.4700 - val_prob_kld: 0.0305 - val_dist_relevant_mae: 1.4698 - val_dist_relevant_mse: 3.8143 - val_dist_dist_iou_metric: 0.6908 - lr: 2.2888e-09\n",
            "Epoch 156/200\n",
            "26/26 [==============================] - 5s 204ms/step - loss: 0.3958 - prob_loss: 0.0755 - dist_loss: 1.6019 - prob_kld: 0.0198 - dist_relevant_mae: 1.6016 - dist_relevant_mse: 7.4270 - dist_dist_iou_metric: 0.6928 - val_loss: 0.3911 - val_prob_loss: 0.0969 - val_dist_loss: 1.4707 - val_prob_kld: 0.0300 - val_dist_relevant_mae: 1.4704 - val_dist_relevant_mse: 3.8162 - val_dist_dist_iou_metric: 0.6908 - lr: 2.2888e-09\n",
            "Epoch 157/200\n",
            "26/26 [==============================] - 5s 203ms/step - loss: 0.3965 - prob_loss: 0.0766 - dist_loss: 1.5993 - prob_kld: 0.0197 - dist_relevant_mae: 1.5990 - dist_relevant_mse: 7.6041 - dist_dist_iou_metric: 0.6932 - val_loss: 0.3915 - val_prob_loss: 0.0969 - val_dist_loss: 1.4728 - val_prob_kld: 0.0300 - val_dist_relevant_mae: 1.4725 - val_dist_relevant_mse: 3.8290 - val_dist_dist_iou_metric: 0.6903 - lr: 2.2888e-09\n",
            "Epoch 158/200\n",
            "26/26 [==============================] - 5s 203ms/step - loss: 0.3999 - prob_loss: 0.0768 - dist_loss: 1.6155 - prob_kld: 0.0200 - dist_relevant_mae: 1.6152 - dist_relevant_mse: 7.4776 - dist_dist_iou_metric: 0.6909 - val_loss: 0.3922 - val_prob_loss: 0.0973 - val_dist_loss: 1.4744 - val_prob_kld: 0.0303 - val_dist_relevant_mae: 1.4741 - val_dist_relevant_mse: 3.8383 - val_dist_dist_iou_metric: 0.6900 - lr: 2.2888e-09\n",
            "Epoch 159/200\n",
            "26/26 [==============================] - 5s 205ms/step - loss: 0.4030 - prob_loss: 0.0777 - dist_loss: 1.6261 - prob_kld: 0.0198 - dist_relevant_mae: 1.6258 - dist_relevant_mse: 7.6166 - dist_dist_iou_metric: 0.6893 - val_loss: 0.3924 - val_prob_loss: 0.0975 - val_dist_loss: 1.4749 - val_prob_kld: 0.0305 - val_dist_relevant_mae: 1.4746 - val_dist_relevant_mse: 3.8417 - val_dist_dist_iou_metric: 0.6899 - lr: 2.2888e-09\n",
            "Epoch 160/200\n",
            "26/26 [==============================] - 5s 208ms/step - loss: 0.3917 - prob_loss: 0.0753 - dist_loss: 1.5821 - prob_kld: 0.0194 - dist_relevant_mae: 1.5817 - dist_relevant_mse: 7.2215 - dist_dist_iou_metric: 0.6956 - val_loss: 0.3917 - val_prob_loss: 0.0974 - val_dist_loss: 1.4719 - val_prob_kld: 0.0304 - val_dist_relevant_mae: 1.4717 - val_dist_relevant_mse: 3.8260 - val_dist_dist_iou_metric: 0.6905 - lr: 2.2888e-09\n",
            "Epoch 161/200\n",
            "26/26 [==============================] - 5s 205ms/step - loss: 0.3982 - prob_loss: 0.0770 - dist_loss: 1.6061 - prob_kld: 0.0198 - dist_relevant_mae: 1.6058 - dist_relevant_mse: 7.5244 - dist_dist_iou_metric: 0.6931 - val_loss: 0.3926 - val_prob_loss: 0.0976 - val_dist_loss: 1.4752 - val_prob_kld: 0.0306 - val_dist_relevant_mae: 1.4749 - val_dist_relevant_mse: 3.8415 - val_dist_dist_iou_metric: 0.6898 - lr: 2.2888e-09\n",
            "Epoch 162/200\n",
            "26/26 [==============================] - 5s 204ms/step - loss: 0.4004 - prob_loss: 0.0750 - dist_loss: 1.6269 - prob_kld: 0.0194 - dist_relevant_mae: 1.6266 - dist_relevant_mse: 7.9081 - dist_dist_iou_metric: 0.6921 - val_loss: 0.3919 - val_prob_loss: 0.0975 - val_dist_loss: 1.4721 - val_prob_kld: 0.0305 - val_dist_relevant_mae: 1.4718 - val_dist_relevant_mse: 3.8252 - val_dist_dist_iou_metric: 0.6904 - lr: 1.1444e-09\n",
            "Epoch 163/200\n",
            "26/26 [==============================] - 5s 205ms/step - loss: 0.4075 - prob_loss: 0.0779 - dist_loss: 1.6479 - prob_kld: 0.0208 - dist_relevant_mae: 1.6475 - dist_relevant_mse: 7.8087 - dist_dist_iou_metric: 0.6841 - val_loss: 0.3923 - val_prob_loss: 0.0976 - val_dist_loss: 1.4734 - val_prob_kld: 0.0307 - val_dist_relevant_mae: 1.4732 - val_dist_relevant_mse: 3.8306 - val_dist_dist_iou_metric: 0.6902 - lr: 1.1444e-09\n",
            "Epoch 164/200\n",
            "26/26 [==============================] - 5s 209ms/step - loss: 0.3877 - prob_loss: 0.0736 - dist_loss: 1.5705 - prob_kld: 0.0190 - dist_relevant_mae: 1.5702 - dist_relevant_mse: 7.1521 - dist_dist_iou_metric: 0.6947 - val_loss: 0.3903 - val_prob_loss: 0.0968 - val_dist_loss: 1.4678 - val_prob_kld: 0.0298 - val_dist_relevant_mae: 1.4676 - val_dist_relevant_mse: 3.7969 - val_dist_dist_iou_metric: 0.6915 - lr: 1.1444e-09\n",
            "Epoch 165/200\n",
            "26/26 [==============================] - 5s 209ms/step - loss: 0.3984 - prob_loss: 0.0768 - dist_loss: 1.6077 - prob_kld: 0.0197 - dist_relevant_mae: 1.6074 - dist_relevant_mse: 7.2329 - dist_dist_iou_metric: 0.6955 - val_loss: 0.3913 - val_prob_loss: 0.0974 - val_dist_loss: 1.4697 - val_prob_kld: 0.0304 - val_dist_relevant_mae: 1.4694 - val_dist_relevant_mse: 3.8089 - val_dist_dist_iou_metric: 0.6910 - lr: 1.1444e-09\n",
            "Epoch 166/200\n",
            "26/26 [==============================] - 5s 205ms/step - loss: 0.3989 - prob_loss: 0.0753 - dist_loss: 1.6180 - prob_kld: 0.0193 - dist_relevant_mae: 1.6176 - dist_relevant_mse: 7.6452 - dist_dist_iou_metric: 0.6923 - val_loss: 0.3916 - val_prob_loss: 0.0974 - val_dist_loss: 1.4711 - val_prob_kld: 0.0304 - val_dist_relevant_mae: 1.4709 - val_dist_relevant_mse: 3.8138 - val_dist_dist_iou_metric: 0.6907 - lr: 1.1444e-09\n",
            "Epoch 167/200\n",
            "26/26 [==============================] - 5s 205ms/step - loss: 0.3999 - prob_loss: 0.0773 - dist_loss: 1.6132 - prob_kld: 0.0200 - dist_relevant_mae: 1.6129 - dist_relevant_mse: 7.4027 - dist_dist_iou_metric: 0.6904 - val_loss: 0.3922 - val_prob_loss: 0.0976 - val_dist_loss: 1.4731 - val_prob_kld: 0.0306 - val_dist_relevant_mae: 1.4729 - val_dist_relevant_mse: 3.8274 - val_dist_dist_iou_metric: 0.6902 - lr: 1.1444e-09\n",
            "Epoch 168/200\n",
            "26/26 [==============================] - 5s 206ms/step - loss: 0.4018 - prob_loss: 0.0769 - dist_loss: 1.6249 - prob_kld: 0.0202 - dist_relevant_mae: 1.6246 - dist_relevant_mse: 7.6479 - dist_dist_iou_metric: 0.6903 - val_loss: 0.3924 - val_prob_loss: 0.0976 - val_dist_loss: 1.4740 - val_prob_kld: 0.0306 - val_dist_relevant_mae: 1.4737 - val_dist_relevant_mse: 3.8314 - val_dist_dist_iou_metric: 0.6901 - lr: 1.1444e-09\n",
            "Epoch 169/200\n",
            "26/26 [==============================] - 5s 204ms/step - loss: 0.3931 - prob_loss: 0.0750 - dist_loss: 1.5906 - prob_kld: 0.0198 - dist_relevant_mae: 1.5903 - dist_relevant_mse: 7.2239 - dist_dist_iou_metric: 0.6950 - val_loss: 0.3913 - val_prob_loss: 0.0972 - val_dist_loss: 1.4706 - val_prob_kld: 0.0302 - val_dist_relevant_mae: 1.4703 - val_dist_relevant_mse: 3.8139 - val_dist_dist_iou_metric: 0.6908 - lr: 5.7220e-10\n",
            "Epoch 170/200\n",
            "26/26 [==============================] - 5s 208ms/step - loss: 0.3955 - prob_loss: 0.0760 - dist_loss: 1.5976 - prob_kld: 0.0199 - dist_relevant_mae: 1.5973 - dist_relevant_mse: 7.5480 - dist_dist_iou_metric: 0.6913 - val_loss: 0.3912 - val_prob_loss: 0.0973 - val_dist_loss: 1.4695 - val_prob_kld: 0.0303 - val_dist_relevant_mae: 1.4693 - val_dist_relevant_mse: 3.8090 - val_dist_dist_iou_metric: 0.6910 - lr: 5.7220e-10\n",
            "Epoch 171/200\n",
            "26/26 [==============================] - 5s 206ms/step - loss: 0.4052 - prob_loss: 0.0775 - dist_loss: 1.6383 - prob_kld: 0.0202 - dist_relevant_mae: 1.6380 - dist_relevant_mse: 7.9979 - dist_dist_iou_metric: 0.6873 - val_loss: 0.3911 - val_prob_loss: 0.0976 - val_dist_loss: 1.4678 - val_prob_kld: 0.0306 - val_dist_relevant_mae: 1.4676 - val_dist_relevant_mse: 3.8018 - val_dist_dist_iou_metric: 0.6913 - lr: 5.7220e-10\n",
            "Epoch 172/200\n",
            "26/26 [==============================] - 5s 207ms/step - loss: 0.3914 - prob_loss: 0.0753 - dist_loss: 1.5806 - prob_kld: 0.0198 - dist_relevant_mae: 1.5803 - dist_relevant_mse: 7.0876 - dist_dist_iou_metric: 0.6960 - val_loss: 0.3919 - val_prob_loss: 0.0977 - val_dist_loss: 1.4711 - val_prob_kld: 0.0307 - val_dist_relevant_mae: 1.4708 - val_dist_relevant_mse: 3.8190 - val_dist_dist_iou_metric: 0.6907 - lr: 5.7220e-10\n",
            "Epoch 173/200\n",
            "26/26 [==============================] - 5s 206ms/step - loss: 0.3975 - prob_loss: 0.0745 - dist_loss: 1.6149 - prob_kld: 0.0196 - dist_relevant_mae: 1.6146 - dist_relevant_mse: 7.7954 - dist_dist_iou_metric: 0.6926 - val_loss: 0.3915 - val_prob_loss: 0.0975 - val_dist_loss: 1.4703 - val_prob_kld: 0.0305 - val_dist_relevant_mae: 1.4700 - val_dist_relevant_mse: 3.8127 - val_dist_dist_iou_metric: 0.6909 - lr: 5.7220e-10\n",
            "Epoch 174/200\n",
            "26/26 [==============================] - 5s 209ms/step - loss: 0.3995 - prob_loss: 0.0767 - dist_loss: 1.6142 - prob_kld: 0.0193 - dist_relevant_mae: 1.6139 - dist_relevant_mse: 7.3906 - dist_dist_iou_metric: 0.6942 - val_loss: 0.3931 - val_prob_loss: 0.0980 - val_dist_loss: 1.4755 - val_prob_kld: 0.0310 - val_dist_relevant_mae: 1.4752 - val_dist_relevant_mse: 3.8443 - val_dist_dist_iou_metric: 0.6898 - lr: 5.7220e-10\n",
            "Epoch 175/200\n",
            "26/26 [==============================] - 5s 207ms/step - loss: 0.3985 - prob_loss: 0.0761 - dist_loss: 1.6118 - prob_kld: 0.0198 - dist_relevant_mae: 1.6114 - dist_relevant_mse: 7.6622 - dist_dist_iou_metric: 0.6941 - val_loss: 0.3924 - val_prob_loss: 0.0978 - val_dist_loss: 1.4731 - val_prob_kld: 0.0308 - val_dist_relevant_mae: 1.4728 - val_dist_relevant_mse: 3.8344 - val_dist_dist_iou_metric: 0.6903 - lr: 5.7220e-10\n",
            "Epoch 176/200\n",
            "26/26 [==============================] - 5s 203ms/step - loss: 0.3985 - prob_loss: 0.0768 - dist_loss: 1.6084 - prob_kld: 0.0197 - dist_relevant_mae: 1.6081 - dist_relevant_mse: 7.6743 - dist_dist_iou_metric: 0.6920 - val_loss: 0.3921 - val_prob_loss: 0.0978 - val_dist_loss: 1.4718 - val_prob_kld: 0.0308 - val_dist_relevant_mae: 1.4716 - val_dist_relevant_mse: 3.8249 - val_dist_dist_iou_metric: 0.6905 - lr: 2.8610e-10\n",
            "Epoch 177/200\n",
            "26/26 [==============================] - 5s 203ms/step - loss: 0.3977 - prob_loss: 0.0764 - dist_loss: 1.6063 - prob_kld: 0.0197 - dist_relevant_mae: 1.6059 - dist_relevant_mse: 7.4524 - dist_dist_iou_metric: 0.6919 - val_loss: 0.3924 - val_prob_loss: 0.0977 - val_dist_loss: 1.4731 - val_prob_kld: 0.0308 - val_dist_relevant_mae: 1.4728 - val_dist_relevant_mse: 3.8315 - val_dist_dist_iou_metric: 0.6902 - lr: 2.8610e-10\n",
            "Epoch 178/200\n",
            "26/26 [==============================] - 5s 204ms/step - loss: 0.3965 - prob_loss: 0.0758 - dist_loss: 1.6033 - prob_kld: 0.0198 - dist_relevant_mae: 1.6030 - dist_relevant_mse: 7.2575 - dist_dist_iou_metric: 0.6925 - val_loss: 0.3921 - val_prob_loss: 0.0975 - val_dist_loss: 1.4729 - val_prob_kld: 0.0306 - val_dist_relevant_mae: 1.4726 - val_dist_relevant_mse: 3.8316 - val_dist_dist_iou_metric: 0.6903 - lr: 2.8610e-10\n",
            "Epoch 179/200\n",
            "26/26 [==============================] - 5s 206ms/step - loss: 0.3902 - prob_loss: 0.0754 - dist_loss: 1.5740 - prob_kld: 0.0199 - dist_relevant_mae: 1.5737 - dist_relevant_mse: 6.9585 - dist_dist_iou_metric: 0.6954 - val_loss: 0.3911 - val_prob_loss: 0.0971 - val_dist_loss: 1.4698 - val_prob_kld: 0.0301 - val_dist_relevant_mae: 1.4696 - val_dist_relevant_mse: 3.8106 - val_dist_dist_iou_metric: 0.6910 - lr: 2.8610e-10\n",
            "Epoch 180/200\n",
            "26/26 [==============================] - 5s 208ms/step - loss: 0.4007 - prob_loss: 0.0762 - dist_loss: 1.6227 - prob_kld: 0.0199 - dist_relevant_mae: 1.6223 - dist_relevant_mse: 7.8474 - dist_dist_iou_metric: 0.6909 - val_loss: 0.3909 - val_prob_loss: 0.0971 - val_dist_loss: 1.4694 - val_prob_kld: 0.0301 - val_dist_relevant_mae: 1.4691 - val_dist_relevant_mse: 3.8094 - val_dist_dist_iou_metric: 0.6911 - lr: 2.8610e-10\n",
            "Epoch 181/200\n",
            "26/26 [==============================] - 5s 206ms/step - loss: 0.3930 - prob_loss: 0.0753 - dist_loss: 1.5885 - prob_kld: 0.0198 - dist_relevant_mae: 1.5882 - dist_relevant_mse: 7.0930 - dist_dist_iou_metric: 0.6949 - val_loss: 0.3905 - val_prob_loss: 0.0968 - val_dist_loss: 1.4685 - val_prob_kld: 0.0299 - val_dist_relevant_mae: 1.4682 - val_dist_relevant_mse: 3.8026 - val_dist_dist_iou_metric: 0.6913 - lr: 2.8610e-10\n",
            "Epoch 182/200\n",
            "26/26 [==============================] - 5s 204ms/step - loss: 0.4001 - prob_loss: 0.0774 - dist_loss: 1.6132 - prob_kld: 0.0199 - dist_relevant_mae: 1.6129 - dist_relevant_mse: 7.3226 - dist_dist_iou_metric: 0.6914 - val_loss: 0.3913 - val_prob_loss: 0.0972 - val_dist_loss: 1.4705 - val_prob_kld: 0.0302 - val_dist_relevant_mae: 1.4702 - val_dist_relevant_mse: 3.8142 - val_dist_dist_iou_metric: 0.6908 - lr: 2.8610e-10\n",
            "Epoch 183/200\n",
            "26/26 [==============================] - 5s 203ms/step - loss: 0.4041 - prob_loss: 0.0764 - dist_loss: 1.6384 - prob_kld: 0.0198 - dist_relevant_mae: 1.6381 - dist_relevant_mse: 7.8464 - dist_dist_iou_metric: 0.6885 - val_loss: 0.3926 - val_prob_loss: 0.0977 - val_dist_loss: 1.4743 - val_prob_kld: 0.0307 - val_dist_relevant_mae: 1.4741 - val_dist_relevant_mse: 3.8358 - val_dist_dist_iou_metric: 0.6900 - lr: 1.4305e-10\n",
            "Epoch 184/200\n",
            "26/26 [==============================] - 5s 204ms/step - loss: 0.3879 - prob_loss: 0.0738 - dist_loss: 1.5708 - prob_kld: 0.0195 - dist_relevant_mae: 1.5705 - dist_relevant_mse: 7.0955 - dist_dist_iou_metric: 0.6973 - val_loss: 0.3915 - val_prob_loss: 0.0973 - val_dist_loss: 1.4712 - val_prob_kld: 0.0303 - val_dist_relevant_mae: 1.4709 - val_dist_relevant_mse: 3.8150 - val_dist_dist_iou_metric: 0.6907 - lr: 1.4305e-10\n",
            "Epoch 185/200\n",
            "26/26 [==============================] - 5s 206ms/step - loss: 0.3917 - prob_loss: 0.0756 - dist_loss: 1.5805 - prob_kld: 0.0198 - dist_relevant_mae: 1.5802 - dist_relevant_mse: 7.3495 - dist_dist_iou_metric: 0.6937 - val_loss: 0.3917 - val_prob_loss: 0.0973 - val_dist_loss: 1.4720 - val_prob_kld: 0.0303 - val_dist_relevant_mae: 1.4718 - val_dist_relevant_mse: 3.8179 - val_dist_dist_iou_metric: 0.6905 - lr: 1.4305e-10\n",
            "Epoch 186/200\n",
            "26/26 [==============================] - 5s 207ms/step - loss: 0.4046 - prob_loss: 0.0762 - dist_loss: 1.6422 - prob_kld: 0.0201 - dist_relevant_mae: 1.6418 - dist_relevant_mse: 7.7850 - dist_dist_iou_metric: 0.6907 - val_loss: 0.3921 - val_prob_loss: 0.0976 - val_dist_loss: 1.4728 - val_prob_kld: 0.0306 - val_dist_relevant_mae: 1.4725 - val_dist_relevant_mse: 3.8264 - val_dist_dist_iou_metric: 0.6904 - lr: 1.4305e-10\n",
            "Epoch 187/200\n",
            "26/26 [==============================] - 5s 205ms/step - loss: 0.3930 - prob_loss: 0.0752 - dist_loss: 1.5889 - prob_kld: 0.0191 - dist_relevant_mae: 1.5886 - dist_relevant_mse: 7.2573 - dist_dist_iou_metric: 0.6953 - val_loss: 0.3922 - val_prob_loss: 0.0975 - val_dist_loss: 1.4733 - val_prob_kld: 0.0305 - val_dist_relevant_mae: 1.4731 - val_dist_relevant_mse: 3.8305 - val_dist_dist_iou_metric: 0.6903 - lr: 1.4305e-10\n",
            "Epoch 188/200\n",
            "26/26 [==============================] - 5s 208ms/step - loss: 0.3988 - prob_loss: 0.0763 - dist_loss: 1.6123 - prob_kld: 0.0201 - dist_relevant_mae: 1.6120 - dist_relevant_mse: 7.3945 - dist_dist_iou_metric: 0.6901 - val_loss: 0.3916 - val_prob_loss: 0.0973 - val_dist_loss: 1.4713 - val_prob_kld: 0.0303 - val_dist_relevant_mae: 1.4711 - val_dist_relevant_mse: 3.8194 - val_dist_dist_iou_metric: 0.6907 - lr: 1.4305e-10\n",
            "Epoch 189/200\n",
            "26/26 [==============================] - 5s 210ms/step - loss: 0.3971 - prob_loss: 0.0771 - dist_loss: 1.6004 - prob_kld: 0.0201 - dist_relevant_mae: 1.6000 - dist_relevant_mse: 7.4234 - dist_dist_iou_metric: 0.6903 - val_loss: 0.3920 - val_prob_loss: 0.0974 - val_dist_loss: 1.4731 - val_prob_kld: 0.0304 - val_dist_relevant_mae: 1.4728 - val_dist_relevant_mse: 3.8294 - val_dist_dist_iou_metric: 0.6903 - lr: 1.4305e-10\n",
            "Epoch 190/200\n",
            "26/26 [==============================] - 5s 207ms/step - loss: 0.3997 - prob_loss: 0.0760 - dist_loss: 1.6184 - prob_kld: 0.0196 - dist_relevant_mae: 1.6181 - dist_relevant_mse: 7.4742 - dist_dist_iou_metric: 0.6911 - val_loss: 0.3928 - val_prob_loss: 0.0976 - val_dist_loss: 1.4760 - val_prob_kld: 0.0306 - val_dist_relevant_mae: 1.4758 - val_dist_relevant_mse: 3.8468 - val_dist_dist_iou_metric: 0.6897 - lr: 7.1526e-11\n",
            "Epoch 191/200\n",
            "26/26 [==============================] - 5s 209ms/step - loss: 0.4008 - prob_loss: 0.0766 - dist_loss: 1.6209 - prob_kld: 0.0194 - dist_relevant_mae: 1.6206 - dist_relevant_mse: 7.5675 - dist_dist_iou_metric: 0.6899 - val_loss: 0.3931 - val_prob_loss: 0.0978 - val_dist_loss: 1.4764 - val_prob_kld: 0.0308 - val_dist_relevant_mae: 1.4761 - val_dist_relevant_mse: 3.8462 - val_dist_dist_iou_metric: 0.6896 - lr: 7.1526e-11\n",
            "Epoch 192/200\n",
            "26/26 [==============================] - 5s 206ms/step - loss: 0.4011 - prob_loss: 0.0754 - dist_loss: 1.6288 - prob_kld: 0.0196 - dist_relevant_mae: 1.6284 - dist_relevant_mse: 7.7809 - dist_dist_iou_metric: 0.6905 - val_loss: 0.3929 - val_prob_loss: 0.0978 - val_dist_loss: 1.4754 - val_prob_kld: 0.0309 - val_dist_relevant_mae: 1.4751 - val_dist_relevant_mse: 3.8416 - val_dist_dist_iou_metric: 0.6899 - lr: 7.1526e-11\n",
            "Epoch 193/200\n",
            "26/26 [==============================] - 5s 207ms/step - loss: 0.4031 - prob_loss: 0.0773 - dist_loss: 1.6290 - prob_kld: 0.0201 - dist_relevant_mae: 1.6287 - dist_relevant_mse: 8.0875 - dist_dist_iou_metric: 0.6881 - val_loss: 0.3931 - val_prob_loss: 0.0979 - val_dist_loss: 1.4758 - val_prob_kld: 0.0310 - val_dist_relevant_mae: 1.4756 - val_dist_relevant_mse: 3.8459 - val_dist_dist_iou_metric: 0.6898 - lr: 7.1526e-11\n",
            "Epoch 194/200\n",
            "26/26 [==============================] - 5s 208ms/step - loss: 0.3945 - prob_loss: 0.0757 - dist_loss: 1.5941 - prob_kld: 0.0199 - dist_relevant_mae: 1.5938 - dist_relevant_mse: 7.1674 - dist_dist_iou_metric: 0.6938 - val_loss: 0.3924 - val_prob_loss: 0.0975 - val_dist_loss: 1.4744 - val_prob_kld: 0.0305 - val_dist_relevant_mae: 1.4741 - val_dist_relevant_mse: 3.8382 - val_dist_dist_iou_metric: 0.6901 - lr: 7.1526e-11\n",
            "Epoch 195/200\n",
            "26/26 [==============================] - 5s 207ms/step - loss: 0.3952 - prob_loss: 0.0774 - dist_loss: 1.5893 - prob_kld: 0.0205 - dist_relevant_mae: 1.5890 - dist_relevant_mse: 7.4065 - dist_dist_iou_metric: 0.6940 - val_loss: 0.3917 - val_prob_loss: 0.0976 - val_dist_loss: 1.4707 - val_prob_kld: 0.0306 - val_dist_relevant_mae: 1.4704 - val_dist_relevant_mse: 3.8174 - val_dist_dist_iou_metric: 0.6908 - lr: 7.1526e-11\n",
            "Epoch 196/200\n",
            "26/26 [==============================] - 5s 206ms/step - loss: 0.3960 - prob_loss: 0.0767 - dist_loss: 1.5968 - prob_kld: 0.0203 - dist_relevant_mae: 1.5965 - dist_relevant_mse: 7.2409 - dist_dist_iou_metric: 0.6923 - val_loss: 0.3919 - val_prob_loss: 0.0975 - val_dist_loss: 1.4718 - val_prob_kld: 0.0305 - val_dist_relevant_mae: 1.4716 - val_dist_relevant_mse: 3.8212 - val_dist_dist_iou_metric: 0.6906 - lr: 7.1526e-11\n",
            "Epoch 197/200\n",
            "26/26 [==============================] - 5s 209ms/step - loss: 0.3944 - prob_loss: 0.0763 - dist_loss: 1.5905 - prob_kld: 0.0199 - dist_relevant_mae: 1.5902 - dist_relevant_mse: 7.0285 - dist_dist_iou_metric: 0.6940 - val_loss: 0.3922 - val_prob_loss: 0.0974 - val_dist_loss: 1.4743 - val_prob_kld: 0.0304 - val_dist_relevant_mae: 1.4740 - val_dist_relevant_mse: 3.8344 - val_dist_dist_iou_metric: 0.6901 - lr: 3.5763e-11\n",
            "Epoch 198/200\n",
            "26/26 [==============================] - 5s 211ms/step - loss: 0.3915 - prob_loss: 0.0752 - dist_loss: 1.5813 - prob_kld: 0.0201 - dist_relevant_mae: 1.5810 - dist_relevant_mse: 6.9255 - dist_dist_iou_metric: 0.6951 - val_loss: 0.3919 - val_prob_loss: 0.0973 - val_dist_loss: 1.4731 - val_prob_kld: 0.0303 - val_dist_relevant_mae: 1.4728 - val_dist_relevant_mse: 3.8290 - val_dist_dist_iou_metric: 0.6903 - lr: 3.5763e-11\n",
            "Epoch 199/200\n",
            "26/26 [==============================] - 5s 207ms/step - loss: 0.3945 - prob_loss: 0.0759 - dist_loss: 1.5929 - prob_kld: 0.0196 - dist_relevant_mae: 1.5926 - dist_relevant_mse: 7.2156 - dist_dist_iou_metric: 0.6937 - val_loss: 0.3915 - val_prob_loss: 0.0973 - val_dist_loss: 1.4710 - val_prob_kld: 0.0304 - val_dist_relevant_mae: 1.4708 - val_dist_relevant_mse: 3.8195 - val_dist_dist_iou_metric: 0.6907 - lr: 3.5763e-11\n",
            "Epoch 200/200\n",
            "26/26 [==============================] - 5s 209ms/step - loss: 0.3983 - prob_loss: 0.0776 - dist_loss: 1.6032 - prob_kld: 0.0202 - dist_relevant_mae: 1.6029 - dist_relevant_mse: 7.4847 - dist_dist_iou_metric: 0.6924 - val_loss: 0.3918 - val_prob_loss: 0.0976 - val_dist_loss: 1.4713 - val_prob_kld: 0.0306 - val_dist_relevant_mae: 1.4711 - val_dist_relevant_mse: 3.8202 - val_dist_dist_iou_metric: 0.6907 - lr: 3.5763e-11\n",
            "\n",
            "Loading network weights from 'weights_best.h5'.\n"
          ]
        },
        {
          "output_type": "execute_result",
          "data": {
            "text/plain": [
              "<keras.callbacks.History at 0x7f9ce841bb90>"
            ]
          },
          "metadata": {},
          "execution_count": 34
        }
      ]
    },
    {
      "cell_type": "markdown",
      "source": [
        "### prediction\n",
        "for prediction, the model is fed with lists of arrays in dtype float32 and shapes of (x,y,3) as X and arrays in dtype float32 and shapes of (x,y,3) as y"
      ],
      "metadata": {
        "id": "lE2aq_tCz09g"
      }
    },
    {
      "cell_type": "code",
      "source": [
        "def example(model, img, msk, show_dist=True):\n",
        "\n",
        "    labels, details = model.predict_instances(img)\n",
        "    \n",
        "    # plt.figure(figsize=(13,10))\n",
        "    img_show = img if img.ndim==2 else img[...,0]\n",
        "    msk_show = msk if msk.ndim==2 else msk[...,0]\n",
        "\n",
        "    coord, points, prob = details['coord'], details['points'], details['prob']\n",
        "\n",
        "    plt.subplot(1,3, 1); plt.imshow(img_show, cmap='gray'); plt.axis('off') ; plt.title('prediction')\n",
        "    a = plt.axis()\n",
        "    _draw_polygons(coord, points, prob, show_dist=show_dist)\n",
        "    plt.axis(a)\n",
        "\n",
        "    plt.subplot(1,3,2); plt.imshow(img_show, cmap='gray'); plt.axis('off') ; plt.title('image')\n",
        "    # plt.imshow(labels, cmap= 'tab20c', alpha=0.5)\n",
        "    plt.tight_layout()\n",
        "\n",
        "    plt.subplot(1,3,3); plt.imshow(msk_show, cmap='gray'); plt.axis('off') ; plt.title('true mask')\n",
        "    # plt.imshow(labels, cmap= 'tab20c', alpha=0.5)\n",
        "    plt.tight_layout()\n",
        "    plt.show()"
      ],
      "metadata": {
        "id": "ejVRGkEnLesV"
      },
      "execution_count": 35,
      "outputs": []
    },
    {
      "cell_type": "code",
      "source": [
        "## show predictions examples\n",
        "sample_index_lst = sample(list(range(len(X_val))), 5)\n",
        "\n",
        "for ind in sample_index_lst:\n",
        "  img = X_val[ind]\n",
        "  msk = y_val[ind]\n",
        "  print(f'#{ind}, image shape: {img.shape}, mask shape: {msk.shape}')\n",
        "  print(f'        image type: {img.dtype}, mask type: {msk.dtype}')\n",
        "  example(model,img,msk,show_dist=True)"
      ],
      "metadata": {
        "colab": {
          "base_uri": "https://localhost:8080/",
          "height": 1000
        },
        "id": "WsPmtSVaLpWt",
        "outputId": "aff75729-d27f-4941-8b16-afa1fc52f149"
      },
      "execution_count": 36,
      "outputs": [
        {
          "output_type": "stream",
          "name": "stdout",
          "text": [
            "#68, image shape: (100, 100, 1), mask shape: (100, 100)\n",
            "        image type: uint8, mask type: uint8\n"
          ]
        },
        {
          "output_type": "stream",
          "name": "stderr",
          "text": [
            "base.py (394): Predicting on non-float input... ( forgot to normalize? )\n"
          ]
        },
        {
          "output_type": "display_data",
          "data": {
            "text/plain": [
              "<Figure size 432x288 with 3 Axes>"
            ],
            "image/png": "[encoded data removed]"
          },
          "metadata": {
            "needs_background": "light"
          }
        },
        {
          "output_type": "stream",
          "name": "stdout",
          "text": [
            "#17, image shape: (100, 100, 1), mask shape: (100, 100)\n",
            "        image type: uint8, mask type: uint8\n"
          ]
        },
        {
          "output_type": "display_data",
          "data": {
            "text/plain": [
              "<Figure size 432x288 with 3 Axes>"
            ],
            "image/png": "[encoded data removed]"
          },
          "metadata": {
            "needs_background": "light"
          }
        },
        {
          "output_type": "stream",
          "name": "stdout",
          "text": [
            "#90, image shape: (100, 100, 1), mask shape: (100, 100)\n",
            "        image type: uint8, mask type: uint8\n"
          ]
        },
        {
          "output_type": "display_data",
          "data": {
            "text/plain": [
              "<Figure size 432x288 with 3 Axes>"
            ],
            "image/png": "[encoded data removed]"
          },
          "metadata": {
            "needs_background": "light"
          }
        },
        {
          "output_type": "stream",
          "name": "stdout",
          "text": [
            "#92, image shape: (100, 100, 1), mask shape: (100, 100)\n",
            "        image type: uint8, mask type: uint8\n"
          ]
        },
        {
          "output_type": "display_data",
          "data": {
            "text/plain": [
              "<Figure size 432x288 with 3 Axes>"
            ],
            "image/png": "[encoded data removed]"
          },
          "metadata": {
            "needs_background": "light"
          }
        },
        {
          "output_type": "stream",
          "name": "stdout",
          "text": [
            "#50, image shape: (100, 100, 1), mask shape: (100, 100)\n",
            "        image type: uint8, mask type: uint8\n"
          ]
        },
        {
          "output_type": "display_data",
          "data": {
            "text/plain": [
              "<Figure size 432x288 with 3 Axes>"
            ],
            "image/png": "[encoded data removed]"
          },
          "metadata": {
            "needs_background": "light"
          }
        }
      ]
    },
    {
      "cell_type": "code",
      "source": [
        "## make predictions\n",
        "y_test_pred = [model.predict_instances(x, n_tiles=model._guess_n_tiles(x), show_tile_progress=False)[0]\n",
        "              for x in X_val]"
      ],
      "metadata": {
        "colab": {
          "base_uri": "https://localhost:8080/"
        },
        "id": "s0kPePT4Ns1H",
        "outputId": "9d12298c-1a3d-4e6d-9c8e-e6c4807d2970"
      },
      "execution_count": 37,
      "outputs": [
        {
          "output_type": "stream",
          "name": "stderr",
          "text": [
            "base.py (394): Predicting on non-float input... ( forgot to normalize? )\n"
          ]
        }
      ]
    },
    {
      "cell_type": "markdown",
      "source": [
        "###evaluation"
      ],
      "metadata": {
        "id": "FPtuY2ZiC6V2"
      }
    },
    {
      "cell_type": "code",
      "source": [
        "def compute_iou(y_pred, y_true):\n",
        "  ious_0 = []\n",
        "  ious_1 = []\n",
        "  ious = []\n",
        "  for i,j in zip(y_pred, y_true):\n",
        "    pred = np.array(i > 0, dtype = int)\n",
        "    true = np.array(j == 255, dtype = int)\n",
        "\n",
        "    # ytrue, ypred is a flatten vector\n",
        "    pred_ = pred.flatten()\n",
        "    true_ = true.flatten()\n",
        "\n",
        "    labels = [0, 1]\n",
        "    jaccards = []\n",
        "\n",
        "    jaccard_0 = jaccard_score(pred_.flatten(),true_.flatten(), pos_label=0)\n",
        "    jaccard_1 = jaccard_score(pred_.flatten(),true_.flatten(), pos_label=1)\n",
        "    \n",
        "    ious_0.append(jaccard_0)\n",
        "    ious_1.append(jaccard_1)\n",
        "    ious.append((jaccard_0 + jaccard_1)/2)\n",
        "\n",
        "  iou_0 = np.mean(jaccard_0)\n",
        "  iou_1 = np.mean(jaccard_1)\n",
        "  \n",
        "  print(f'mean IoU of background: {np.mean(iou_0)}')\n",
        "  print(f'median IoU of background: {np.median(iou_0)}')\n",
        "\n",
        "  plt.hist(ious_0) ; plt.title('background IoU') ; plt.xlabel('sample Jaccard score') ; plt.ylabel('number of samples')\n",
        "  plt.show()\n",
        "\n",
        "  print(f'mean IoU of spores: {np.mean(iou_1)}')\n",
        "  print(f'median IoU of spores: {np.median(iou_1)}')\n",
        "\n",
        "  plt.hist(ious_1) ; plt.title('spores IoU') ; plt.xlabel('sample Jaccard score') ; plt.ylabel('number of samples')\n",
        "  plt.show()\n",
        "\n",
        "  print(f'mean IoU: {np.mean(ious)}')\n",
        "  print(f'median IoU: {np.median(ious)}')\n",
        "\n",
        "  plt.hist(ious) ; plt.title('model IoU') ; plt.xlabel('sample Jaccard score') ; plt.ylabel('number of samples')\n",
        "  plt.show()\n"
      ],
      "metadata": {
        "id": "mQLaKHTuZotK"
      },
      "execution_count": 42,
      "outputs": []
    },
    {
      "cell_type": "code",
      "source": [
        "compute_iou(y_test_pred, y_val)"
      ],
      "metadata": {
        "colab": {
          "base_uri": "https://localhost:8080/",
          "height": 959
        },
        "id": "mbZb81JOAG-B",
        "outputId": "b189e748-8d0d-4007-c4d9-fbaf5dee0360"
      },
      "execution_count": 43,
      "outputs": [
        {
          "output_type": "stream",
          "name": "stdout",
          "text": [
            "mean IoU of background: 0.9388111888111889\n",
            "median IoU of background: 0.9388111888111889\n"
          ]
        },
        {
          "output_type": "display_data",
          "data": {
            "text/plain": [
              "<Figure size 432x288 with 1 Axes>"
            ],
            "image/png": "[encoded data removed]"
          },
          "metadata": {
            "needs_background": "light"
          }
        },
        {
          "output_type": "stream",
          "name": "stdout",
          "text": [
            "mean IoU of spores: 0.6022727272727273\n",
            "median IoU of spores: 0.6022727272727273\n"
          ]
        },
        {
          "output_type": "display_data",
          "data": {
            "text/plain": [
              "<Figure size 432x288 with 1 Axes>"
            ],
            "image/png": "[encoded data removed]"
          },
          "metadata": {
            "needs_background": "light"
          }
        },
        {
          "output_type": "stream",
          "name": "stdout",
          "text": [
            "mean IoU: 0.7306820881100408\n",
            "median IoU: 0.7387253603212035\n"
          ]
        },
        {
          "output_type": "display_data",
          "data": {
            "text/plain": [
              "<Figure size 432x288 with 1 Axes>"
            ],
            "image/png": "[encoded data removed]"
          },
          "metadata": {
            "needs_background": "light"
          }
        }
      ]
    }
  ]
}