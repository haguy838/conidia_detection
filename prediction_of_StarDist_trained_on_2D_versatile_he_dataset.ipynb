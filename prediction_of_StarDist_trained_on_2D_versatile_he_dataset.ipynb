{
  "cells": [
    {
      "cell_type": "markdown",
      "metadata": {
        "id": "sfhlz34grLG0"
      },
      "source": [
        "#**image segmentation of mould spores from grayscale microscope images**\n",
        "\n",
        "**StarDist**\n",
        "\n",
        "- cell segmentation models\n",
        "- traind on microscope images dataset '2D_versatile_he'\n"
      ]
    },
    {
      "cell_type": "markdown",
      "metadata": {
        "id": "jxDK5bFjU1bB"
      },
      "source": [
        "## imports, mount drive and directory paths"
      ]
    },
    {
      "cell_type": "code",
      "execution_count": 1,
      "metadata": {
        "colab": {
          "base_uri": "https://localhost:8080/",
          "height": 0
        },
        "id": "HDaVCgYPUjt5",
        "outputId": "035ff435-ddca-4ba8-92c9-e5fc9b21c8c2"
      },
      "outputs": [
        {
          "output_type": "stream",
          "name": "stdout",
          "text": [
            "Collecting opencv-python-headless<4.3\n",
            "  Downloading opencv_python_headless-4.2.0.34-cp37-cp37m-manylinux1_x86_64.whl (21.6 MB)\n",
            "\u001b[K     |████████████████████████████████| 21.6 MB 1.7 MB/s \n",
            "\u001b[?25hRequirement already satisfied: numpy>=1.14.5 in /usr/local/lib/python3.7/dist-packages (from opencv-python-headless<4.3) (1.21.6)\n",
            "Installing collected packages: opencv-python-headless\n",
            "Successfully installed opencv-python-headless-4.2.0.34\n",
            "Collecting git+https://github.com/albumentations-team/albumentations\n",
            "  Cloning https://github.com/albumentations-team/albumentations to /tmp/pip-req-build-gnpwh7am\n",
            "  Running command git clone -q https://github.com/albumentations-team/albumentations /tmp/pip-req-build-gnpwh7am\n",
            "Requirement already satisfied: numpy>=1.11.1 in /usr/local/lib/python3.7/dist-packages (from albumentations==1.1.0) (1.21.6)\n",
            "Requirement already satisfied: scipy in /usr/local/lib/python3.7/dist-packages (from albumentations==1.1.0) (1.4.1)\n",
            "Requirement already satisfied: scikit-image<0.19,>=0.16.1 in /usr/local/lib/python3.7/dist-packages (from albumentations==1.1.0) (0.18.3)\n",
            "Requirement already satisfied: PyYAML in /usr/local/lib/python3.7/dist-packages (from albumentations==1.1.0) (3.13)\n",
            "Collecting qudida>=0.0.4\n",
            "  Downloading qudida-0.0.4-py3-none-any.whl (3.5 kB)\n",
            "Requirement already satisfied: opencv-python>=4.1.1 in /usr/local/lib/python3.7/dist-packages (from albumentations==1.1.0) (4.1.2.30)\n",
            "Requirement already satisfied: scikit-learn>=0.19.1 in /usr/local/lib/python3.7/dist-packages (from qudida>=0.0.4->albumentations==1.1.0) (1.0.2)\n",
            "Requirement already satisfied: opencv-python-headless>=4.0.1 in /usr/local/lib/python3.7/dist-packages (from qudida>=0.0.4->albumentations==1.1.0) (4.2.0.34)\n",
            "Requirement already satisfied: typing-extensions in /usr/local/lib/python3.7/dist-packages (from qudida>=0.0.4->albumentations==1.1.0) (4.2.0)\n",
            "Requirement already satisfied: imageio>=2.3.0 in /usr/local/lib/python3.7/dist-packages (from scikit-image<0.19,>=0.16.1->albumentations==1.1.0) (2.4.1)\n",
            "Requirement already satisfied: matplotlib!=3.0.0,>=2.0.0 in /usr/local/lib/python3.7/dist-packages (from scikit-image<0.19,>=0.16.1->albumentations==1.1.0) (3.2.2)\n",
            "Requirement already satisfied: PyWavelets>=1.1.1 in /usr/local/lib/python3.7/dist-packages (from scikit-image<0.19,>=0.16.1->albumentations==1.1.0) (1.3.0)\n",
            "Requirement already satisfied: pillow!=7.1.0,!=7.1.1,>=4.3.0 in /usr/local/lib/python3.7/dist-packages (from scikit-image<0.19,>=0.16.1->albumentations==1.1.0) (7.1.2)\n",
            "Requirement already satisfied: networkx>=2.0 in /usr/local/lib/python3.7/dist-packages (from scikit-image<0.19,>=0.16.1->albumentations==1.1.0) (2.6.3)\n",
            "Requirement already satisfied: tifffile>=2019.7.26 in /usr/local/lib/python3.7/dist-packages (from scikit-image<0.19,>=0.16.1->albumentations==1.1.0) (2021.11.2)\n",
            "Requirement already satisfied: kiwisolver>=1.0.1 in /usr/local/lib/python3.7/dist-packages (from matplotlib!=3.0.0,>=2.0.0->scikit-image<0.19,>=0.16.1->albumentations==1.1.0) (1.4.2)\n",
            "Requirement already satisfied: python-dateutil>=2.1 in /usr/local/lib/python3.7/dist-packages (from matplotlib!=3.0.0,>=2.0.0->scikit-image<0.19,>=0.16.1->albumentations==1.1.0) (2.8.2)\n",
            "Requirement already satisfied: pyparsing!=2.0.4,!=2.1.2,!=2.1.6,>=2.0.1 in /usr/local/lib/python3.7/dist-packages (from matplotlib!=3.0.0,>=2.0.0->scikit-image<0.19,>=0.16.1->albumentations==1.1.0) (3.0.8)\n",
            "Requirement already satisfied: cycler>=0.10 in /usr/local/lib/python3.7/dist-packages (from matplotlib!=3.0.0,>=2.0.0->scikit-image<0.19,>=0.16.1->albumentations==1.1.0) (0.11.0)\n",
            "Requirement already satisfied: six>=1.5 in /usr/local/lib/python3.7/dist-packages (from python-dateutil>=2.1->matplotlib!=3.0.0,>=2.0.0->scikit-image<0.19,>=0.16.1->albumentations==1.1.0) (1.15.0)\n",
            "Requirement already satisfied: threadpoolctl>=2.0.0 in /usr/local/lib/python3.7/dist-packages (from scikit-learn>=0.19.1->qudida>=0.0.4->albumentations==1.1.0) (3.1.0)\n",
            "Requirement already satisfied: joblib>=0.11 in /usr/local/lib/python3.7/dist-packages (from scikit-learn>=0.19.1->qudida>=0.0.4->albumentations==1.1.0) (1.1.0)\n",
            "Building wheels for collected packages: albumentations\n",
            "  Building wheel for albumentations (setup.py) ... \u001b[?25l\u001b[?25hdone\n",
            "  Created wheel for albumentations: filename=albumentations-1.1.0-py3-none-any.whl size=112723 sha256=2408446dcf7a27d376f33463bb1d62233a9a6011cc462b529be94c167b450662\n",
            "  Stored in directory: /tmp/pip-ephem-wheel-cache-5p49_wfn/wheels/3a/25/ed/ec3b518e7a332d7f0a3bb37c280e1b784cf2f79b94b3c7d00b\n",
            "Successfully built albumentations\n",
            "Installing collected packages: qudida, albumentations\n",
            "  Attempting uninstall: albumentations\n",
            "    Found existing installation: albumentations 0.1.12\n",
            "    Uninstalling albumentations-0.1.12:\n",
            "      Successfully uninstalled albumentations-0.1.12\n",
            "Successfully installed albumentations-1.1.0 qudida-0.0.4\n",
            "Collecting stardist\n",
            "  Downloading stardist-0.8.2-cp37-cp37m-manylinux_2_17_x86_64.manylinux2014_x86_64.whl (3.0 MB)\n",
            "\u001b[K     |████████████████████████████████| 3.0 MB 26.8 MB/s \n",
            "\u001b[?25hRequirement already satisfied: imageio in /usr/local/lib/python3.7/dist-packages (from stardist) (2.4.1)\n",
            "Requirement already satisfied: numba in /usr/local/lib/python3.7/dist-packages (from stardist) (0.51.2)\n",
            "Collecting csbdeep>=0.6.3\n",
            "  Downloading csbdeep-0.6.3-py2.py3-none-any.whl (73 kB)\n",
            "\u001b[K     |████████████████████████████████| 73 kB 2.4 MB/s \n",
            "\u001b[?25hRequirement already satisfied: scikit-image in /usr/local/lib/python3.7/dist-packages (from stardist) (0.18.3)\n",
            "Requirement already satisfied: matplotlib in /usr/local/lib/python3.7/dist-packages (from csbdeep>=0.6.3->stardist) (3.2.2)\n",
            "Requirement already satisfied: six in /usr/local/lib/python3.7/dist-packages (from csbdeep>=0.6.3->stardist) (1.15.0)\n",
            "Collecting h5py<3\n",
            "  Downloading h5py-2.10.0-cp37-cp37m-manylinux1_x86_64.whl (2.9 MB)\n",
            "\u001b[K     |████████████████████████████████| 2.9 MB 58.8 MB/s \n",
            "\u001b[?25hRequirement already satisfied: tifffile in /usr/local/lib/python3.7/dist-packages (from csbdeep>=0.6.3->stardist) (2021.11.2)\n",
            "Requirement already satisfied: scipy in /usr/local/lib/python3.7/dist-packages (from csbdeep>=0.6.3->stardist) (1.4.1)\n",
            "Requirement already satisfied: tqdm in /usr/local/lib/python3.7/dist-packages (from csbdeep>=0.6.3->stardist) (4.64.0)\n",
            "Requirement already satisfied: numpy in /usr/local/lib/python3.7/dist-packages (from csbdeep>=0.6.3->stardist) (1.21.6)\n",
            "Requirement already satisfied: pillow in /usr/local/lib/python3.7/dist-packages (from imageio->stardist) (7.1.2)\n",
            "Requirement already satisfied: python-dateutil>=2.1 in /usr/local/lib/python3.7/dist-packages (from matplotlib->csbdeep>=0.6.3->stardist) (2.8.2)\n",
            "Requirement already satisfied: pyparsing!=2.0.4,!=2.1.2,!=2.1.6,>=2.0.1 in /usr/local/lib/python3.7/dist-packages (from matplotlib->csbdeep>=0.6.3->stardist) (3.0.8)\n",
            "Requirement already satisfied: cycler>=0.10 in /usr/local/lib/python3.7/dist-packages (from matplotlib->csbdeep>=0.6.3->stardist) (0.11.0)\n",
            "Requirement already satisfied: kiwisolver>=1.0.1 in /usr/local/lib/python3.7/dist-packages (from matplotlib->csbdeep>=0.6.3->stardist) (1.4.2)\n",
            "Requirement already satisfied: typing-extensions in /usr/local/lib/python3.7/dist-packages (from kiwisolver>=1.0.1->matplotlib->csbdeep>=0.6.3->stardist) (4.2.0)\n",
            "Requirement already satisfied: llvmlite<0.35,>=0.34.0.dev0 in /usr/local/lib/python3.7/dist-packages (from numba->stardist) (0.34.0)\n",
            "Requirement already satisfied: setuptools in /usr/local/lib/python3.7/dist-packages (from numba->stardist) (57.4.0)\n",
            "Requirement already satisfied: networkx>=2.0 in /usr/local/lib/python3.7/dist-packages (from scikit-image->stardist) (2.6.3)\n",
            "Requirement already satisfied: PyWavelets>=1.1.1 in /usr/local/lib/python3.7/dist-packages (from scikit-image->stardist) (1.3.0)\n",
            "Installing collected packages: h5py, csbdeep, stardist\n",
            "  Attempting uninstall: h5py\n",
            "    Found existing installation: h5py 3.1.0\n",
            "    Uninstalling h5py-3.1.0:\n",
            "      Successfully uninstalled h5py-3.1.0\n",
            "\u001b[31mERROR: pip's dependency resolver does not currently take into account all the packages that are installed. This behaviour is the source of the following dependency conflicts.\n",
            "tensorflow 2.8.0 requires tf-estimator-nightly==2.8.0.dev2021122109, which is not installed.\u001b[0m\n",
            "Successfully installed csbdeep-0.6.3 h5py-2.10.0 stardist-0.8.2\n"
          ]
        },
        {
          "output_type": "display_data",
          "data": {
            "application/vnd.colab-display-data+json": {
              "pip_warning": {
                "packages": [
                  "h5py"
                ]
              }
            }
          },
          "metadata": {}
        },
        {
          "output_type": "stream",
          "name": "stdout",
          "text": [
            "Requirement already satisfied: stardist in /usr/local/lib/python3.7/dist-packages (0.8.2)\n",
            "Requirement already satisfied: csbdeep>=0.6.3 in /usr/local/lib/python3.7/dist-packages (from stardist) (0.6.3)\n",
            "Requirement already satisfied: scikit-image in /usr/local/lib/python3.7/dist-packages (from stardist) (0.18.3)\n",
            "Requirement already satisfied: imageio in /usr/local/lib/python3.7/dist-packages (from stardist) (2.4.1)\n",
            "Requirement already satisfied: numba in /usr/local/lib/python3.7/dist-packages (from stardist) (0.51.2)\n",
            "Requirement already satisfied: h5py<3 in /usr/local/lib/python3.7/dist-packages (from csbdeep>=0.6.3->stardist) (2.10.0)\n",
            "Requirement already satisfied: scipy in /usr/local/lib/python3.7/dist-packages (from csbdeep>=0.6.3->stardist) (1.4.1)\n",
            "Requirement already satisfied: numpy in /usr/local/lib/python3.7/dist-packages (from csbdeep>=0.6.3->stardist) (1.21.6)\n",
            "Requirement already satisfied: tifffile in /usr/local/lib/python3.7/dist-packages (from csbdeep>=0.6.3->stardist) (2021.11.2)\n",
            "Requirement already satisfied: six in /usr/local/lib/python3.7/dist-packages (from csbdeep>=0.6.3->stardist) (1.15.0)\n",
            "Requirement already satisfied: matplotlib in /usr/local/lib/python3.7/dist-packages (from csbdeep>=0.6.3->stardist) (3.2.2)\n",
            "Requirement already satisfied: tqdm in /usr/local/lib/python3.7/dist-packages (from csbdeep>=0.6.3->stardist) (4.64.0)\n",
            "Requirement already satisfied: pillow in /usr/local/lib/python3.7/dist-packages (from imageio->stardist) (7.1.2)\n",
            "Requirement already satisfied: kiwisolver>=1.0.1 in /usr/local/lib/python3.7/dist-packages (from matplotlib->csbdeep>=0.6.3->stardist) (1.4.2)\n",
            "Requirement already satisfied: python-dateutil>=2.1 in /usr/local/lib/python3.7/dist-packages (from matplotlib->csbdeep>=0.6.3->stardist) (2.8.2)\n",
            "Requirement already satisfied: cycler>=0.10 in /usr/local/lib/python3.7/dist-packages (from matplotlib->csbdeep>=0.6.3->stardist) (0.11.0)\n",
            "Requirement already satisfied: pyparsing!=2.0.4,!=2.1.2,!=2.1.6,>=2.0.1 in /usr/local/lib/python3.7/dist-packages (from matplotlib->csbdeep>=0.6.3->stardist) (3.0.8)\n",
            "Requirement already satisfied: typing-extensions in /usr/local/lib/python3.7/dist-packages (from kiwisolver>=1.0.1->matplotlib->csbdeep>=0.6.3->stardist) (4.2.0)\n",
            "Requirement already satisfied: llvmlite<0.35,>=0.34.0.dev0 in /usr/local/lib/python3.7/dist-packages (from numba->stardist) (0.34.0)\n",
            "Requirement already satisfied: setuptools in /usr/local/lib/python3.7/dist-packages (from numba->stardist) (57.4.0)\n",
            "Requirement already satisfied: networkx>=2.0 in /usr/local/lib/python3.7/dist-packages (from scikit-image->stardist) (2.6.3)\n",
            "Requirement already satisfied: PyWavelets>=1.1.1 in /usr/local/lib/python3.7/dist-packages (from scikit-image->stardist) (1.3.0)\n"
          ]
        }
      ],
      "source": [
        "##imports\n",
        "# google drive\n",
        "from google.colab import drive\n",
        "#________________________________________________________________________________\n",
        "\n",
        "# openCV and PIL\n",
        "!pip install \"opencv-python-headless<4.3\"\n",
        "import cv2 as cv\n",
        "#________________________________________________________________________________\n",
        "\n",
        "# tensorflow and keras\n",
        "from keras.preprocessing.image import ImageDataGenerator\n",
        "import tensorflow as tf\n",
        "from tensorflow.keras.optimizers import Adam\n",
        "from tensorflow.keras.losses import binary_crossentropy\n",
        "from keras.layers import Input, Conv2D, Reshape\n",
        "from keras.models import Model\n",
        "from keras.models import Model, Sequential\n",
        "# from tensorflow.keras.metrics import MeanIoU\n",
        "\n",
        "#________________________________________________________________________________\n",
        "\n",
        "# albumentations\n",
        "!pip install --upgrade git+https://github.com/albumentations-team/albumentations\n",
        "import albumentations as A\n",
        "#________________________________________________________________________________\n",
        "\n",
        "# others \n",
        "import os\n",
        "import numpy as np\n",
        "from random import sample\n",
        "from glob import glob\n",
        "import matplotlib.pyplot as plt \n",
        "import pandas as pd\n",
        "#________________________________________________________________________________\n",
        "\n",
        "# sklearn\n",
        "from sklearn.model_selection import train_test_split\n",
        "from sklearn.metrics import jaccard_score\n",
        "#________________________________________________________________________________\n",
        "\n",
        "#pytorch\n",
        "from torch import stack\n",
        "#_______________________________________________________________________________\n",
        "\n",
        "#  stardist\n",
        "!pip install stardist\n",
        "from stardist.models import Config2D, StarDist2D, StarDistData2D\n",
        "from stardist.plot import render_label\n",
        "from stardist.matching import matching, matching_dataset\n",
        "import stardist\n",
        "from stardist import _draw_polygons\n",
        "from stardist import fill_label_holes\n",
        "\n",
        "# csbdeep\n",
        "from csbdeep.utils.tf import keras_import\n",
        "# from csbdeep.internals.nets import common_unet, custom_unet\n",
        "# from csbdeep.internals.blocks import unet_block, resnet_block\n",
        "from csbdeep.models import BaseModel, BaseConfig\n",
        "from csbdeep.utils import normalize\n",
        "\n",
        "#  stardist\n",
        "!pip install stardist\n",
        "from stardist.models import Config2D, StarDist2D, StarDistData2D\n",
        "from stardist.plot import render_label\n",
        "from stardist.matching import matching\n",
        "import stardist\n",
        "from stardist import _draw_polygons\n"
      ]
    },
    {
      "cell_type": "code",
      "execution_count": 2,
      "metadata": {
        "colab": {
          "base_uri": "https://localhost:8080/"
        },
        "id": "Lq6HXm8peOtd",
        "outputId": "d61d3250-ce88-4e8d-8474-7385201e26fe"
      },
      "outputs": [
        {
          "output_type": "stream",
          "name": "stdout",
          "text": [
            "1.1.0\n"
          ]
        }
      ],
      "source": [
        "print(A.__version__)"
      ]
    },
    {
      "cell_type": "code",
      "execution_count": 3,
      "metadata": {
        "colab": {
          "base_uri": "https://localhost:8080/"
        },
        "id": "1dcOv1c9i1Ee",
        "outputId": "a6ad3313-8357-4b60-c275-213bb09a516e"
      },
      "outputs": [
        {
          "output_type": "stream",
          "name": "stdout",
          "text": [
            "Drive not mounted, so nothing to flush and unmount.\n",
            "drive unmounted\n",
            "Mounted at /content/drive\n"
          ]
        }
      ],
      "source": [
        "##mount drive\n",
        "# unmount drive to refresh directories\n",
        "drive.flush_and_unmount()\n",
        "\n",
        "print('drive unmounted')\n",
        "\n",
        "# mount drive\n",
        "drive.mount('/content/drive')\n"
      ]
    },
    {
      "cell_type": "code",
      "execution_count": 4,
      "metadata": {
        "id": "OzNxnXVzi3NI"
      },
      "outputs": [],
      "source": [
        "## directory paths\n",
        "DIR_IMGS = '/content/drive/MyDrive/Spores/images'\n",
        "# DIR_FXD_LBLS = '/content/drive/MyDrive/Spores/fixed masks'\n",
        "# DIR_AUG_IMGS = '/content/drive/MyDrive/Spores/train images'\n",
        "# DIR_AUG_LBLS = '/content/drive/MyDrive/Spores/train masks'\n",
        "DIR_LBLS = '/content/drive/MyDrive/Spores/masks'\n",
        "# DIR_VAL_IMGS = '/content/drive/MyDrive/Spores/validation images'\n",
        "# DIR_VAL_LBLS = '/content/drive/MyDrive/Spores/validation masks'"
      ]
    },
    {
      "cell_type": "markdown",
      "metadata": {
        "id": "DEMDNmjkkwkk"
      },
      "source": [
        "## data exploration"
      ]
    },
    {
      "cell_type": "code",
      "execution_count": 5,
      "metadata": {
        "id": "h-rwC_c1EBY2"
      },
      "outputs": [],
      "source": [
        "#set images input shape as the largest input image\n",
        "img_height, img_width = 100, 100 "
      ]
    },
    {
      "cell_type": "code",
      "execution_count": 6,
      "metadata": {
        "id": "oalER78x33ZU"
      },
      "outputs": [],
      "source": [
        "## check for unfixed masks and unequal shapes\n",
        "def check_data(X_, y_, names):\n",
        "\n",
        "  for X, y, name in zip(X_, y_, names):\n",
        "    if (y.any() != 0) ^ (y.any() != 255):\n",
        "      print(f'{name} unfixed mask')\n",
        "    if y.shape != X.shape:\n",
        "      print(f'{name} unequal shapes')\n",
        "    if X.shape != (img_height, img_width, 3):\n",
        "      print(f'{name} image is in shape {X.shape}')\n",
        "    if X.shape != (img_height, img_width, 3):\n",
        "      print(f'{name} mask is in shape {y.shape}')\n",
        "\n",
        "\n",
        "\n",
        "\n",
        "  print(f'there are {len(X_)} samples')"
      ]
    },
    {
      "cell_type": "code",
      "execution_count": 7,
      "metadata": {
        "colab": {
          "base_uri": "https://localhost:8080/"
        },
        "id": "w2OEQRZ5Q6R_",
        "outputId": "d56ca67f-85de-4adb-9268-e53bff12eede"
      },
      "outputs": [
        {
          "output_type": "execute_result",
          "data": {
            "text/plain": [
              "942"
            ]
          },
          "metadata": {},
          "execution_count": 7
        }
      ],
      "source": [
        "## number of images in directory\n",
        "len(os.listdir(DIR_IMGS))"
      ]
    },
    {
      "cell_type": "code",
      "execution_count": 8,
      "metadata": {
        "id": "iDwxbYCulHm9"
      },
      "outputs": [],
      "source": [
        "## create a data frame of names and their coresponding images and masks\n",
        "\n",
        "names = []\n",
        "X = []\n",
        "y = []\n",
        "X_shape = []\n",
        "y_shape = []\n",
        "\n",
        "\n",
        "for name in os.listdir(DIR_IMGS):\n",
        "  path = f'{DIR_IMGS}/{name}'\n",
        "  mask_path = f'{DIR_LBLS}/{name}'\n",
        "  img = cv.imread(path)\n",
        "  msk = cv.imread(mask_path)\n",
        "\n",
        "  names.append(name)\n",
        "  X.append(img)\n",
        "  y.append(msk)\n",
        "\n",
        "data = pd.DataFrame()\n",
        "data['name'] = names\n",
        "data['X'] = X\n",
        "data['y'] = y\n"
      ]
    },
    {
      "cell_type": "code",
      "execution_count": 9,
      "metadata": {
        "colab": {
          "base_uri": "https://localhost:8080/"
        },
        "id": "KkVHtjzoTaGo",
        "outputId": "437a7b2c-4ecc-4938-f9b1-80f996baf196"
      },
      "outputs": [
        {
          "output_type": "stream",
          "name": "stdout",
          "text": [
            "07_09_20_1_CB_151.png image is in shape (88, 88, 3)\n",
            "07_09_20_1_CB_151.png mask is in shape (88, 88, 3)\n",
            "07_09_20_1_CB_46.png image is in shape (93, 93, 3)\n",
            "07_09_20_1_CB_46.png mask is in shape (93, 93, 3)\n",
            "07_09_20_1_CB_83.png image is in shape (84, 84, 3)\n",
            "07_09_20_1_CB_83.png mask is in shape (84, 84, 3)\n",
            "07_09_20_1_CB_3.png image is in shape (81, 81, 3)\n",
            "07_09_20_1_CB_3.png mask is in shape (81, 81, 3)\n",
            "07_09_20_1_CB_19.png image is in shape (74, 74, 3)\n",
            "07_09_20_1_CB_19.png mask is in shape (74, 74, 3)\n",
            "07_09_20_1_CB_168.png image is in shape (84, 84, 3)\n",
            "07_09_20_1_CB_168.png mask is in shape (84, 84, 3)\n",
            "07_09_20_1_CB_161.png image is in shape (80, 80, 3)\n",
            "07_09_20_1_CB_161.png mask is in shape (80, 80, 3)\n",
            "07_09_20_1_CB_35.png image is in shape (87, 87, 3)\n",
            "07_09_20_1_CB_35.png mask is in shape (87, 87, 3)\n",
            "07_09_20_1_CB_174.png image is in shape (85, 85, 3)\n",
            "07_09_20_1_CB_174.png mask is in shape (85, 85, 3)\n",
            "07_09_20_1_CB_68.png image is in shape (92, 92, 3)\n",
            "07_09_20_1_CB_68.png mask is in shape (92, 92, 3)\n",
            "07_09_20_1_CB_45.png image is in shape (90, 90, 3)\n",
            "07_09_20_1_CB_45.png mask is in shape (90, 90, 3)\n",
            "07_09_20_1_CB_65.png image is in shape (86, 86, 3)\n",
            "07_09_20_1_CB_65.png mask is in shape (86, 86, 3)\n",
            "07_09_20_1_CB_107.png image is in shape (88, 88, 3)\n",
            "07_09_20_1_CB_107.png mask is in shape (88, 88, 3)\n",
            "07_09_20_1_CB_142.png image is in shape (83, 83, 3)\n",
            "07_09_20_1_CB_142.png mask is in shape (83, 83, 3)\n",
            "07_09_20_1_CB_42.png image is in shape (88, 88, 3)\n",
            "07_09_20_1_CB_42.png mask is in shape (88, 88, 3)\n",
            "07_09_20_1_CB_145.png image is in shape (85, 85, 3)\n",
            "07_09_20_1_CB_145.png mask is in shape (85, 85, 3)\n",
            "07_09_20_1_CB_165.png image is in shape (82, 82, 3)\n",
            "07_09_20_1_CB_165.png mask is in shape (82, 82, 3)\n",
            "07_09_20_1_CB_150.png image is in shape (77, 77, 3)\n",
            "07_09_20_1_CB_150.png mask is in shape (77, 77, 3)\n",
            "07_09_20_1_CB_169.png image is in shape (86, 86, 3)\n",
            "07_09_20_1_CB_169.png mask is in shape (86, 86, 3)\n",
            "07_09_20_1_CB_102.png image is in shape (84, 84, 3)\n",
            "07_09_20_1_CB_102.png mask is in shape (84, 84, 3)\n",
            "07_09_20_1_CB_25.png image is in shape (93, 93, 3)\n",
            "07_09_20_1_CB_25.png mask is in shape (93, 93, 3)\n",
            "07_09_20_1_CB_175.png image is in shape (95, 95, 3)\n",
            "07_09_20_1_CB_175.png mask is in shape (95, 95, 3)\n",
            "07_09_20_1_CB_125.png image is in shape (88, 88, 3)\n",
            "07_09_20_1_CB_125.png mask is in shape (88, 88, 3)\n",
            "07_09_20_1_CB_90.png image is in shape (92, 92, 3)\n",
            "07_09_20_1_CB_90.png mask is in shape (92, 92, 3)\n",
            "07_09_20_1_CB_173.png image is in shape (94, 94, 3)\n",
            "07_09_20_1_CB_173.png mask is in shape (94, 94, 3)\n",
            "07_09_20_1_CB_95.png image is in shape (97, 97, 3)\n",
            "07_09_20_1_CB_95.png mask is in shape (97, 97, 3)\n",
            "07_09_20_1_CB_154.png image is in shape (85, 85, 3)\n",
            "07_09_20_1_CB_154.png mask is in shape (85, 85, 3)\n",
            "07_09_20_1_CB_96.png image is in shape (75, 75, 3)\n",
            "07_09_20_1_CB_96.png mask is in shape (75, 75, 3)\n",
            "07_09_20_1_CB_79.png image is in shape (88, 88, 3)\n",
            "07_09_20_1_CB_79.png mask is in shape (88, 88, 3)\n",
            "07_09_20_1_CB_84.png image is in shape (86, 86, 3)\n",
            "07_09_20_1_CB_84.png mask is in shape (86, 86, 3)\n",
            "07_09_20_1_CB_153.png image is in shape (80, 80, 3)\n",
            "07_09_20_1_CB_153.png mask is in shape (80, 80, 3)\n",
            "07_09_20_1_CB_171.png image is in shape (80, 80, 3)\n",
            "07_09_20_1_CB_171.png mask is in shape (80, 80, 3)\n",
            "07_09_20_1_CB_29.png image is in shape (83, 83, 3)\n",
            "07_09_20_1_CB_29.png mask is in shape (83, 83, 3)\n",
            "07_09_20_1_CB_159.png image is in shape (81, 81, 3)\n",
            "07_09_20_1_CB_159.png mask is in shape (81, 81, 3)\n",
            "07_09_20_1_CB_86.png image is in shape (83, 83, 3)\n",
            "07_09_20_1_CB_86.png mask is in shape (83, 83, 3)\n",
            "07_09_20_1_CB_60.png image is in shape (97, 97, 3)\n",
            "07_09_20_1_CB_60.png mask is in shape (97, 97, 3)\n",
            "07_09_20_1_CB_144.png image is in shape (87, 87, 3)\n",
            "07_09_20_1_CB_144.png mask is in shape (87, 87, 3)\n",
            "07_09_20_1_CB_47.png image is in shape (90, 90, 3)\n",
            "07_09_20_1_CB_47.png mask is in shape (90, 90, 3)\n",
            "07_09_20_1_CB_140.png image is in shape (90, 90, 3)\n",
            "07_09_20_1_CB_140.png mask is in shape (90, 90, 3)\n",
            "07_09_20_1_CB_71.png image is in shape (92, 92, 3)\n",
            "07_09_20_1_CB_71.png mask is in shape (92, 92, 3)\n",
            "07_09_20_1_CB_33.png image is in shape (84, 84, 3)\n",
            "07_09_20_1_CB_33.png mask is in shape (84, 84, 3)\n",
            "07_09_20_1_CB_99.png image is in shape (88, 88, 3)\n",
            "07_09_20_1_CB_99.png mask is in shape (88, 88, 3)\n",
            "07_09_20_1_CB_54.png image is in shape (80, 80, 3)\n",
            "07_09_20_1_CB_54.png mask is in shape (80, 80, 3)\n",
            "07_09_20_1_CB_66.png image is in shape (90, 90, 3)\n",
            "07_09_20_1_CB_66.png mask is in shape (90, 90, 3)\n",
            "07_09_20_1_CB_32.png image is in shape (85, 84, 3)\n",
            "07_09_20_1_CB_32.png mask is in shape (85, 84, 3)\n",
            "07_09_20_1_CB_129.png image is in shape (92, 92, 3)\n",
            "07_09_20_1_CB_129.png mask is in shape (92, 92, 3)\n",
            "07_09_20_1_CB_62.png image is in shape (91, 90, 3)\n",
            "07_09_20_1_CB_62.png mask is in shape (91, 90, 3)\n",
            "07_09_20_1_CB_170.png image is in shape (91, 91, 3)\n",
            "07_09_20_1_CB_170.png mask is in shape (91, 91, 3)\n",
            "07_09_20_1_CB_87.png image is in shape (96, 96, 3)\n",
            "07_09_20_1_CB_87.png mask is in shape (96, 96, 3)\n",
            "07_09_20_1_CB_131.png image is in shape (92, 92, 3)\n",
            "07_09_20_1_CB_131.png mask is in shape (92, 92, 3)\n",
            "07_09_20_1_CB_162.png image is in shape (74, 74, 3)\n",
            "07_09_20_1_CB_162.png mask is in shape (74, 74, 3)\n",
            "07_09_20_1_CB_137.png image is in shape (93, 93, 3)\n",
            "07_09_20_1_CB_137.png mask is in shape (93, 93, 3)\n",
            "07_09_20_1_CB_152.png unequal shapes\n",
            "07_09_20_1_CB_152.png image is in shape (81, 81, 3)\n",
            "07_09_20_1_CB_152.png mask is in shape (80, 80, 3)\n",
            "07_09_20_1_CB_108.png unequal shapes\n",
            "07_09_20_1_CB_108.png image is in shape (85, 85, 3)\n",
            "07_09_20_1_CB_108.png mask is in shape (84, 84, 3)\n",
            "07_09_20_1_TB_103.png unequal shapes\n",
            "07_09_20_1_TB_103.png image is in shape (85, 85, 3)\n",
            "07_09_20_1_TB_103.png mask is in shape (84, 84, 3)\n",
            "07_09_20_1_TB_70.png image is in shape (88, 88, 3)\n",
            "07_09_20_1_TB_70.png mask is in shape (88, 88, 3)\n",
            "07_09_20_1_TA_98.png image is in shape (90, 90, 3)\n",
            "07_09_20_1_TA_98.png mask is in shape (90, 90, 3)\n",
            "10_08_20_1_CA_141.png image is in shape (88, 88, 3)\n",
            "10_08_20_1_CA_141.png mask is in shape (88, 88, 3)\n",
            "10_08_20_1_CA_125.png image is in shape (96, 96, 3)\n",
            "10_08_20_1_CA_125.png mask is in shape (96, 96, 3)\n",
            "10_08_20_1_CA_259.png image is in shape (92, 92, 3)\n",
            "10_08_20_1_CA_259.png mask is in shape (92, 92, 3)\n",
            "10_08_20_1_CA_221.png image is in shape (89, 89, 3)\n",
            "10_08_20_1_CA_221.png mask is in shape (89, 89, 3)\n",
            "10_08_20_1_CA_245.png image is in shape (77, 77, 3)\n",
            "10_08_20_1_CA_245.png mask is in shape (77, 77, 3)\n",
            "10_08_20_1_CA_234.png image is in shape (84, 84, 3)\n",
            "10_08_20_1_CA_234.png mask is in shape (84, 84, 3)\n",
            "10_08_20_1_CA_265.png image is in shape (88, 88, 3)\n",
            "10_08_20_1_CA_265.png mask is in shape (88, 88, 3)\n",
            "10_08_20_1_CA_238.png image is in shape (87, 87, 3)\n",
            "10_08_20_1_CA_238.png mask is in shape (87, 87, 3)\n",
            "10_08_20_1_CA_260.png image is in shape (83, 83, 3)\n",
            "10_08_20_1_CA_260.png mask is in shape (83, 83, 3)\n",
            "10_08_20_1_CA_31.png image is in shape (86, 86, 3)\n",
            "10_08_20_1_CA_31.png mask is in shape (86, 86, 3)\n",
            "10_08_20_1_CA_296.png image is in shape (94, 94, 3)\n",
            "10_08_20_1_CA_296.png mask is in shape (94, 94, 3)\n",
            "10_08_20_1_CA_315.png image is in shape (93, 93, 3)\n",
            "10_08_20_1_CA_315.png mask is in shape (93, 93, 3)\n",
            "10_08_20_1_CA_359.png image is in shape (93, 93, 3)\n",
            "10_08_20_1_CA_359.png mask is in shape (93, 93, 3)\n",
            "10_08_20_1_CA_350.png unequal shapes\n",
            "10_08_20_1_CA_350.png image is in shape (90, 90, 3)\n",
            "10_08_20_1_CA_350.png mask is in shape (88, 88, 3)\n",
            "10_08_20_1_CA_391.png image is in shape (91, 91, 3)\n",
            "10_08_20_1_CA_391.png mask is in shape (91, 91, 3)\n",
            "10_08_20_1_CA_44.png image is in shape (92, 92, 3)\n",
            "10_08_20_1_CA_44.png mask is in shape (92, 92, 3)\n",
            "10_08_20_1_CA_381.png image is in shape (90, 90, 3)\n",
            "10_08_20_1_CA_381.png mask is in shape (90, 90, 3)\n",
            "10_08_20_1_CA_442.png image is in shape (80, 80, 3)\n",
            "10_08_20_1_CA_442.png mask is in shape (80, 80, 3)\n",
            "10_08_20_1_CA_425.png image is in shape (91, 91, 3)\n",
            "10_08_20_1_CA_425.png mask is in shape (91, 91, 3)\n",
            "10_08_20_1_CA_418.png unequal shapes\n",
            "10_08_20_1_CA_418.png image is in shape (81, 81, 3)\n",
            "10_08_20_1_CA_418.png mask is in shape (80, 80, 3)\n",
            "10_08_20_1_CA_367.png image is in shape (93, 93, 3)\n",
            "10_08_20_1_CA_367.png mask is in shape (93, 93, 3)\n",
            "10_08_20_1_CA_393.png unequal shapes\n",
            "10_08_20_1_CA_393.png image is in shape (90, 90, 3)\n",
            "10_08_20_1_CA_393.png mask is in shape (88, 88, 3)\n",
            "10_08_20_1_CA_420.png unequal shapes\n",
            "10_08_20_1_CA_420.png image is in shape (83, 83, 3)\n",
            "10_08_20_1_CA_420.png mask is in shape (80, 80, 3)\n",
            "10_08_20_1_CA_444.png unequal shapes\n",
            "10_08_20_1_CA_444.png image is in shape (90, 90, 3)\n",
            "10_08_20_1_CA_444.png mask is in shape (88, 88, 3)\n",
            "10_08_20_1_CA_439.png image is in shape (80, 80, 3)\n",
            "10_08_20_1_CA_439.png mask is in shape (80, 80, 3)\n",
            "10_08_20_1_CA_524.png image is in shape (88, 88, 3)\n",
            "10_08_20_1_CA_524.png mask is in shape (88, 88, 3)\n",
            "10_08_20_1_CA_517.png image is in shape (75, 75, 3)\n",
            "10_08_20_1_CA_517.png mask is in shape (75, 75, 3)\n",
            "10_08_20_1_CA_510.png image is in shape (96, 96, 3)\n",
            "10_08_20_1_CA_510.png mask is in shape (96, 96, 3)\n",
            "10_08_20_1_CA_468.png image is in shape (82, 82, 3)\n",
            "10_08_20_1_CA_468.png mask is in shape (82, 82, 3)\n",
            "10_08_20_1_CA_456.png image is in shape (95, 95, 3)\n",
            "10_08_20_1_CA_456.png mask is in shape (95, 95, 3)\n",
            "10_08_20_1_CA_462.png image is in shape (92, 92, 3)\n",
            "10_08_20_1_CA_462.png mask is in shape (92, 92, 3)\n",
            "10_08_20_1_CA_489.png image is in shape (92, 92, 3)\n",
            "10_08_20_1_CA_489.png mask is in shape (92, 92, 3)\n",
            "10_08_20_1_CA_5.png unequal shapes\n",
            "10_08_20_1_CA_5.png image is in shape (98, 98, 3)\n",
            "10_08_20_1_CA_5.png mask is in shape (96, 96, 3)\n",
            "10_08_20_1_CA_504.png image is in shape (90, 90, 3)\n",
            "10_08_20_1_CA_504.png mask is in shape (90, 90, 3)\n",
            "10_08_20_1_CA_482.png image is in shape (91, 91, 3)\n",
            "10_08_20_1_CA_482.png mask is in shape (91, 91, 3)\n",
            "10_08_20_1_CA_624.png image is in shape (94, 94, 3)\n",
            "10_08_20_1_CA_624.png mask is in shape (94, 94, 3)\n",
            "10_08_20_1_CA_578.png image is in shape (83, 83, 3)\n",
            "10_08_20_1_CA_578.png mask is in shape (83, 83, 3)\n",
            "10_08_20_1_CA_639.png image is in shape (90, 90, 3)\n",
            "10_08_20_1_CA_639.png mask is in shape (90, 90, 3)\n",
            "10_08_20_1_CA_560.png unequal shapes\n",
            "10_08_20_1_CA_560.png image is in shape (89, 89, 3)\n",
            "10_08_20_1_CA_560.png mask is in shape (88, 88, 3)\n",
            "10_08_20_1_CA_638.png image is in shape (91, 91, 3)\n",
            "10_08_20_1_CA_638.png mask is in shape (91, 91, 3)\n",
            "10_08_20_1_CA_555.png image is in shape (92, 92, 3)\n",
            "10_08_20_1_CA_555.png mask is in shape (92, 92, 3)\n",
            "10_08_20_1_CA_677.png image is in shape (84, 84, 3)\n",
            "10_08_20_1_CA_677.png mask is in shape (84, 84, 3)\n",
            "10_08_20_1_CA_704.png image is in shape (90, 90, 3)\n",
            "10_08_20_1_CA_704.png mask is in shape (90, 90, 3)\n",
            "10_08_20_1_CA_9.png unequal shapes\n",
            "10_08_20_1_CA_9.png image is in shape (83, 83, 3)\n",
            "10_08_20_1_CA_9.png mask is in shape (80, 80, 3)\n",
            "10_08_20_1_CA_664.png unequal shapes\n",
            "10_08_20_1_CA_664.png image is in shape (93, 93, 3)\n",
            "10_08_20_1_CA_664.png mask is in shape (92, 92, 3)\n",
            "10_08_20_1_CA_676.png image is in shape (85, 85, 3)\n",
            "10_08_20_1_CA_676.png mask is in shape (85, 85, 3)\n",
            "10_08_20_1_CA_680.png unequal shapes\n",
            "10_08_20_1_CA_680.png image is in shape (90, 90, 3)\n",
            "10_08_20_1_CA_680.png mask is in shape (88, 88, 3)\n",
            "10_08_20_1_CA_696.png image is in shape (93, 93, 3)\n",
            "10_08_20_1_CA_696.png mask is in shape (93, 93, 3)\n",
            "10_08_20_1_CA_89.png image is in shape (87, 87, 3)\n",
            "10_08_20_1_CA_89.png mask is in shape (87, 87, 3)\n",
            "10_08_20_1_CA_78.png image is in shape (97, 97, 3)\n",
            "10_08_20_1_CA_78.png mask is in shape (97, 97, 3)\n",
            "10_08_20_1_CA_644.png image is in shape (87, 87, 3)\n",
            "10_08_20_1_CA_644.png mask is in shape (87, 87, 3)\n",
            "10_08_20_1_CA_81.png image is in shape (93, 93, 3)\n",
            "10_08_20_1_CA_81.png mask is in shape (93, 93, 3)\n",
            "10_08_20_1_CB_127.png image is in shape (80, 80, 3)\n",
            "10_08_20_1_CB_127.png mask is in shape (80, 80, 3)\n",
            "10_08_20_1_CB_111.png image is in shape (88, 88, 3)\n",
            "10_08_20_1_CB_111.png mask is in shape (88, 88, 3)\n",
            "10_08_20_1_CB_142.png image is in shape (89, 89, 3)\n",
            "10_08_20_1_CB_142.png mask is in shape (89, 89, 3)\n",
            "10_08_20_1_CB_113.png image is in shape (94, 94, 3)\n",
            "10_08_20_1_CB_113.png mask is in shape (94, 94, 3)\n",
            "10_08_20_1_CB_159.png image is in shape (90, 90, 3)\n",
            "10_08_20_1_CB_159.png mask is in shape (90, 90, 3)\n",
            "there are 942 samples\n"
          ]
        }
      ],
      "source": [
        "## check for images and masks with unequal shapes\n",
        "check_data(data['X'], data['y'], data['name'])"
      ]
    },
    {
      "cell_type": "code",
      "execution_count": 10,
      "metadata": {
        "colab": {
          "base_uri": "https://localhost:8080/"
        },
        "id": "GWuJCYFZGhkD",
        "outputId": "b310e54e-7352-4670-ac0a-ba8b420f12b8"
      },
      "outputs": [
        {
          "output_type": "stream",
          "name": "stdout",
          "text": [
            "07_09_20_1_CB_151.png image is in shape (88, 88, 3)\n",
            "07_09_20_1_CB_151.png mask is in shape (88, 88, 3)\n",
            "07_09_20_1_CB_46.png image is in shape (93, 93, 3)\n",
            "07_09_20_1_CB_46.png mask is in shape (93, 93, 3)\n",
            "07_09_20_1_CB_83.png image is in shape (84, 84, 3)\n",
            "07_09_20_1_CB_83.png mask is in shape (84, 84, 3)\n",
            "07_09_20_1_CB_3.png image is in shape (81, 81, 3)\n",
            "07_09_20_1_CB_3.png mask is in shape (81, 81, 3)\n",
            "07_09_20_1_CB_19.png image is in shape (74, 74, 3)\n",
            "07_09_20_1_CB_19.png mask is in shape (74, 74, 3)\n",
            "07_09_20_1_CB_168.png image is in shape (84, 84, 3)\n",
            "07_09_20_1_CB_168.png mask is in shape (84, 84, 3)\n",
            "07_09_20_1_CB_161.png image is in shape (80, 80, 3)\n",
            "07_09_20_1_CB_161.png mask is in shape (80, 80, 3)\n",
            "07_09_20_1_CB_35.png image is in shape (87, 87, 3)\n",
            "07_09_20_1_CB_35.png mask is in shape (87, 87, 3)\n",
            "07_09_20_1_CB_174.png image is in shape (85, 85, 3)\n",
            "07_09_20_1_CB_174.png mask is in shape (85, 85, 3)\n",
            "07_09_20_1_CB_68.png image is in shape (92, 92, 3)\n",
            "07_09_20_1_CB_68.png mask is in shape (92, 92, 3)\n",
            "07_09_20_1_CB_45.png image is in shape (90, 90, 3)\n",
            "07_09_20_1_CB_45.png mask is in shape (90, 90, 3)\n",
            "07_09_20_1_CB_65.png image is in shape (86, 86, 3)\n",
            "07_09_20_1_CB_65.png mask is in shape (86, 86, 3)\n",
            "07_09_20_1_CB_107.png image is in shape (88, 88, 3)\n",
            "07_09_20_1_CB_107.png mask is in shape (88, 88, 3)\n",
            "07_09_20_1_CB_142.png image is in shape (83, 83, 3)\n",
            "07_09_20_1_CB_142.png mask is in shape (83, 83, 3)\n",
            "07_09_20_1_CB_42.png image is in shape (88, 88, 3)\n",
            "07_09_20_1_CB_42.png mask is in shape (88, 88, 3)\n",
            "07_09_20_1_CB_145.png image is in shape (85, 85, 3)\n",
            "07_09_20_1_CB_145.png mask is in shape (85, 85, 3)\n",
            "07_09_20_1_CB_165.png image is in shape (82, 82, 3)\n",
            "07_09_20_1_CB_165.png mask is in shape (82, 82, 3)\n",
            "07_09_20_1_CB_150.png image is in shape (77, 77, 3)\n",
            "07_09_20_1_CB_150.png mask is in shape (77, 77, 3)\n",
            "07_09_20_1_CB_169.png image is in shape (86, 86, 3)\n",
            "07_09_20_1_CB_169.png mask is in shape (86, 86, 3)\n",
            "07_09_20_1_CB_102.png image is in shape (84, 84, 3)\n",
            "07_09_20_1_CB_102.png mask is in shape (84, 84, 3)\n",
            "07_09_20_1_CB_25.png image is in shape (93, 93, 3)\n",
            "07_09_20_1_CB_25.png mask is in shape (93, 93, 3)\n",
            "07_09_20_1_CB_175.png image is in shape (95, 95, 3)\n",
            "07_09_20_1_CB_175.png mask is in shape (95, 95, 3)\n",
            "07_09_20_1_CB_125.png image is in shape (88, 88, 3)\n",
            "07_09_20_1_CB_125.png mask is in shape (88, 88, 3)\n",
            "07_09_20_1_CB_90.png image is in shape (92, 92, 3)\n",
            "07_09_20_1_CB_90.png mask is in shape (92, 92, 3)\n",
            "07_09_20_1_CB_173.png image is in shape (94, 94, 3)\n",
            "07_09_20_1_CB_173.png mask is in shape (94, 94, 3)\n",
            "07_09_20_1_CB_95.png image is in shape (97, 97, 3)\n",
            "07_09_20_1_CB_95.png mask is in shape (97, 97, 3)\n",
            "07_09_20_1_CB_154.png image is in shape (85, 85, 3)\n",
            "07_09_20_1_CB_154.png mask is in shape (85, 85, 3)\n",
            "07_09_20_1_CB_96.png image is in shape (75, 75, 3)\n",
            "07_09_20_1_CB_96.png mask is in shape (75, 75, 3)\n",
            "07_09_20_1_CB_79.png image is in shape (88, 88, 3)\n",
            "07_09_20_1_CB_79.png mask is in shape (88, 88, 3)\n",
            "07_09_20_1_CB_84.png image is in shape (86, 86, 3)\n",
            "07_09_20_1_CB_84.png mask is in shape (86, 86, 3)\n",
            "07_09_20_1_CB_153.png image is in shape (80, 80, 3)\n",
            "07_09_20_1_CB_153.png mask is in shape (80, 80, 3)\n",
            "07_09_20_1_CB_171.png image is in shape (80, 80, 3)\n",
            "07_09_20_1_CB_171.png mask is in shape (80, 80, 3)\n",
            "07_09_20_1_CB_29.png image is in shape (83, 83, 3)\n",
            "07_09_20_1_CB_29.png mask is in shape (83, 83, 3)\n",
            "07_09_20_1_CB_159.png image is in shape (81, 81, 3)\n",
            "07_09_20_1_CB_159.png mask is in shape (81, 81, 3)\n",
            "07_09_20_1_CB_86.png image is in shape (83, 83, 3)\n",
            "07_09_20_1_CB_86.png mask is in shape (83, 83, 3)\n",
            "07_09_20_1_CB_60.png image is in shape (97, 97, 3)\n",
            "07_09_20_1_CB_60.png mask is in shape (97, 97, 3)\n",
            "07_09_20_1_CB_144.png image is in shape (87, 87, 3)\n",
            "07_09_20_1_CB_144.png mask is in shape (87, 87, 3)\n",
            "07_09_20_1_CB_47.png image is in shape (90, 90, 3)\n",
            "07_09_20_1_CB_47.png mask is in shape (90, 90, 3)\n",
            "07_09_20_1_CB_140.png image is in shape (90, 90, 3)\n",
            "07_09_20_1_CB_140.png mask is in shape (90, 90, 3)\n",
            "07_09_20_1_CB_71.png image is in shape (92, 92, 3)\n",
            "07_09_20_1_CB_71.png mask is in shape (92, 92, 3)\n",
            "07_09_20_1_CB_33.png image is in shape (84, 84, 3)\n",
            "07_09_20_1_CB_33.png mask is in shape (84, 84, 3)\n",
            "07_09_20_1_CB_99.png image is in shape (88, 88, 3)\n",
            "07_09_20_1_CB_99.png mask is in shape (88, 88, 3)\n",
            "07_09_20_1_CB_54.png image is in shape (80, 80, 3)\n",
            "07_09_20_1_CB_54.png mask is in shape (80, 80, 3)\n",
            "07_09_20_1_CB_66.png image is in shape (90, 90, 3)\n",
            "07_09_20_1_CB_66.png mask is in shape (90, 90, 3)\n",
            "07_09_20_1_CB_32.png image is in shape (85, 84, 3)\n",
            "07_09_20_1_CB_32.png mask is in shape (85, 84, 3)\n",
            "07_09_20_1_CB_129.png image is in shape (92, 92, 3)\n",
            "07_09_20_1_CB_129.png mask is in shape (92, 92, 3)\n",
            "07_09_20_1_CB_62.png image is in shape (91, 90, 3)\n",
            "07_09_20_1_CB_62.png mask is in shape (91, 90, 3)\n",
            "07_09_20_1_CB_170.png image is in shape (91, 91, 3)\n",
            "07_09_20_1_CB_170.png mask is in shape (91, 91, 3)\n",
            "07_09_20_1_CB_87.png image is in shape (96, 96, 3)\n",
            "07_09_20_1_CB_87.png mask is in shape (96, 96, 3)\n",
            "07_09_20_1_CB_131.png image is in shape (92, 92, 3)\n",
            "07_09_20_1_CB_131.png mask is in shape (92, 92, 3)\n",
            "07_09_20_1_CB_162.png image is in shape (74, 74, 3)\n",
            "07_09_20_1_CB_162.png mask is in shape (74, 74, 3)\n",
            "07_09_20_1_CB_137.png image is in shape (93, 93, 3)\n",
            "07_09_20_1_CB_137.png mask is in shape (93, 93, 3)\n",
            "07_09_20_1_TB_70.png image is in shape (88, 88, 3)\n",
            "07_09_20_1_TB_70.png mask is in shape (88, 88, 3)\n",
            "07_09_20_1_TA_98.png image is in shape (90, 90, 3)\n",
            "07_09_20_1_TA_98.png mask is in shape (90, 90, 3)\n",
            "10_08_20_1_CA_141.png image is in shape (88, 88, 3)\n",
            "10_08_20_1_CA_141.png mask is in shape (88, 88, 3)\n",
            "10_08_20_1_CA_125.png image is in shape (96, 96, 3)\n",
            "10_08_20_1_CA_125.png mask is in shape (96, 96, 3)\n",
            "10_08_20_1_CA_259.png image is in shape (92, 92, 3)\n",
            "10_08_20_1_CA_259.png mask is in shape (92, 92, 3)\n",
            "10_08_20_1_CA_221.png image is in shape (89, 89, 3)\n",
            "10_08_20_1_CA_221.png mask is in shape (89, 89, 3)\n",
            "10_08_20_1_CA_245.png image is in shape (77, 77, 3)\n",
            "10_08_20_1_CA_245.png mask is in shape (77, 77, 3)\n",
            "10_08_20_1_CA_234.png image is in shape (84, 84, 3)\n",
            "10_08_20_1_CA_234.png mask is in shape (84, 84, 3)\n",
            "10_08_20_1_CA_265.png image is in shape (88, 88, 3)\n",
            "10_08_20_1_CA_265.png mask is in shape (88, 88, 3)\n",
            "10_08_20_1_CA_238.png image is in shape (87, 87, 3)\n",
            "10_08_20_1_CA_238.png mask is in shape (87, 87, 3)\n",
            "10_08_20_1_CA_260.png image is in shape (83, 83, 3)\n",
            "10_08_20_1_CA_260.png mask is in shape (83, 83, 3)\n",
            "10_08_20_1_CA_31.png image is in shape (86, 86, 3)\n",
            "10_08_20_1_CA_31.png mask is in shape (86, 86, 3)\n",
            "10_08_20_1_CA_296.png image is in shape (94, 94, 3)\n",
            "10_08_20_1_CA_296.png mask is in shape (94, 94, 3)\n",
            "10_08_20_1_CA_315.png image is in shape (93, 93, 3)\n",
            "10_08_20_1_CA_315.png mask is in shape (93, 93, 3)\n",
            "10_08_20_1_CA_359.png image is in shape (93, 93, 3)\n",
            "10_08_20_1_CA_359.png mask is in shape (93, 93, 3)\n",
            "10_08_20_1_CA_391.png image is in shape (91, 91, 3)\n",
            "10_08_20_1_CA_391.png mask is in shape (91, 91, 3)\n",
            "10_08_20_1_CA_44.png image is in shape (92, 92, 3)\n",
            "10_08_20_1_CA_44.png mask is in shape (92, 92, 3)\n",
            "10_08_20_1_CA_381.png image is in shape (90, 90, 3)\n",
            "10_08_20_1_CA_381.png mask is in shape (90, 90, 3)\n",
            "10_08_20_1_CA_442.png image is in shape (80, 80, 3)\n",
            "10_08_20_1_CA_442.png mask is in shape (80, 80, 3)\n",
            "10_08_20_1_CA_425.png image is in shape (91, 91, 3)\n",
            "10_08_20_1_CA_425.png mask is in shape (91, 91, 3)\n",
            "10_08_20_1_CA_367.png image is in shape (93, 93, 3)\n",
            "10_08_20_1_CA_367.png mask is in shape (93, 93, 3)\n",
            "10_08_20_1_CA_439.png image is in shape (80, 80, 3)\n",
            "10_08_20_1_CA_439.png mask is in shape (80, 80, 3)\n",
            "10_08_20_1_CA_524.png image is in shape (88, 88, 3)\n",
            "10_08_20_1_CA_524.png mask is in shape (88, 88, 3)\n",
            "10_08_20_1_CA_517.png image is in shape (75, 75, 3)\n",
            "10_08_20_1_CA_517.png mask is in shape (75, 75, 3)\n",
            "10_08_20_1_CA_510.png image is in shape (96, 96, 3)\n",
            "10_08_20_1_CA_510.png mask is in shape (96, 96, 3)\n",
            "10_08_20_1_CA_468.png image is in shape (82, 82, 3)\n",
            "10_08_20_1_CA_468.png mask is in shape (82, 82, 3)\n",
            "10_08_20_1_CA_456.png image is in shape (95, 95, 3)\n",
            "10_08_20_1_CA_456.png mask is in shape (95, 95, 3)\n",
            "10_08_20_1_CA_462.png image is in shape (92, 92, 3)\n",
            "10_08_20_1_CA_462.png mask is in shape (92, 92, 3)\n",
            "10_08_20_1_CA_489.png image is in shape (92, 92, 3)\n",
            "10_08_20_1_CA_489.png mask is in shape (92, 92, 3)\n",
            "10_08_20_1_CA_504.png image is in shape (90, 90, 3)\n",
            "10_08_20_1_CA_504.png mask is in shape (90, 90, 3)\n",
            "10_08_20_1_CA_482.png image is in shape (91, 91, 3)\n",
            "10_08_20_1_CA_482.png mask is in shape (91, 91, 3)\n",
            "10_08_20_1_CA_624.png image is in shape (94, 94, 3)\n",
            "10_08_20_1_CA_624.png mask is in shape (94, 94, 3)\n",
            "10_08_20_1_CA_578.png image is in shape (83, 83, 3)\n",
            "10_08_20_1_CA_578.png mask is in shape (83, 83, 3)\n",
            "10_08_20_1_CA_639.png image is in shape (90, 90, 3)\n",
            "10_08_20_1_CA_639.png mask is in shape (90, 90, 3)\n",
            "10_08_20_1_CA_638.png image is in shape (91, 91, 3)\n",
            "10_08_20_1_CA_638.png mask is in shape (91, 91, 3)\n",
            "10_08_20_1_CA_555.png image is in shape (92, 92, 3)\n",
            "10_08_20_1_CA_555.png mask is in shape (92, 92, 3)\n",
            "10_08_20_1_CA_677.png image is in shape (84, 84, 3)\n",
            "10_08_20_1_CA_677.png mask is in shape (84, 84, 3)\n",
            "10_08_20_1_CA_704.png image is in shape (90, 90, 3)\n",
            "10_08_20_1_CA_704.png mask is in shape (90, 90, 3)\n",
            "10_08_20_1_CA_676.png image is in shape (85, 85, 3)\n",
            "10_08_20_1_CA_676.png mask is in shape (85, 85, 3)\n",
            "10_08_20_1_CA_696.png image is in shape (93, 93, 3)\n",
            "10_08_20_1_CA_696.png mask is in shape (93, 93, 3)\n",
            "10_08_20_1_CA_89.png image is in shape (87, 87, 3)\n",
            "10_08_20_1_CA_89.png mask is in shape (87, 87, 3)\n",
            "10_08_20_1_CA_78.png image is in shape (97, 97, 3)\n",
            "10_08_20_1_CA_78.png mask is in shape (97, 97, 3)\n",
            "10_08_20_1_CA_644.png image is in shape (87, 87, 3)\n",
            "10_08_20_1_CA_644.png mask is in shape (87, 87, 3)\n",
            "10_08_20_1_CA_81.png image is in shape (93, 93, 3)\n",
            "10_08_20_1_CA_81.png mask is in shape (93, 93, 3)\n",
            "10_08_20_1_CB_127.png image is in shape (80, 80, 3)\n",
            "10_08_20_1_CB_127.png mask is in shape (80, 80, 3)\n",
            "10_08_20_1_CB_111.png image is in shape (88, 88, 3)\n",
            "10_08_20_1_CB_111.png mask is in shape (88, 88, 3)\n",
            "10_08_20_1_CB_142.png image is in shape (89, 89, 3)\n",
            "10_08_20_1_CB_142.png mask is in shape (89, 89, 3)\n",
            "10_08_20_1_CB_113.png image is in shape (94, 94, 3)\n",
            "10_08_20_1_CB_113.png mask is in shape (94, 94, 3)\n",
            "10_08_20_1_CB_159.png image is in shape (90, 90, 3)\n",
            "10_08_20_1_CB_159.png mask is in shape (90, 90, 3)\n",
            "there are 929 samples\n"
          ]
        }
      ],
      "source": [
        "# filter samples with unequal shapes\n",
        "data['equal shapes'] = [X_.shape == y_.shape for X_, y_ in zip(data['X'], data['y'])]\n",
        "equal_data = data[data['equal shapes']].drop(columns = ['equal shapes'])\n",
        "check_data(equal_data['X'], equal_data['y'], equal_data['name'])"
      ]
    },
    {
      "cell_type": "markdown",
      "metadata": {
        "id": "58V3wLjZjI6V"
      },
      "source": [
        "## data pipeline\n",
        "\n"
      ]
    },
    {
      "cell_type": "code",
      "execution_count": 11,
      "metadata": {
        "id": "CQOB0bz-bpPn"
      },
      "outputs": [],
      "source": [
        "# mask kernel for labels dilution\n",
        "dilution_kernel = (3,3)\n",
        "#________________________________________________________________________________\n",
        "\n",
        "# number of dilution iterations for labels dilution\n",
        "dilution_iterations = 2\n",
        "#________________________________________________________________________________\n"
      ]
    },
    {
      "cell_type": "markdown",
      "metadata": {
        "id": "A47_CTm0jz4O"
      },
      "source": [
        "### mask fix\n",
        "blacken all non-white pixels in all masks"
      ]
    },
    {
      "cell_type": "code",
      "execution_count": 12,
      "metadata": {
        "id": "KwbNXserjQsp"
      },
      "outputs": [],
      "source": [
        "# function that fix mask images with specified dilution parameters\n",
        "def fix_mask(image, dilution_kernel = dilution_kernel,\n",
        "             dilution_iterations = dilution_iterations):\n",
        "\n",
        "   thresh = image.copy()\n",
        "   thresh[thresh != 255] = 0\n",
        "   thresh_dilate = cv.dilate(thresh, \n",
        "                             kernel = dilution_kernel,\n",
        "                             iterations = dilution_iterations)\n",
        "   return thresh_dilate"
      ]
    },
    {
      "cell_type": "code",
      "execution_count": 13,
      "metadata": {
        "id": "iL7pL7yybH6s"
      },
      "outputs": [],
      "source": [
        "## fix masks \n",
        "fixed_y = equal_data['y'].apply(lambda y : fix_mask(y))\n",
        "fixed_data = equal_data.copy()\n",
        "fixed_data['y'] = fixed_y"
      ]
    },
    {
      "cell_type": "code",
      "execution_count": 14,
      "metadata": {
        "colab": {
          "base_uri": "https://localhost:8080/"
        },
        "id": "ZfuokIY6lhLo",
        "outputId": "93b8b972-dfcf-4999-e3d0-9d564631ad54"
      },
      "outputs": [
        {
          "output_type": "stream",
          "name": "stdout",
          "text": [
            "07_09_20_1_CB_151.png image is in shape (88, 88, 3)\n",
            "07_09_20_1_CB_151.png mask is in shape (88, 88, 3)\n",
            "07_09_20_1_CB_46.png image is in shape (93, 93, 3)\n",
            "07_09_20_1_CB_46.png mask is in shape (93, 93, 3)\n",
            "07_09_20_1_CB_83.png image is in shape (84, 84, 3)\n",
            "07_09_20_1_CB_83.png mask is in shape (84, 84, 3)\n",
            "07_09_20_1_CB_3.png image is in shape (81, 81, 3)\n",
            "07_09_20_1_CB_3.png mask is in shape (81, 81, 3)\n",
            "07_09_20_1_CB_19.png image is in shape (74, 74, 3)\n",
            "07_09_20_1_CB_19.png mask is in shape (74, 74, 3)\n",
            "07_09_20_1_CB_168.png image is in shape (84, 84, 3)\n",
            "07_09_20_1_CB_168.png mask is in shape (84, 84, 3)\n",
            "07_09_20_1_CB_161.png image is in shape (80, 80, 3)\n",
            "07_09_20_1_CB_161.png mask is in shape (80, 80, 3)\n",
            "07_09_20_1_CB_35.png image is in shape (87, 87, 3)\n",
            "07_09_20_1_CB_35.png mask is in shape (87, 87, 3)\n",
            "07_09_20_1_CB_174.png image is in shape (85, 85, 3)\n",
            "07_09_20_1_CB_174.png mask is in shape (85, 85, 3)\n",
            "07_09_20_1_CB_68.png image is in shape (92, 92, 3)\n",
            "07_09_20_1_CB_68.png mask is in shape (92, 92, 3)\n",
            "07_09_20_1_CB_45.png image is in shape (90, 90, 3)\n",
            "07_09_20_1_CB_45.png mask is in shape (90, 90, 3)\n",
            "07_09_20_1_CB_65.png image is in shape (86, 86, 3)\n",
            "07_09_20_1_CB_65.png mask is in shape (86, 86, 3)\n",
            "07_09_20_1_CB_107.png image is in shape (88, 88, 3)\n",
            "07_09_20_1_CB_107.png mask is in shape (88, 88, 3)\n",
            "07_09_20_1_CB_142.png image is in shape (83, 83, 3)\n",
            "07_09_20_1_CB_142.png mask is in shape (83, 83, 3)\n",
            "07_09_20_1_CB_42.png image is in shape (88, 88, 3)\n",
            "07_09_20_1_CB_42.png mask is in shape (88, 88, 3)\n",
            "07_09_20_1_CB_145.png image is in shape (85, 85, 3)\n",
            "07_09_20_1_CB_145.png mask is in shape (85, 85, 3)\n",
            "07_09_20_1_CB_165.png image is in shape (82, 82, 3)\n",
            "07_09_20_1_CB_165.png mask is in shape (82, 82, 3)\n",
            "07_09_20_1_CB_150.png image is in shape (77, 77, 3)\n",
            "07_09_20_1_CB_150.png mask is in shape (77, 77, 3)\n",
            "07_09_20_1_CB_169.png image is in shape (86, 86, 3)\n",
            "07_09_20_1_CB_169.png mask is in shape (86, 86, 3)\n",
            "07_09_20_1_CB_102.png image is in shape (84, 84, 3)\n",
            "07_09_20_1_CB_102.png mask is in shape (84, 84, 3)\n",
            "07_09_20_1_CB_25.png image is in shape (93, 93, 3)\n",
            "07_09_20_1_CB_25.png mask is in shape (93, 93, 3)\n",
            "07_09_20_1_CB_175.png image is in shape (95, 95, 3)\n",
            "07_09_20_1_CB_175.png mask is in shape (95, 95, 3)\n",
            "07_09_20_1_CB_125.png image is in shape (88, 88, 3)\n",
            "07_09_20_1_CB_125.png mask is in shape (88, 88, 3)\n",
            "07_09_20_1_CB_90.png image is in shape (92, 92, 3)\n",
            "07_09_20_1_CB_90.png mask is in shape (92, 92, 3)\n",
            "07_09_20_1_CB_173.png image is in shape (94, 94, 3)\n",
            "07_09_20_1_CB_173.png mask is in shape (94, 94, 3)\n",
            "07_09_20_1_CB_95.png image is in shape (97, 97, 3)\n",
            "07_09_20_1_CB_95.png mask is in shape (97, 97, 3)\n",
            "07_09_20_1_CB_154.png image is in shape (85, 85, 3)\n",
            "07_09_20_1_CB_154.png mask is in shape (85, 85, 3)\n",
            "07_09_20_1_CB_96.png image is in shape (75, 75, 3)\n",
            "07_09_20_1_CB_96.png mask is in shape (75, 75, 3)\n",
            "07_09_20_1_CB_79.png image is in shape (88, 88, 3)\n",
            "07_09_20_1_CB_79.png mask is in shape (88, 88, 3)\n",
            "07_09_20_1_CB_84.png image is in shape (86, 86, 3)\n",
            "07_09_20_1_CB_84.png mask is in shape (86, 86, 3)\n",
            "07_09_20_1_CB_153.png image is in shape (80, 80, 3)\n",
            "07_09_20_1_CB_153.png mask is in shape (80, 80, 3)\n",
            "07_09_20_1_CB_171.png image is in shape (80, 80, 3)\n",
            "07_09_20_1_CB_171.png mask is in shape (80, 80, 3)\n",
            "07_09_20_1_CB_29.png image is in shape (83, 83, 3)\n",
            "07_09_20_1_CB_29.png mask is in shape (83, 83, 3)\n",
            "07_09_20_1_CB_159.png image is in shape (81, 81, 3)\n",
            "07_09_20_1_CB_159.png mask is in shape (81, 81, 3)\n",
            "07_09_20_1_CB_86.png image is in shape (83, 83, 3)\n",
            "07_09_20_1_CB_86.png mask is in shape (83, 83, 3)\n",
            "07_09_20_1_CB_60.png image is in shape (97, 97, 3)\n",
            "07_09_20_1_CB_60.png mask is in shape (97, 97, 3)\n",
            "07_09_20_1_CB_144.png image is in shape (87, 87, 3)\n",
            "07_09_20_1_CB_144.png mask is in shape (87, 87, 3)\n",
            "07_09_20_1_CB_47.png image is in shape (90, 90, 3)\n",
            "07_09_20_1_CB_47.png mask is in shape (90, 90, 3)\n",
            "07_09_20_1_CB_140.png image is in shape (90, 90, 3)\n",
            "07_09_20_1_CB_140.png mask is in shape (90, 90, 3)\n",
            "07_09_20_1_CB_71.png image is in shape (92, 92, 3)\n",
            "07_09_20_1_CB_71.png mask is in shape (92, 92, 3)\n",
            "07_09_20_1_CB_33.png image is in shape (84, 84, 3)\n",
            "07_09_20_1_CB_33.png mask is in shape (84, 84, 3)\n",
            "07_09_20_1_CB_99.png image is in shape (88, 88, 3)\n",
            "07_09_20_1_CB_99.png mask is in shape (88, 88, 3)\n",
            "07_09_20_1_CB_54.png image is in shape (80, 80, 3)\n",
            "07_09_20_1_CB_54.png mask is in shape (80, 80, 3)\n",
            "07_09_20_1_CB_66.png image is in shape (90, 90, 3)\n",
            "07_09_20_1_CB_66.png mask is in shape (90, 90, 3)\n",
            "07_09_20_1_CB_32.png image is in shape (85, 84, 3)\n",
            "07_09_20_1_CB_32.png mask is in shape (85, 84, 3)\n",
            "07_09_20_1_CB_129.png image is in shape (92, 92, 3)\n",
            "07_09_20_1_CB_129.png mask is in shape (92, 92, 3)\n",
            "07_09_20_1_CB_62.png image is in shape (91, 90, 3)\n",
            "07_09_20_1_CB_62.png mask is in shape (91, 90, 3)\n",
            "07_09_20_1_CB_170.png image is in shape (91, 91, 3)\n",
            "07_09_20_1_CB_170.png mask is in shape (91, 91, 3)\n",
            "07_09_20_1_CB_87.png image is in shape (96, 96, 3)\n",
            "07_09_20_1_CB_87.png mask is in shape (96, 96, 3)\n",
            "07_09_20_1_CB_131.png image is in shape (92, 92, 3)\n",
            "07_09_20_1_CB_131.png mask is in shape (92, 92, 3)\n",
            "07_09_20_1_CB_162.png image is in shape (74, 74, 3)\n",
            "07_09_20_1_CB_162.png mask is in shape (74, 74, 3)\n",
            "07_09_20_1_CB_137.png image is in shape (93, 93, 3)\n",
            "07_09_20_1_CB_137.png mask is in shape (93, 93, 3)\n",
            "07_09_20_1_TB_70.png image is in shape (88, 88, 3)\n",
            "07_09_20_1_TB_70.png mask is in shape (88, 88, 3)\n",
            "07_09_20_1_TA_98.png image is in shape (90, 90, 3)\n",
            "07_09_20_1_TA_98.png mask is in shape (90, 90, 3)\n",
            "10_08_20_1_CA_141.png image is in shape (88, 88, 3)\n",
            "10_08_20_1_CA_141.png mask is in shape (88, 88, 3)\n",
            "10_08_20_1_CA_125.png image is in shape (96, 96, 3)\n",
            "10_08_20_1_CA_125.png mask is in shape (96, 96, 3)\n",
            "10_08_20_1_CA_259.png image is in shape (92, 92, 3)\n",
            "10_08_20_1_CA_259.png mask is in shape (92, 92, 3)\n",
            "10_08_20_1_CA_221.png image is in shape (89, 89, 3)\n",
            "10_08_20_1_CA_221.png mask is in shape (89, 89, 3)\n",
            "10_08_20_1_CA_245.png image is in shape (77, 77, 3)\n",
            "10_08_20_1_CA_245.png mask is in shape (77, 77, 3)\n",
            "10_08_20_1_CA_234.png image is in shape (84, 84, 3)\n",
            "10_08_20_1_CA_234.png mask is in shape (84, 84, 3)\n",
            "10_08_20_1_CA_265.png image is in shape (88, 88, 3)\n",
            "10_08_20_1_CA_265.png mask is in shape (88, 88, 3)\n",
            "10_08_20_1_CA_238.png image is in shape (87, 87, 3)\n",
            "10_08_20_1_CA_238.png mask is in shape (87, 87, 3)\n",
            "10_08_20_1_CA_260.png image is in shape (83, 83, 3)\n",
            "10_08_20_1_CA_260.png mask is in shape (83, 83, 3)\n",
            "10_08_20_1_CA_31.png image is in shape (86, 86, 3)\n",
            "10_08_20_1_CA_31.png mask is in shape (86, 86, 3)\n",
            "10_08_20_1_CA_296.png image is in shape (94, 94, 3)\n",
            "10_08_20_1_CA_296.png mask is in shape (94, 94, 3)\n",
            "10_08_20_1_CA_315.png image is in shape (93, 93, 3)\n",
            "10_08_20_1_CA_315.png mask is in shape (93, 93, 3)\n",
            "10_08_20_1_CA_359.png image is in shape (93, 93, 3)\n",
            "10_08_20_1_CA_359.png mask is in shape (93, 93, 3)\n",
            "10_08_20_1_CA_391.png image is in shape (91, 91, 3)\n",
            "10_08_20_1_CA_391.png mask is in shape (91, 91, 3)\n",
            "10_08_20_1_CA_44.png image is in shape (92, 92, 3)\n",
            "10_08_20_1_CA_44.png mask is in shape (92, 92, 3)\n",
            "10_08_20_1_CA_381.png image is in shape (90, 90, 3)\n",
            "10_08_20_1_CA_381.png mask is in shape (90, 90, 3)\n",
            "10_08_20_1_CA_442.png image is in shape (80, 80, 3)\n",
            "10_08_20_1_CA_442.png mask is in shape (80, 80, 3)\n",
            "10_08_20_1_CA_425.png image is in shape (91, 91, 3)\n",
            "10_08_20_1_CA_425.png mask is in shape (91, 91, 3)\n",
            "10_08_20_1_CA_367.png image is in shape (93, 93, 3)\n",
            "10_08_20_1_CA_367.png mask is in shape (93, 93, 3)\n",
            "10_08_20_1_CA_439.png image is in shape (80, 80, 3)\n",
            "10_08_20_1_CA_439.png mask is in shape (80, 80, 3)\n",
            "10_08_20_1_CA_524.png image is in shape (88, 88, 3)\n",
            "10_08_20_1_CA_524.png mask is in shape (88, 88, 3)\n",
            "10_08_20_1_CA_517.png image is in shape (75, 75, 3)\n",
            "10_08_20_1_CA_517.png mask is in shape (75, 75, 3)\n",
            "10_08_20_1_CA_510.png image is in shape (96, 96, 3)\n",
            "10_08_20_1_CA_510.png mask is in shape (96, 96, 3)\n",
            "10_08_20_1_CA_468.png image is in shape (82, 82, 3)\n",
            "10_08_20_1_CA_468.png mask is in shape (82, 82, 3)\n",
            "10_08_20_1_CA_456.png image is in shape (95, 95, 3)\n",
            "10_08_20_1_CA_456.png mask is in shape (95, 95, 3)\n",
            "10_08_20_1_CA_462.png image is in shape (92, 92, 3)\n",
            "10_08_20_1_CA_462.png mask is in shape (92, 92, 3)\n",
            "10_08_20_1_CA_489.png image is in shape (92, 92, 3)\n",
            "10_08_20_1_CA_489.png mask is in shape (92, 92, 3)\n",
            "10_08_20_1_CA_504.png image is in shape (90, 90, 3)\n",
            "10_08_20_1_CA_504.png mask is in shape (90, 90, 3)\n",
            "10_08_20_1_CA_482.png image is in shape (91, 91, 3)\n",
            "10_08_20_1_CA_482.png mask is in shape (91, 91, 3)\n",
            "10_08_20_1_CA_624.png image is in shape (94, 94, 3)\n",
            "10_08_20_1_CA_624.png mask is in shape (94, 94, 3)\n",
            "10_08_20_1_CA_578.png image is in shape (83, 83, 3)\n",
            "10_08_20_1_CA_578.png mask is in shape (83, 83, 3)\n",
            "10_08_20_1_CA_639.png image is in shape (90, 90, 3)\n",
            "10_08_20_1_CA_639.png mask is in shape (90, 90, 3)\n",
            "10_08_20_1_CA_638.png image is in shape (91, 91, 3)\n",
            "10_08_20_1_CA_638.png mask is in shape (91, 91, 3)\n",
            "10_08_20_1_CA_555.png image is in shape (92, 92, 3)\n",
            "10_08_20_1_CA_555.png mask is in shape (92, 92, 3)\n",
            "10_08_20_1_CA_677.png image is in shape (84, 84, 3)\n",
            "10_08_20_1_CA_677.png mask is in shape (84, 84, 3)\n",
            "10_08_20_1_CA_704.png image is in shape (90, 90, 3)\n",
            "10_08_20_1_CA_704.png mask is in shape (90, 90, 3)\n",
            "10_08_20_1_CA_676.png image is in shape (85, 85, 3)\n",
            "10_08_20_1_CA_676.png mask is in shape (85, 85, 3)\n",
            "10_08_20_1_CA_696.png image is in shape (93, 93, 3)\n",
            "10_08_20_1_CA_696.png mask is in shape (93, 93, 3)\n",
            "10_08_20_1_CA_89.png image is in shape (87, 87, 3)\n",
            "10_08_20_1_CA_89.png mask is in shape (87, 87, 3)\n",
            "10_08_20_1_CA_78.png image is in shape (97, 97, 3)\n",
            "10_08_20_1_CA_78.png mask is in shape (97, 97, 3)\n",
            "10_08_20_1_CA_644.png image is in shape (87, 87, 3)\n",
            "10_08_20_1_CA_644.png mask is in shape (87, 87, 3)\n",
            "10_08_20_1_CA_81.png image is in shape (93, 93, 3)\n",
            "10_08_20_1_CA_81.png mask is in shape (93, 93, 3)\n",
            "10_08_20_1_CB_127.png image is in shape (80, 80, 3)\n",
            "10_08_20_1_CB_127.png mask is in shape (80, 80, 3)\n",
            "10_08_20_1_CB_111.png image is in shape (88, 88, 3)\n",
            "10_08_20_1_CB_111.png mask is in shape (88, 88, 3)\n",
            "10_08_20_1_CB_142.png image is in shape (89, 89, 3)\n",
            "10_08_20_1_CB_142.png mask is in shape (89, 89, 3)\n",
            "10_08_20_1_CB_113.png image is in shape (94, 94, 3)\n",
            "10_08_20_1_CB_113.png mask is in shape (94, 94, 3)\n",
            "10_08_20_1_CB_159.png image is in shape (90, 90, 3)\n",
            "10_08_20_1_CB_159.png mask is in shape (90, 90, 3)\n",
            "there are 929 samples\n"
          ]
        }
      ],
      "source": [
        "check_data(fixed_data['X'], fixed_data['y'], fixed_data['name'])"
      ]
    },
    {
      "cell_type": "markdown",
      "metadata": {
        "id": "JqPRutZxcAuo"
      },
      "source": [
        "### resize to 100x100 \n",
        "by padding images and masks which are smaller\n",
        "images are padded by constant mean value while masks are padded by constant 0 (black)"
      ]
    },
    {
      "cell_type": "code",
      "execution_count": 15,
      "metadata": {
        "id": "-86JA47BcYZg"
      },
      "outputs": [],
      "source": [
        "## a function that padds the images and masks to a certain size (100X100)\n",
        "def pad_arr(arr, to_height = img_height, to_width = img_width):\n",
        "\n",
        "  # if image is not in the right size\n",
        "  if arr.shape != (img_height,img_width,3):     \n",
        "\n",
        "    # calculate padding\n",
        "    pad_size = ((0,to_height - arr.shape[0]), (0,to_width - arr.shape[1]), (0,0))\n",
        "\n",
        "    return np.pad(arr, pad_size, mode = 'reflect')\n",
        "\n",
        "  return arr"
      ]
    },
    {
      "cell_type": "code",
      "execution_count": 16,
      "metadata": {
        "id": "2bET_08xcXQv"
      },
      "outputs": [],
      "source": [
        "padd_X = fixed_data['X'].apply(lambda x : pad_arr(x))\n",
        "padd_y = fixed_data['y'].apply(lambda y : pad_arr(y))\n",
        "\n",
        "padd_data = fixed_data.copy()\n",
        "padd_data['X'] = padd_X\n",
        "padd_data['y'] = padd_y\n"
      ]
    },
    {
      "cell_type": "code",
      "execution_count": 17,
      "metadata": {
        "colab": {
          "base_uri": "https://localhost:8080/"
        },
        "id": "HAGtloDzw94-",
        "outputId": "38bfcb1e-995f-4758-df01-dae54784821e"
      },
      "outputs": [
        {
          "output_type": "stream",
          "name": "stdout",
          "text": [
            "there are 929 samples\n"
          ]
        }
      ],
      "source": [
        "check_data(padd_data['X'], padd_data['y'], padd_data['name'])"
      ]
    },
    {
      "cell_type": "markdown",
      "metadata": {
        "id": "Mez7hGRZKpmm"
      },
      "source": [
        "### normalize "
      ]
    },
    {
      "cell_type": "code",
      "execution_count": 18,
      "metadata": {
        "id": "_FGTPMffLDo1"
      },
      "outputs": [],
      "source": [
        "## axis normalization parameters\n",
        "axis_norm = (0,1)   # normalize channels independently\n",
        "# axis_norm = (0,1,2) # normalize channels jointly"
      ]
    },
    {
      "cell_type": "code",
      "execution_count": 19,
      "metadata": {
        "id": "_R4qCK9TLEas"
      },
      "outputs": [],
      "source": [
        "# normalize data - StarDist uses notmalization of (1, 99.8) \n",
        "norm_data = pd.DataFrame()\n",
        "norm_data['X'] = [normalize(x,1,99.8,axis=axis_norm).astype('float32') for x in padd_data['X']]\n",
        "norm_data['y'] = [y.astype('float32') for y in padd_data['y']]\n",
        "                "
      ]
    },
    {
      "cell_type": "code",
      "execution_count": 20,
      "metadata": {
        "id": "rSzX4sYRLlrf"
      },
      "outputs": [],
      "source": [
        "## check for unfixed masks and unequal shapes \n",
        "def check_fixed_data(X_, y_):\n",
        "\n",
        "  for X, y, ind in zip(X_, y_, range(len(X_))):\n",
        "    if (y.any() != 0) ^ (y.any() != 255):\n",
        "      print(f'{ind}# unfixed mask')\n",
        "    if y.shape != X.shape:\n",
        "      print(f'{ind}# unequal shapes')\n",
        "    if X.shape != (img_height, img_width,3):\n",
        "      print(f'{ind}# image is in shape {X.shape}')\n",
        "    if X.shape != (img_height, img_width,3):\n",
        "      print(f'{ind}# mask is in shape {y.shape}')\n",
        "\n",
        "\n",
        "  print(f'there are {ind} samples')\n",
        "  "
      ]
    },
    {
      "cell_type": "code",
      "execution_count": 21,
      "metadata": {
        "id": "mh-P-JYvwfc3"
      },
      "outputs": [],
      "source": [
        "X = list(norm_data['X'])\n",
        "y = list(norm_data['y'])"
      ]
    },
    {
      "cell_type": "code",
      "execution_count": 22,
      "metadata": {
        "colab": {
          "base_uri": "https://localhost:8080/"
        },
        "id": "HYIIFq_S8vE3",
        "outputId": "d4ddef2d-b7a4-4825-fad3-495f5da0d7b3"
      },
      "outputs": [
        {
          "output_type": "stream",
          "name": "stdout",
          "text": [
            "there are 928 samples\n"
          ]
        }
      ],
      "source": [
        "check_fixed_data(X, y)"
      ]
    },
    {
      "cell_type": "code",
      "execution_count": 23,
      "metadata": {
        "id": "eZPK_6iWw7S4"
      },
      "outputs": [],
      "source": [
        "def check_dim_shape_type(X, y):\n",
        "  # for i,j in zip(X, y):\n",
        "  #   if i.ndim != j.ndim:\n",
        "  #     print('dim', i.ndim, j.ndim)\n",
        "  #   if i.shape != j.shape:\n",
        "  #     print('shape', i.shape, j.shape)\n",
        "  print(f'dim X: {X[0].ndim}, dim y: {y[0].ndim}')\n",
        "  print(f'shape X: {X[0].shape}, shape y: {y[0].shape}')\n",
        "  print(f'type X: {X[0].dtype}, type y: {y[0].dtype}')\n",
        "  print(f'{len(X)} samples')\n",
        "      "
      ]
    },
    {
      "cell_type": "code",
      "execution_count": 24,
      "metadata": {
        "colab": {
          "base_uri": "https://localhost:8080/"
        },
        "id": "7i1-SSoWwsVw",
        "outputId": "fcfac568-cb99-4ea0-c47d-ccf2fd381662"
      },
      "outputs": [
        {
          "output_type": "stream",
          "name": "stdout",
          "text": [
            "dim X: 3, dim y: 3\n",
            "shape X: (100, 100, 3), shape y: (100, 100, 3)\n",
            "type X: float32, type y: float32\n",
            "929 samples\n"
          ]
        }
      ],
      "source": [
        "check_dim_shape_type(X, y)"
      ]
    },
    {
      "cell_type": "markdown",
      "metadata": {
        "id": "V58oYfBCKgDz"
      },
      "source": [
        "## prediction with 2D stardist model, pretrained on 2D_versatile_he dataset\n",
        "taken from https://github.com/stardist/stardist\n",
        "\n"
      ]
    },
    {
      "cell_type": "code",
      "execution_count": 25,
      "metadata": {
        "colab": {
          "base_uri": "https://localhost:8080/"
        },
        "id": "j5bJJvVuKpXl",
        "outputId": "87fea91b-ee0f-4a4e-e873-2a3d8903c3dd"
      },
      "outputs": [
        {
          "output_type": "stream",
          "name": "stdout",
          "text": [
            "Found model '2D_versatile_he' for 'StarDist2D'.\n",
            "Downloading data from https://github.com/stardist/stardist-models/releases/download/v0.1/python_2D_versatile_he.zip\n",
            "5300224/5294730 [==============================] - 0s 0us/step\n",
            "5308416/5294730 [==============================] - 0s 0us/step\n",
            "Loading network weights from 'weights_best.h5'.\n",
            "Loading thresholds from 'thresholds.json'.\n",
            "Using default values: prob_thresh=0.692478, nms_thresh=0.3.\n"
          ]
        }
      ],
      "source": [
        "## create pretraind model\n",
        "pt_model = StarDist2D.from_pretrained('2D_versatile_he')"
      ]
    },
    {
      "cell_type": "code",
      "execution_count": 26,
      "metadata": {
        "id": "-i_6T_7fHAto"
      },
      "outputs": [],
      "source": [
        "def example(model, img, msk, show_dist=True):\n",
        "\n",
        "    labels, details = model.predict_instances(img)\n",
        "    \n",
        "    # plt.figure(figsize=(13,10))\n",
        "    img_show = img if img.ndim==2 else img[...,0]\n",
        "    msk_show = msk if msk.ndim==2 else msk[...,0]\n",
        "\n",
        "    coord, points, prob = details['coord'], details['points'], details['prob']\n",
        "\n",
        "    plt.subplot(1,3, 1); plt.imshow(img_show, cmap='gray'); plt.axis('off') ; plt.title('prediction')\n",
        "    a = plt.axis()\n",
        "    _draw_polygons(coord, points, prob, show_dist=show_dist)\n",
        "    plt.axis(a)\n",
        "\n",
        "    plt.subplot(1,3,2); plt.imshow(img_show, cmap='gray'); plt.axis('off') ; plt.title('image')\n",
        "    # plt.imshow(labels, cmap= 'tab20c', alpha=0.5)\n",
        "    plt.tight_layout()\n",
        "\n",
        "    plt.subplot(1,3,3); plt.imshow(msk_show, cmap='gray'); plt.axis('off') ; plt.title('true mask')\n",
        "    # plt.imshow(labels, cmap= 'tab20c', alpha=0.5)\n",
        "    plt.tight_layout()\n",
        "    plt.show()"
      ]
    },
    {
      "cell_type": "code",
      "execution_count": 27,
      "metadata": {
        "colab": {
          "base_uri": "https://localhost:8080/",
          "height": 998
        },
        "id": "WsPmtSVaLpWt",
        "outputId": "0df62d94-8d1b-4725-c627-ebb4a6b3ac1c"
      },
      "outputs": [
        {
          "output_type": "stream",
          "name": "stdout",
          "text": [
            "#720, image shape: (100, 100, 3), mask shape: (100, 100, 3)\n",
            "#720, image type: float32, mask type: float32\n"
          ]
        },
        {
          "output_type": "display_data",
          "data": {
            "text/plain": [
              "<Figure size 432x288 with 3 Axes>"
            ],
            "image/png": "[encoded data removed]"
          },
          "metadata": {
            "needs_background": "light"
          }
        },
        {
          "output_type": "stream",
          "name": "stdout",
          "text": [
            "#546, image shape: (100, 100, 3), mask shape: (100, 100, 3)\n",
            "#546, image type: float32, mask type: float32\n"
          ]
        },
        {
          "output_type": "display_data",
          "data": {
            "text/plain": [
              "<Figure size 432x288 with 3 Axes>"
            ],
            "image/png": "[encoded data removed]"
          },
          "metadata": {
            "needs_background": "light"
          }
        },
        {
          "output_type": "stream",
          "name": "stdout",
          "text": [
            "#195, image shape: (100, 100, 3), mask shape: (100, 100, 3)\n",
            "#195, image type: float32, mask type: float32\n"
          ]
        },
        {
          "output_type": "display_data",
          "data": {
            "text/plain": [
              "<Figure size 432x288 with 3 Axes>"
            ],
            "image/png": "[encoded data removed]"
          },
          "metadata": {
            "needs_background": "light"
          }
        },
        {
          "output_type": "stream",
          "name": "stdout",
          "text": [
            "#696, image shape: (100, 100, 3), mask shape: (100, 100, 3)\n",
            "#696, image type: float32, mask type: float32\n"
          ]
        },
        {
          "output_type": "display_data",
          "data": {
            "text/plain": [
              "<Figure size 432x288 with 3 Axes>"
            ],
            "image/png": "[encoded data removed]"
          },
          "metadata": {
            "needs_background": "light"
          }
        },
        {
          "output_type": "stream",
          "name": "stdout",
          "text": [
            "#695, image shape: (100, 100, 3), mask shape: (100, 100, 3)\n",
            "#695, image type: float32, mask type: float32\n"
          ]
        },
        {
          "output_type": "display_data",
          "data": {
            "text/plain": [
              "<Figure size 432x288 with 3 Axes>"
            ],
            "image/png": "[encoded data removed]"
          },
          "metadata": {
            "needs_background": "light"
          }
        }
      ],
      "source": [
        "## show predictions examples\n",
        "sample_index_lst = sample(list(range(len(X))), 5)\n",
        "\n",
        "for ind in sample_index_lst:\n",
        "  img = X[ind]\n",
        "  msk = y[ind]\n",
        "  print(f'#{ind}, image shape: {img.shape}, mask shape: {msk.shape}')\n",
        "  print(f'#{ind}, image type: {img.dtype}, mask type: {msk.dtype}')\n",
        "  example(pt_model,img,msk,show_dist=True)"
      ]
    },
    {
      "cell_type": "code",
      "execution_count": 28,
      "metadata": {
        "id": "MrDxH6UkS8wQ"
      },
      "outputs": [],
      "source": [
        "## make predictions\n",
        "y_pred = np.array([pt_model.predict_instances(x, n_tiles=pt_model._guess_n_tiles(x), show_tile_progress=False)[0]\n",
        "              for x in X], dtype = int)"
      ]
    },
    {
      "cell_type": "markdown",
      "metadata": {
        "id": "6lKEPznbJcE9"
      },
      "source": [
        "## model evaluation"
      ]
    },
    {
      "cell_type": "code",
      "execution_count": 29,
      "metadata": {
        "id": "RQrFW2Fp6OZN"
      },
      "outputs": [],
      "source": [
        "## make y_1c as array of one channel arrays of intigers \n",
        "# (this transformation is needed for matching the requirement input for 'matching_dataset' function,\n",
        "# y_1c is similar to y but with dtype = int and in shape of (100,100))\n",
        "y_1c = [np.array(y_[:,:,0], dtype = int) for y_ in y]"
      ]
    },
    {
      "cell_type": "code",
      "execution_count": 40,
      "metadata": {
        "id": "ABdy3k43Uea1"
      },
      "outputs": [],
      "source": [
        "def compute_iou(y_pred, y_true):\n",
        "  ious_0 = []\n",
        "  ious_1 = []\n",
        "  ious = []\n",
        "  for i,j in zip(y_pred, y_true):\n",
        "    pred = np.array(i > 0, dtype = int)\n",
        "    true = np.array(j == 255, dtype = int)\n",
        "\n",
        "    # ytrue, ypred is a flatten vector\n",
        "    pred_ = pred.flatten()\n",
        "    true_ = true.flatten()\n",
        "\n",
        "    labels = [0, 1]\n",
        "    jaccards = []\n",
        "\n",
        "    jaccard_0 = jaccard_score(pred_.flatten(),true_.flatten(), pos_label=0)\n",
        "    jaccard_1 = jaccard_score(pred_.flatten(),true_.flatten(), pos_label=1)\n",
        "    \n",
        "    ious_0.append(jaccard_0)\n",
        "    ious_1.append(jaccard_1)\n",
        "    ious.append((jaccard_0 + jaccard_1)/2)\n",
        "\n",
        "  iou_0 = np.mean(jaccard_0)\n",
        "  iou_1 = np.mean(jaccard_1)\n",
        "  \n",
        "  print(f'mean IoU of background: {np.mean(iou_0)}')\n",
        "  print(f'median IoU of background: {np.median(iou_0)}')\n",
        "\n",
        "  plt.hist(ious_0) ; plt.title('background IoU') ; plt.xlabel('sample Jaccard score') ; plt.ylabel('number of samples')\n",
        "  plt.show()\n",
        "\n",
        "  print(f'mean IoU of spores: {np.mean(iou_1)}')\n",
        "  print(f'median IoU of spores: {np.median(iou_1)}')\n",
        "\n",
        "  plt.hist(ious_1) ; plt.title('spores IoU') ; plt.xlabel('sample Jaccard score') ; plt.ylabel('number of samples')\n",
        "  plt.show()\n",
        "\n",
        "  print(f'mean IoU: {np.mean(ious)}')\n",
        "  print(f'median IoU: {np.median(ious)}')\n",
        "\n",
        "  plt.hist(ious) ; plt.title('model IoU') ; plt.xlabel('sample Jaccard score') ; plt.ylabel('number of samples')\n",
        "  plt.show()\n"
      ]
    },
    {
      "cell_type": "code",
      "execution_count": 41,
      "metadata": {
        "colab": {
          "base_uri": "https://localhost:8080/",
          "height": 959
        },
        "id": "cYN3ybHHVijl",
        "outputId": "1e60c383-45a2-4bd9-b7c8-044f05a93104"
      },
      "outputs": [
        {
          "output_type": "stream",
          "name": "stdout",
          "text": [
            "mean IoU of background: 0.9817997977755308\n",
            "median IoU of background: 0.9817997977755308\n"
          ]
        },
        {
          "output_type": "display_data",
          "data": {
            "text/plain": [
              "<Figure size 432x288 with 1 Axes>"
            ],
            "image/png": "[encoded data removed]"
          },
          "metadata": {
            "needs_background": "light"
          }
        },
        {
          "output_type": "stream",
          "name": "stdout",
          "text": [
            "mean IoU of spores: 0.3793103448275862\n",
            "median IoU of spores: 0.3793103448275862\n"
          ]
        },
        {
          "output_type": "display_data",
          "data": {
            "text/plain": [
              "<Figure size 432x288 with 1 Axes>"
            ],
            "image/png": "[encoded data removed]"
          },
          "metadata": {
            "needs_background": "light"
          }
        },
        {
          "output_type": "stream",
          "name": "stdout",
          "text": [
            "mean IoU: 0.6213720463983281\n",
            "median IoU: 0.5999980371801694\n"
          ]
        },
        {
          "output_type": "display_data",
          "data": {
            "text/plain": [
              "<Figure size 432x288 with 1 Axes>"
            ],
            "image/png": "[encoded data removed]"
          },
          "metadata": {
            "needs_background": "light"
          }
        }
      ],
      "source": [
        "compute_iou(y_pred, y_1c)"
      ]
    },
    {
      "cell_type": "code",
      "source": [
        ""
      ],
      "metadata": {
        "id": "MEKxV7XIRoFD"
      },
      "execution_count": null,
      "outputs": []
    }
  ],
  "metadata": {
    "colab": {
      "collapsed_sections": [
        "jxDK5bFjU1bB",
        "58V3wLjZjI6V",
        "A47_CTm0jz4O",
        "JqPRutZxcAuo",
        "6lKEPznbJcE9"
      ],
      "name": "prediction of StarDist trained on 2D_versatile_he dataset.ipynb",
      "toc_visible": true,
      "provenance": []
    },
    "kernelspec": {
      "display_name": "Python 3",
      "name": "python3"
    },
    "language_info": {
      "name": "python"
    }
  },
  "nbformat": 4,
  "nbformat_minor": 0
}